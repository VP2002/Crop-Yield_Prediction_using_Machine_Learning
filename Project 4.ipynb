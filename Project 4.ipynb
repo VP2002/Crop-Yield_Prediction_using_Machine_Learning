{
 "cells": [
  {
   "cell_type": "markdown",
   "id": "d23ac43f",
   "metadata": {},
   "source": [
    "# Project 4\n",
    "# Crop Yield Prediction using Machine Learning\n",
    "\n",
    "**Create a ML Model that takes all the above factors in\n",
    "consideration and give predictions/prescriptions that would help farmers\n",
    "to increase their crop productivity, and hence gain more profit by being\n",
    "more productive.**\n"
   ]
  },
  {
   "cell_type": "code",
   "execution_count": null,
   "id": "4fc5e24e",
   "metadata": {},
   "outputs": [],
   "source": [
    "#import standard libraries\n",
    "\n",
    "import numpy as np\n",
    "import pandas as pd\n",
    "import matplotlib.pyplot as plt\n",
    "import seaborn as sns"
   ]
  },
  {
   "cell_type": "code",
   "execution_count": 19,
   "id": "aeea82ce",
   "metadata": {},
   "outputs": [
    {
     "data": {
      "text/html": [
       "<div>\n",
       "<style scoped>\n",
       "    .dataframe tbody tr th:only-of-type {\n",
       "        vertical-align: middle;\n",
       "    }\n",
       "\n",
       "    .dataframe tbody tr th {\n",
       "        vertical-align: top;\n",
       "    }\n",
       "\n",
       "    .dataframe thead th {\n",
       "        text-align: right;\n",
       "    }\n",
       "</style>\n",
       "<table border=\"1\" class=\"dataframe\">\n",
       "  <thead>\n",
       "    <tr style=\"text-align: right;\">\n",
       "      <th></th>\n",
       "      <th>State_Name</th>\n",
       "      <th>District_Name</th>\n",
       "      <th>Crop_Year</th>\n",
       "      <th>Season</th>\n",
       "      <th>Crop</th>\n",
       "      <th>Area</th>\n",
       "      <th>Production</th>\n",
       "    </tr>\n",
       "  </thead>\n",
       "  <tbody>\n",
       "    <tr>\n",
       "      <th>0</th>\n",
       "      <td>Andaman and Nicobar Islands</td>\n",
       "      <td>NICOBARS</td>\n",
       "      <td>2000</td>\n",
       "      <td>Kharif</td>\n",
       "      <td>Arecanut</td>\n",
       "      <td>1254.0</td>\n",
       "      <td>2000.0</td>\n",
       "    </tr>\n",
       "    <tr>\n",
       "      <th>1</th>\n",
       "      <td>Andaman and Nicobar Islands</td>\n",
       "      <td>NICOBARS</td>\n",
       "      <td>2000</td>\n",
       "      <td>Kharif</td>\n",
       "      <td>Other Kharif pulses</td>\n",
       "      <td>2.0</td>\n",
       "      <td>1.0</td>\n",
       "    </tr>\n",
       "    <tr>\n",
       "      <th>2</th>\n",
       "      <td>Andaman and Nicobar Islands</td>\n",
       "      <td>NICOBARS</td>\n",
       "      <td>2000</td>\n",
       "      <td>Kharif</td>\n",
       "      <td>Rice</td>\n",
       "      <td>102.0</td>\n",
       "      <td>321.0</td>\n",
       "    </tr>\n",
       "    <tr>\n",
       "      <th>3</th>\n",
       "      <td>Andaman and Nicobar Islands</td>\n",
       "      <td>NICOBARS</td>\n",
       "      <td>2000</td>\n",
       "      <td>Whole Year</td>\n",
       "      <td>Banana</td>\n",
       "      <td>176.0</td>\n",
       "      <td>641.0</td>\n",
       "    </tr>\n",
       "    <tr>\n",
       "      <th>4</th>\n",
       "      <td>Andaman and Nicobar Islands</td>\n",
       "      <td>NICOBARS</td>\n",
       "      <td>2000</td>\n",
       "      <td>Whole Year</td>\n",
       "      <td>Cashewnut</td>\n",
       "      <td>720.0</td>\n",
       "      <td>165.0</td>\n",
       "    </tr>\n",
       "    <tr>\n",
       "      <th>...</th>\n",
       "      <td>...</td>\n",
       "      <td>...</td>\n",
       "      <td>...</td>\n",
       "      <td>...</td>\n",
       "      <td>...</td>\n",
       "      <td>...</td>\n",
       "      <td>...</td>\n",
       "    </tr>\n",
       "    <tr>\n",
       "      <th>246086</th>\n",
       "      <td>West Bengal</td>\n",
       "      <td>PURULIA</td>\n",
       "      <td>2014</td>\n",
       "      <td>Summer</td>\n",
       "      <td>Rice</td>\n",
       "      <td>306.0</td>\n",
       "      <td>801.0</td>\n",
       "    </tr>\n",
       "    <tr>\n",
       "      <th>246087</th>\n",
       "      <td>West Bengal</td>\n",
       "      <td>PURULIA</td>\n",
       "      <td>2014</td>\n",
       "      <td>Summer</td>\n",
       "      <td>Sesamum</td>\n",
       "      <td>627.0</td>\n",
       "      <td>463.0</td>\n",
       "    </tr>\n",
       "    <tr>\n",
       "      <th>246088</th>\n",
       "      <td>West Bengal</td>\n",
       "      <td>PURULIA</td>\n",
       "      <td>2014</td>\n",
       "      <td>Whole Year</td>\n",
       "      <td>Sugarcane</td>\n",
       "      <td>324.0</td>\n",
       "      <td>16250.0</td>\n",
       "    </tr>\n",
       "    <tr>\n",
       "      <th>246089</th>\n",
       "      <td>West Bengal</td>\n",
       "      <td>PURULIA</td>\n",
       "      <td>2014</td>\n",
       "      <td>Winter</td>\n",
       "      <td>Rice</td>\n",
       "      <td>279151.0</td>\n",
       "      <td>597899.0</td>\n",
       "    </tr>\n",
       "    <tr>\n",
       "      <th>246090</th>\n",
       "      <td>West Bengal</td>\n",
       "      <td>PURULIA</td>\n",
       "      <td>2014</td>\n",
       "      <td>Winter</td>\n",
       "      <td>Sesamum</td>\n",
       "      <td>175.0</td>\n",
       "      <td>88.0</td>\n",
       "    </tr>\n",
       "  </tbody>\n",
       "</table>\n",
       "<p>246091 rows × 7 columns</p>\n",
       "</div>"
      ],
      "text/plain": [
       "                         State_Name District_Name  Crop_Year       Season  \\\n",
       "0       Andaman and Nicobar Islands      NICOBARS       2000  Kharif        \n",
       "1       Andaman and Nicobar Islands      NICOBARS       2000  Kharif        \n",
       "2       Andaman and Nicobar Islands      NICOBARS       2000  Kharif        \n",
       "3       Andaman and Nicobar Islands      NICOBARS       2000  Whole Year    \n",
       "4       Andaman and Nicobar Islands      NICOBARS       2000  Whole Year    \n",
       "...                             ...           ...        ...          ...   \n",
       "246086                  West Bengal       PURULIA       2014  Summer        \n",
       "246087                  West Bengal       PURULIA       2014  Summer        \n",
       "246088                  West Bengal       PURULIA       2014  Whole Year    \n",
       "246089                  West Bengal       PURULIA       2014  Winter        \n",
       "246090                  West Bengal       PURULIA       2014  Winter        \n",
       "\n",
       "                       Crop      Area  Production  \n",
       "0                  Arecanut    1254.0      2000.0  \n",
       "1       Other Kharif pulses       2.0         1.0  \n",
       "2                      Rice     102.0       321.0  \n",
       "3                    Banana     176.0       641.0  \n",
       "4                 Cashewnut     720.0       165.0  \n",
       "...                     ...       ...         ...  \n",
       "246086                 Rice     306.0       801.0  \n",
       "246087              Sesamum     627.0       463.0  \n",
       "246088            Sugarcane     324.0     16250.0  \n",
       "246089                 Rice  279151.0    597899.0  \n",
       "246090              Sesamum     175.0        88.0  \n",
       "\n",
       "[246091 rows x 7 columns]"
      ]
     },
     "execution_count": 19,
     "metadata": {},
     "output_type": "execute_result"
    }
   ],
   "source": [
    "# state wise major crop production\n",
    "\n",
    "crop=pd.read_csv(\"crop_production.csv\")\n",
    "crop"
   ]
  },
  {
   "cell_type": "markdown",
   "id": "0d873be8",
   "metadata": {},
   "source": [
    "# Data Pre-processing\n"
   ]
  },
  {
   "cell_type": "code",
   "execution_count": 20,
   "id": "dbc8e2c1",
   "metadata": {},
   "outputs": [
    {
     "data": {
      "text/plain": [
       "(246091, 7)"
      ]
     },
     "execution_count": 20,
     "metadata": {},
     "output_type": "execute_result"
    }
   ],
   "source": [
    "crop.shape"
   ]
  },
  {
   "cell_type": "code",
   "execution_count": 21,
   "id": "88d1ae75",
   "metadata": {},
   "outputs": [
    {
     "name": "stdout",
     "output_type": "stream",
     "text": [
      "<class 'pandas.core.frame.DataFrame'>\n",
      "RangeIndex: 246091 entries, 0 to 246090\n",
      "Data columns (total 7 columns):\n",
      " #   Column         Non-Null Count   Dtype  \n",
      "---  ------         --------------   -----  \n",
      " 0   State_Name     246091 non-null  object \n",
      " 1   District_Name  246091 non-null  object \n",
      " 2   Crop_Year      246091 non-null  int64  \n",
      " 3   Season         246091 non-null  object \n",
      " 4   Crop           246091 non-null  object \n",
      " 5   Area           246091 non-null  float64\n",
      " 6   Production     242361 non-null  float64\n",
      "dtypes: float64(2), int64(1), object(4)\n",
      "memory usage: 13.1+ MB\n"
     ]
    }
   ],
   "source": [
    "crop.info()"
   ]
  },
  {
   "cell_type": "code",
   "execution_count": 22,
   "id": "805af501",
   "metadata": {},
   "outputs": [
    {
     "data": {
      "text/html": [
       "<div>\n",
       "<style scoped>\n",
       "    .dataframe tbody tr th:only-of-type {\n",
       "        vertical-align: middle;\n",
       "    }\n",
       "\n",
       "    .dataframe tbody tr th {\n",
       "        vertical-align: top;\n",
       "    }\n",
       "\n",
       "    .dataframe thead th {\n",
       "        text-align: right;\n",
       "    }\n",
       "</style>\n",
       "<table border=\"1\" class=\"dataframe\">\n",
       "  <thead>\n",
       "    <tr style=\"text-align: right;\">\n",
       "      <th></th>\n",
       "      <th>Crop_Year</th>\n",
       "      <th>Area</th>\n",
       "      <th>Production</th>\n",
       "    </tr>\n",
       "  </thead>\n",
       "  <tbody>\n",
       "    <tr>\n",
       "      <th>count</th>\n",
       "      <td>246091.000000</td>\n",
       "      <td>2.460910e+05</td>\n",
       "      <td>2.423610e+05</td>\n",
       "    </tr>\n",
       "    <tr>\n",
       "      <th>mean</th>\n",
       "      <td>2005.643018</td>\n",
       "      <td>1.200282e+04</td>\n",
       "      <td>5.825034e+05</td>\n",
       "    </tr>\n",
       "    <tr>\n",
       "      <th>std</th>\n",
       "      <td>4.952164</td>\n",
       "      <td>5.052340e+04</td>\n",
       "      <td>1.706581e+07</td>\n",
       "    </tr>\n",
       "    <tr>\n",
       "      <th>min</th>\n",
       "      <td>1997.000000</td>\n",
       "      <td>4.000000e-02</td>\n",
       "      <td>0.000000e+00</td>\n",
       "    </tr>\n",
       "    <tr>\n",
       "      <th>25%</th>\n",
       "      <td>2002.000000</td>\n",
       "      <td>8.000000e+01</td>\n",
       "      <td>8.800000e+01</td>\n",
       "    </tr>\n",
       "    <tr>\n",
       "      <th>50%</th>\n",
       "      <td>2006.000000</td>\n",
       "      <td>5.820000e+02</td>\n",
       "      <td>7.290000e+02</td>\n",
       "    </tr>\n",
       "    <tr>\n",
       "      <th>75%</th>\n",
       "      <td>2010.000000</td>\n",
       "      <td>4.392000e+03</td>\n",
       "      <td>7.023000e+03</td>\n",
       "    </tr>\n",
       "    <tr>\n",
       "      <th>max</th>\n",
       "      <td>2015.000000</td>\n",
       "      <td>8.580100e+06</td>\n",
       "      <td>1.250800e+09</td>\n",
       "    </tr>\n",
       "  </tbody>\n",
       "</table>\n",
       "</div>"
      ],
      "text/plain": [
       "           Crop_Year          Area    Production\n",
       "count  246091.000000  2.460910e+05  2.423610e+05\n",
       "mean     2005.643018  1.200282e+04  5.825034e+05\n",
       "std         4.952164  5.052340e+04  1.706581e+07\n",
       "min      1997.000000  4.000000e-02  0.000000e+00\n",
       "25%      2002.000000  8.000000e+01  8.800000e+01\n",
       "50%      2006.000000  5.820000e+02  7.290000e+02\n",
       "75%      2010.000000  4.392000e+03  7.023000e+03\n",
       "max      2015.000000  8.580100e+06  1.250800e+09"
      ]
     },
     "execution_count": 22,
     "metadata": {},
     "output_type": "execute_result"
    }
   ],
   "source": [
    "crop.describe()"
   ]
  },
  {
   "cell_type": "code",
   "execution_count": 23,
   "id": "2306dbe3",
   "metadata": {},
   "outputs": [
    {
     "data": {
      "text/plain": [
       "Index(['State_Name', 'District_Name', 'Crop_Year', 'Season', 'Crop', 'Area',\n",
       "       'Production'],\n",
       "      dtype='object')"
      ]
     },
     "execution_count": 23,
     "metadata": {},
     "output_type": "execute_result"
    }
   ],
   "source": [
    "crop.columns"
   ]
  },
  {
   "cell_type": "code",
   "execution_count": 24,
   "id": "52b94b1b",
   "metadata": {},
   "outputs": [
    {
     "data": {
      "text/plain": [
       "State_Name          0\n",
       "District_Name       0\n",
       "Crop_Year           0\n",
       "Season              0\n",
       "Crop                0\n",
       "Area                0\n",
       "Production       3730\n",
       "dtype: int64"
      ]
     },
     "execution_count": 24,
     "metadata": {},
     "output_type": "execute_result"
    }
   ],
   "source": [
    "crop.isnull().sum()"
   ]
  },
  {
   "cell_type": "code",
   "execution_count": 25,
   "id": "e71a47d0",
   "metadata": {},
   "outputs": [],
   "source": [
    "crop.dropna(inplace=True) # looking at the data we can drop the null values as they are less in number."
   ]
  },
  {
   "cell_type": "code",
   "execution_count": 26,
   "id": "27daefb1",
   "metadata": {},
   "outputs": [
    {
     "data": {
      "text/html": [
       "<div>\n",
       "<style scoped>\n",
       "    .dataframe tbody tr th:only-of-type {\n",
       "        vertical-align: middle;\n",
       "    }\n",
       "\n",
       "    .dataframe tbody tr th {\n",
       "        vertical-align: top;\n",
       "    }\n",
       "\n",
       "    .dataframe thead th {\n",
       "        text-align: right;\n",
       "    }\n",
       "</style>\n",
       "<table border=\"1\" class=\"dataframe\">\n",
       "  <thead>\n",
       "    <tr style=\"text-align: right;\">\n",
       "      <th></th>\n",
       "      <th>State_Name</th>\n",
       "      <th>District_Name</th>\n",
       "      <th>Crop_Year</th>\n",
       "      <th>Season</th>\n",
       "      <th>Crop</th>\n",
       "      <th>Area</th>\n",
       "      <th>Production</th>\n",
       "    </tr>\n",
       "  </thead>\n",
       "  <tbody>\n",
       "    <tr>\n",
       "      <th>0</th>\n",
       "      <td>Andaman and Nicobar Islands</td>\n",
       "      <td>NICOBARS</td>\n",
       "      <td>2000</td>\n",
       "      <td>Kharif</td>\n",
       "      <td>Arecanut</td>\n",
       "      <td>1254.0</td>\n",
       "      <td>2000.0</td>\n",
       "    </tr>\n",
       "    <tr>\n",
       "      <th>1</th>\n",
       "      <td>Andaman and Nicobar Islands</td>\n",
       "      <td>NICOBARS</td>\n",
       "      <td>2000</td>\n",
       "      <td>Kharif</td>\n",
       "      <td>Other Kharif pulses</td>\n",
       "      <td>2.0</td>\n",
       "      <td>1.0</td>\n",
       "    </tr>\n",
       "    <tr>\n",
       "      <th>2</th>\n",
       "      <td>Andaman and Nicobar Islands</td>\n",
       "      <td>NICOBARS</td>\n",
       "      <td>2000</td>\n",
       "      <td>Kharif</td>\n",
       "      <td>Rice</td>\n",
       "      <td>102.0</td>\n",
       "      <td>321.0</td>\n",
       "    </tr>\n",
       "    <tr>\n",
       "      <th>3</th>\n",
       "      <td>Andaman and Nicobar Islands</td>\n",
       "      <td>NICOBARS</td>\n",
       "      <td>2000</td>\n",
       "      <td>Whole Year</td>\n",
       "      <td>Banana</td>\n",
       "      <td>176.0</td>\n",
       "      <td>641.0</td>\n",
       "    </tr>\n",
       "    <tr>\n",
       "      <th>4</th>\n",
       "      <td>Andaman and Nicobar Islands</td>\n",
       "      <td>NICOBARS</td>\n",
       "      <td>2000</td>\n",
       "      <td>Whole Year</td>\n",
       "      <td>Cashewnut</td>\n",
       "      <td>720.0</td>\n",
       "      <td>165.0</td>\n",
       "    </tr>\n",
       "  </tbody>\n",
       "</table>\n",
       "</div>"
      ],
      "text/plain": [
       "                    State_Name District_Name  Crop_Year       Season  \\\n",
       "0  Andaman and Nicobar Islands      NICOBARS       2000  Kharif        \n",
       "1  Andaman and Nicobar Islands      NICOBARS       2000  Kharif        \n",
       "2  Andaman and Nicobar Islands      NICOBARS       2000  Kharif        \n",
       "3  Andaman and Nicobar Islands      NICOBARS       2000  Whole Year    \n",
       "4  Andaman and Nicobar Islands      NICOBARS       2000  Whole Year    \n",
       "\n",
       "                  Crop    Area  Production  \n",
       "0             Arecanut  1254.0      2000.0  \n",
       "1  Other Kharif pulses     2.0         1.0  \n",
       "2                 Rice   102.0       321.0  \n",
       "3               Banana   176.0       641.0  \n",
       "4            Cashewnut   720.0       165.0  "
      ]
     },
     "execution_count": 26,
     "metadata": {},
     "output_type": "execute_result"
    }
   ],
   "source": [
    "crop.head()"
   ]
  },
  {
   "cell_type": "code",
   "execution_count": 27,
   "id": "f0cd6ca9",
   "metadata": {},
   "outputs": [
    {
     "data": {
      "text/html": [
       "<div>\n",
       "<style scoped>\n",
       "    .dataframe tbody tr th:only-of-type {\n",
       "        vertical-align: middle;\n",
       "    }\n",
       "\n",
       "    .dataframe tbody tr th {\n",
       "        vertical-align: top;\n",
       "    }\n",
       "\n",
       "    .dataframe thead th {\n",
       "        text-align: right;\n",
       "    }\n",
       "</style>\n",
       "<table border=\"1\" class=\"dataframe\">\n",
       "  <thead>\n",
       "    <tr style=\"text-align: right;\">\n",
       "      <th></th>\n",
       "      <th>State_Name</th>\n",
       "      <th>District_Name</th>\n",
       "      <th>Crop_Year</th>\n",
       "      <th>Season</th>\n",
       "      <th>Crop</th>\n",
       "      <th>Area</th>\n",
       "      <th>Production</th>\n",
       "    </tr>\n",
       "  </thead>\n",
       "  <tbody>\n",
       "    <tr>\n",
       "      <th>246086</th>\n",
       "      <td>West Bengal</td>\n",
       "      <td>PURULIA</td>\n",
       "      <td>2014</td>\n",
       "      <td>Summer</td>\n",
       "      <td>Rice</td>\n",
       "      <td>306.0</td>\n",
       "      <td>801.0</td>\n",
       "    </tr>\n",
       "    <tr>\n",
       "      <th>246087</th>\n",
       "      <td>West Bengal</td>\n",
       "      <td>PURULIA</td>\n",
       "      <td>2014</td>\n",
       "      <td>Summer</td>\n",
       "      <td>Sesamum</td>\n",
       "      <td>627.0</td>\n",
       "      <td>463.0</td>\n",
       "    </tr>\n",
       "    <tr>\n",
       "      <th>246088</th>\n",
       "      <td>West Bengal</td>\n",
       "      <td>PURULIA</td>\n",
       "      <td>2014</td>\n",
       "      <td>Whole Year</td>\n",
       "      <td>Sugarcane</td>\n",
       "      <td>324.0</td>\n",
       "      <td>16250.0</td>\n",
       "    </tr>\n",
       "    <tr>\n",
       "      <th>246089</th>\n",
       "      <td>West Bengal</td>\n",
       "      <td>PURULIA</td>\n",
       "      <td>2014</td>\n",
       "      <td>Winter</td>\n",
       "      <td>Rice</td>\n",
       "      <td>279151.0</td>\n",
       "      <td>597899.0</td>\n",
       "    </tr>\n",
       "    <tr>\n",
       "      <th>246090</th>\n",
       "      <td>West Bengal</td>\n",
       "      <td>PURULIA</td>\n",
       "      <td>2014</td>\n",
       "      <td>Winter</td>\n",
       "      <td>Sesamum</td>\n",
       "      <td>175.0</td>\n",
       "      <td>88.0</td>\n",
       "    </tr>\n",
       "  </tbody>\n",
       "</table>\n",
       "</div>"
      ],
      "text/plain": [
       "         State_Name District_Name  Crop_Year       Season       Crop  \\\n",
       "246086  West Bengal       PURULIA       2014  Summer            Rice   \n",
       "246087  West Bengal       PURULIA       2014  Summer         Sesamum   \n",
       "246088  West Bengal       PURULIA       2014  Whole Year   Sugarcane   \n",
       "246089  West Bengal       PURULIA       2014  Winter            Rice   \n",
       "246090  West Bengal       PURULIA       2014  Winter         Sesamum   \n",
       "\n",
       "            Area  Production  \n",
       "246086     306.0       801.0  \n",
       "246087     627.0       463.0  \n",
       "246088     324.0     16250.0  \n",
       "246089  279151.0    597899.0  \n",
       "246090     175.0        88.0  "
      ]
     },
     "execution_count": 27,
     "metadata": {},
     "output_type": "execute_result"
    }
   ],
   "source": [
    "crop.tail()"
   ]
  },
  {
   "cell_type": "markdown",
   "id": "c5a2674a",
   "metadata": {},
   "source": [
    "# EDA "
   ]
  },
  {
   "cell_type": "markdown",
   "id": "0e44dc98",
   "metadata": {},
   "source": [
    "**Overall Crop production by each state**"
   ]
  },
  {
   "cell_type": "code",
   "execution_count": 28,
   "id": "083dbbc2",
   "metadata": {},
   "outputs": [
    {
     "data": {
      "text/html": [
       "<div>\n",
       "<style scoped>\n",
       "    .dataframe tbody tr th:only-of-type {\n",
       "        vertical-align: middle;\n",
       "    }\n",
       "\n",
       "    .dataframe tbody tr th {\n",
       "        vertical-align: top;\n",
       "    }\n",
       "\n",
       "    .dataframe thead th {\n",
       "        text-align: right;\n",
       "    }\n",
       "</style>\n",
       "<table border=\"1\" class=\"dataframe\">\n",
       "  <thead>\n",
       "    <tr style=\"text-align: right;\">\n",
       "      <th></th>\n",
       "      <th>State_Name</th>\n",
       "      <th>Production</th>\n",
       "    </tr>\n",
       "  </thead>\n",
       "  <tbody>\n",
       "    <tr>\n",
       "      <th>15</th>\n",
       "      <td>Kerala</td>\n",
       "      <td>9.788005e+10</td>\n",
       "    </tr>\n",
       "    <tr>\n",
       "      <th>1</th>\n",
       "      <td>Andhra Pradesh</td>\n",
       "      <td>1.732459e+10</td>\n",
       "    </tr>\n",
       "    <tr>\n",
       "      <th>27</th>\n",
       "      <td>Tamil Nadu</td>\n",
       "      <td>1.207644e+10</td>\n",
       "    </tr>\n",
       "    <tr>\n",
       "      <th>30</th>\n",
       "      <td>Uttar Pradesh</td>\n",
       "      <td>3.234493e+09</td>\n",
       "    </tr>\n",
       "    <tr>\n",
       "      <th>3</th>\n",
       "      <td>Assam</td>\n",
       "      <td>2.111752e+09</td>\n",
       "    </tr>\n",
       "    <tr>\n",
       "      <th>32</th>\n",
       "      <td>West Bengal</td>\n",
       "      <td>1.397904e+09</td>\n",
       "    </tr>\n",
       "    <tr>\n",
       "      <th>17</th>\n",
       "      <td>Maharashtra</td>\n",
       "      <td>1.263641e+09</td>\n",
       "    </tr>\n",
       "    <tr>\n",
       "      <th>14</th>\n",
       "      <td>Karnataka</td>\n",
       "      <td>8.634298e+08</td>\n",
       "    </tr>\n",
       "    <tr>\n",
       "      <th>0</th>\n",
       "      <td>Andaman and Nicobar Islands</td>\n",
       "      <td>7.182232e+08</td>\n",
       "    </tr>\n",
       "    <tr>\n",
       "      <th>24</th>\n",
       "      <td>Punjab</td>\n",
       "      <td>5.863850e+08</td>\n",
       "    </tr>\n",
       "    <tr>\n",
       "      <th>9</th>\n",
       "      <td>Gujarat</td>\n",
       "      <td>5.242913e+08</td>\n",
       "    </tr>\n",
       "    <tr>\n",
       "      <th>8</th>\n",
       "      <td>Goa</td>\n",
       "      <td>5.057558e+08</td>\n",
       "    </tr>\n",
       "    <tr>\n",
       "      <th>16</th>\n",
       "      <td>Madhya Pradesh</td>\n",
       "      <td>4.488407e+08</td>\n",
       "    </tr>\n",
       "    <tr>\n",
       "      <th>23</th>\n",
       "      <td>Puducherry</td>\n",
       "      <td>3.847245e+08</td>\n",
       "    </tr>\n",
       "    <tr>\n",
       "      <th>10</th>\n",
       "      <td>Haryana</td>\n",
       "      <td>3.812739e+08</td>\n",
       "    </tr>\n",
       "    <tr>\n",
       "      <th>4</th>\n",
       "      <td>Bihar</td>\n",
       "      <td>3.664836e+08</td>\n",
       "    </tr>\n",
       "    <tr>\n",
       "      <th>28</th>\n",
       "      <td>Telangana</td>\n",
       "      <td>3.351479e+08</td>\n",
       "    </tr>\n",
       "    <tr>\n",
       "      <th>25</th>\n",
       "      <td>Rajasthan</td>\n",
       "      <td>2.813203e+08</td>\n",
       "    </tr>\n",
       "    <tr>\n",
       "      <th>22</th>\n",
       "      <td>Odisha</td>\n",
       "      <td>1.609041e+08</td>\n",
       "    </tr>\n",
       "    <tr>\n",
       "      <th>31</th>\n",
       "      <td>Uttarakhand</td>\n",
       "      <td>1.321774e+08</td>\n",
       "    </tr>\n",
       "    <tr>\n",
       "      <th>6</th>\n",
       "      <td>Chhattisgarh</td>\n",
       "      <td>1.009519e+08</td>\n",
       "    </tr>\n",
       "    <tr>\n",
       "      <th>11</th>\n",
       "      <td>Himachal Pradesh</td>\n",
       "      <td>1.780517e+07</td>\n",
       "    </tr>\n",
       "    <tr>\n",
       "      <th>12</th>\n",
       "      <td>Jammu and Kashmir</td>\n",
       "      <td>1.329102e+07</td>\n",
       "    </tr>\n",
       "    <tr>\n",
       "      <th>21</th>\n",
       "      <td>Nagaland</td>\n",
       "      <td>1.276595e+07</td>\n",
       "    </tr>\n",
       "    <tr>\n",
       "      <th>29</th>\n",
       "      <td>Tripura</td>\n",
       "      <td>1.252292e+07</td>\n",
       "    </tr>\n",
       "    <tr>\n",
       "      <th>19</th>\n",
       "      <td>Meghalaya</td>\n",
       "      <td>1.211250e+07</td>\n",
       "    </tr>\n",
       "    <tr>\n",
       "      <th>13</th>\n",
       "      <td>Jharkhand</td>\n",
       "      <td>1.077774e+07</td>\n",
       "    </tr>\n",
       "    <tr>\n",
       "      <th>2</th>\n",
       "      <td>Arunachal Pradesh</td>\n",
       "      <td>6.823913e+06</td>\n",
       "    </tr>\n",
       "    <tr>\n",
       "      <th>18</th>\n",
       "      <td>Manipur</td>\n",
       "      <td>5.230917e+06</td>\n",
       "    </tr>\n",
       "    <tr>\n",
       "      <th>26</th>\n",
       "      <td>Sikkim</td>\n",
       "      <td>2.435735e+06</td>\n",
       "    </tr>\n",
       "    <tr>\n",
       "      <th>7</th>\n",
       "      <td>Dadra and Nagar Haveli</td>\n",
       "      <td>1.847871e+06</td>\n",
       "    </tr>\n",
       "    <tr>\n",
       "      <th>20</th>\n",
       "      <td>Mizoram</td>\n",
       "      <td>1.661540e+06</td>\n",
       "    </tr>\n",
       "    <tr>\n",
       "      <th>5</th>\n",
       "      <td>Chandigarh</td>\n",
       "      <td>6.395650e+04</td>\n",
       "    </tr>\n",
       "  </tbody>\n",
       "</table>\n",
       "</div>"
      ],
      "text/plain": [
       "                     State_Name    Production\n",
       "15                       Kerala  9.788005e+10\n",
       "1                Andhra Pradesh  1.732459e+10\n",
       "27                   Tamil Nadu  1.207644e+10\n",
       "30                Uttar Pradesh  3.234493e+09\n",
       "3                         Assam  2.111752e+09\n",
       "32                  West Bengal  1.397904e+09\n",
       "17                  Maharashtra  1.263641e+09\n",
       "14                    Karnataka  8.634298e+08\n",
       "0   Andaman and Nicobar Islands  7.182232e+08\n",
       "24                       Punjab  5.863850e+08\n",
       "9                       Gujarat  5.242913e+08\n",
       "8                           Goa  5.057558e+08\n",
       "16               Madhya Pradesh  4.488407e+08\n",
       "23                   Puducherry  3.847245e+08\n",
       "10                      Haryana  3.812739e+08\n",
       "4                         Bihar  3.664836e+08\n",
       "28                   Telangana   3.351479e+08\n",
       "25                    Rajasthan  2.813203e+08\n",
       "22                       Odisha  1.609041e+08\n",
       "31                  Uttarakhand  1.321774e+08\n",
       "6                  Chhattisgarh  1.009519e+08\n",
       "11             Himachal Pradesh  1.780517e+07\n",
       "12           Jammu and Kashmir   1.329102e+07\n",
       "21                     Nagaland  1.276595e+07\n",
       "29                      Tripura  1.252292e+07\n",
       "19                    Meghalaya  1.211250e+07\n",
       "13                    Jharkhand  1.077774e+07\n",
       "2             Arunachal Pradesh  6.823913e+06\n",
       "18                      Manipur  5.230917e+06\n",
       "26                       Sikkim  2.435735e+06\n",
       "7        Dadra and Nagar Haveli  1.847871e+06\n",
       "20                      Mizoram  1.661540e+06\n",
       "5                    Chandigarh  6.395650e+04"
      ]
     },
     "execution_count": 28,
     "metadata": {},
     "output_type": "execute_result"
    }
   ],
   "source": [
    "cr= crop.groupby(by='State_Name')['Production'].sum().reset_index().sort_values(by='Production',ascending=False)\n",
    "cr"
   ]
  },
  {
   "cell_type": "code",
   "execution_count": 29,
   "id": "b0c7b9e0",
   "metadata": {},
   "outputs": [
    {
     "data": {
      "text/html": [
       "<div>\n",
       "<style scoped>\n",
       "    .dataframe tbody tr th:only-of-type {\n",
       "        vertical-align: middle;\n",
       "    }\n",
       "\n",
       "    .dataframe tbody tr th {\n",
       "        vertical-align: top;\n",
       "    }\n",
       "\n",
       "    .dataframe thead th {\n",
       "        text-align: right;\n",
       "    }\n",
       "</style>\n",
       "<table border=\"1\" class=\"dataframe\">\n",
       "  <thead>\n",
       "    <tr style=\"text-align: right;\">\n",
       "      <th></th>\n",
       "      <th>cvcv</th>\n",
       "      <th>State</th>\n",
       "      <th>Cost of Cultivation (`/Hectare) A2+FL</th>\n",
       "      <th>Cost of Cultivation (`/Hectare) C2</th>\n",
       "      <th>Cost of Production (`/Quintal) C2</th>\n",
       "      <th>Yield (Quintal/ Hectare)</th>\n",
       "    </tr>\n",
       "  </thead>\n",
       "  <tbody>\n",
       "    <tr>\n",
       "      <th>0</th>\n",
       "      <td>ARHAR</td>\n",
       "      <td>Uttar Pradesh</td>\n",
       "      <td>9794.05</td>\n",
       "      <td>23076.74</td>\n",
       "      <td>1941.55</td>\n",
       "      <td>9.83</td>\n",
       "    </tr>\n",
       "    <tr>\n",
       "      <th>1</th>\n",
       "      <td>ARHAR</td>\n",
       "      <td>Karnataka</td>\n",
       "      <td>10593.15</td>\n",
       "      <td>16528.68</td>\n",
       "      <td>2172.46</td>\n",
       "      <td>7.47</td>\n",
       "    </tr>\n",
       "    <tr>\n",
       "      <th>2</th>\n",
       "      <td>ARHAR</td>\n",
       "      <td>Gujarat</td>\n",
       "      <td>13468.82</td>\n",
       "      <td>19551.90</td>\n",
       "      <td>1898.30</td>\n",
       "      <td>9.59</td>\n",
       "    </tr>\n",
       "    <tr>\n",
       "      <th>3</th>\n",
       "      <td>ARHAR</td>\n",
       "      <td>Andhra Pradesh</td>\n",
       "      <td>17051.66</td>\n",
       "      <td>24171.65</td>\n",
       "      <td>3670.54</td>\n",
       "      <td>6.42</td>\n",
       "    </tr>\n",
       "    <tr>\n",
       "      <th>4</th>\n",
       "      <td>ARHAR</td>\n",
       "      <td>Maharashtra</td>\n",
       "      <td>17130.55</td>\n",
       "      <td>25270.26</td>\n",
       "      <td>2775.80</td>\n",
       "      <td>8.72</td>\n",
       "    </tr>\n",
       "    <tr>\n",
       "      <th>5</th>\n",
       "      <td>COTTON</td>\n",
       "      <td>Maharashtra</td>\n",
       "      <td>23711.44</td>\n",
       "      <td>33116.82</td>\n",
       "      <td>2539.47</td>\n",
       "      <td>12.69</td>\n",
       "    </tr>\n",
       "    <tr>\n",
       "      <th>6</th>\n",
       "      <td>COTTON</td>\n",
       "      <td>Punjab</td>\n",
       "      <td>29047.10</td>\n",
       "      <td>50828.83</td>\n",
       "      <td>2003.76</td>\n",
       "      <td>24.39</td>\n",
       "    </tr>\n",
       "    <tr>\n",
       "      <th>7</th>\n",
       "      <td>COTTON</td>\n",
       "      <td>Andhra Pradesh</td>\n",
       "      <td>29140.77</td>\n",
       "      <td>44756.72</td>\n",
       "      <td>2509.99</td>\n",
       "      <td>17.83</td>\n",
       "    </tr>\n",
       "    <tr>\n",
       "      <th>8</th>\n",
       "      <td>COTTON</td>\n",
       "      <td>Gujarat</td>\n",
       "      <td>29616.09</td>\n",
       "      <td>42070.44</td>\n",
       "      <td>2179.26</td>\n",
       "      <td>19.05</td>\n",
       "    </tr>\n",
       "    <tr>\n",
       "      <th>9</th>\n",
       "      <td>COTTON</td>\n",
       "      <td>Haryana</td>\n",
       "      <td>29918.97</td>\n",
       "      <td>44018.18</td>\n",
       "      <td>2127.35</td>\n",
       "      <td>19.90</td>\n",
       "    </tr>\n",
       "    <tr>\n",
       "      <th>10</th>\n",
       "      <td>GRAM</td>\n",
       "      <td>Rajasthan</td>\n",
       "      <td>8552.69</td>\n",
       "      <td>12610.85</td>\n",
       "      <td>1691.66</td>\n",
       "      <td>6.83</td>\n",
       "    </tr>\n",
       "    <tr>\n",
       "      <th>11</th>\n",
       "      <td>GRAM</td>\n",
       "      <td>Madhya Pradesh</td>\n",
       "      <td>9803.89</td>\n",
       "      <td>16873.17</td>\n",
       "      <td>1551.94</td>\n",
       "      <td>10.29</td>\n",
       "    </tr>\n",
       "    <tr>\n",
       "      <th>12</th>\n",
       "      <td>GRAM</td>\n",
       "      <td>Uttar Pradesh</td>\n",
       "      <td>12833.04</td>\n",
       "      <td>21618.43</td>\n",
       "      <td>1882.68</td>\n",
       "      <td>10.93</td>\n",
       "    </tr>\n",
       "    <tr>\n",
       "      <th>13</th>\n",
       "      <td>GRAM</td>\n",
       "      <td>Maharashtra</td>\n",
       "      <td>12985.95</td>\n",
       "      <td>18679.33</td>\n",
       "      <td>2277.68</td>\n",
       "      <td>8.05</td>\n",
       "    </tr>\n",
       "    <tr>\n",
       "      <th>14</th>\n",
       "      <td>GRAM</td>\n",
       "      <td>Andhra Pradesh</td>\n",
       "      <td>14421.98</td>\n",
       "      <td>26762.09</td>\n",
       "      <td>1559.04</td>\n",
       "      <td>16.69</td>\n",
       "    </tr>\n",
       "    <tr>\n",
       "      <th>15</th>\n",
       "      <td>GROUNDNUT</td>\n",
       "      <td>Karnataka</td>\n",
       "      <td>13647.10</td>\n",
       "      <td>17314.20</td>\n",
       "      <td>3484.01</td>\n",
       "      <td>4.71</td>\n",
       "    </tr>\n",
       "    <tr>\n",
       "      <th>16</th>\n",
       "      <td>GROUNDNUT</td>\n",
       "      <td>Andhra Pradesh</td>\n",
       "      <td>21229.01</td>\n",
       "      <td>30434.61</td>\n",
       "      <td>2554.91</td>\n",
       "      <td>11.97</td>\n",
       "    </tr>\n",
       "    <tr>\n",
       "      <th>17</th>\n",
       "      <td>GROUNDNUT</td>\n",
       "      <td>Tamil Nadu</td>\n",
       "      <td>22507.86</td>\n",
       "      <td>30393.66</td>\n",
       "      <td>2358.00</td>\n",
       "      <td>11.98</td>\n",
       "    </tr>\n",
       "    <tr>\n",
       "      <th>18</th>\n",
       "      <td>GROUNDNUT</td>\n",
       "      <td>Gujarat</td>\n",
       "      <td>22951.28</td>\n",
       "      <td>30114.45</td>\n",
       "      <td>1918.92</td>\n",
       "      <td>13.45</td>\n",
       "    </tr>\n",
       "    <tr>\n",
       "      <th>19</th>\n",
       "      <td>GROUNDNUT</td>\n",
       "      <td>Maharashtra</td>\n",
       "      <td>26078.66</td>\n",
       "      <td>32683.46</td>\n",
       "      <td>3207.35</td>\n",
       "      <td>9.33</td>\n",
       "    </tr>\n",
       "    <tr>\n",
       "      <th>20</th>\n",
       "      <td>MAIZE</td>\n",
       "      <td>Bihar</td>\n",
       "      <td>13513.92</td>\n",
       "      <td>19857.70</td>\n",
       "      <td>404.43</td>\n",
       "      <td>42.95</td>\n",
       "    </tr>\n",
       "    <tr>\n",
       "      <th>21</th>\n",
       "      <td>MAIZE</td>\n",
       "      <td>Karnataka</td>\n",
       "      <td>13792.85</td>\n",
       "      <td>20671.54</td>\n",
       "      <td>581.69</td>\n",
       "      <td>31.10</td>\n",
       "    </tr>\n",
       "    <tr>\n",
       "      <th>22</th>\n",
       "      <td>MAIZE</td>\n",
       "      <td>Rajasthan</td>\n",
       "      <td>14421.46</td>\n",
       "      <td>19810.29</td>\n",
       "      <td>658.77</td>\n",
       "      <td>23.56</td>\n",
       "    </tr>\n",
       "    <tr>\n",
       "      <th>23</th>\n",
       "      <td>MAIZE</td>\n",
       "      <td>Uttar Pradesh</td>\n",
       "      <td>15635.43</td>\n",
       "      <td>21045.11</td>\n",
       "      <td>1387.36</td>\n",
       "      <td>13.70</td>\n",
       "    </tr>\n",
       "    <tr>\n",
       "      <th>24</th>\n",
       "      <td>MAIZE</td>\n",
       "      <td>Andhra Pradesh</td>\n",
       "      <td>25687.09</td>\n",
       "      <td>37801.85</td>\n",
       "      <td>840.58</td>\n",
       "      <td>42.68</td>\n",
       "    </tr>\n",
       "    <tr>\n",
       "      <th>25</th>\n",
       "      <td>MOONG</td>\n",
       "      <td>Orissa</td>\n",
       "      <td>5483.54</td>\n",
       "      <td>8266.98</td>\n",
       "      <td>2614.14</td>\n",
       "      <td>3.01</td>\n",
       "    </tr>\n",
       "    <tr>\n",
       "      <th>26</th>\n",
       "      <td>MOONG</td>\n",
       "      <td>Rajasthan</td>\n",
       "      <td>6204.23</td>\n",
       "      <td>9165.59</td>\n",
       "      <td>2068.67</td>\n",
       "      <td>4.05</td>\n",
       "    </tr>\n",
       "    <tr>\n",
       "      <th>27</th>\n",
       "      <td>MOONG</td>\n",
       "      <td>Karnataka</td>\n",
       "      <td>6440.64</td>\n",
       "      <td>7868.64</td>\n",
       "      <td>5777.48</td>\n",
       "      <td>1.32</td>\n",
       "    </tr>\n",
       "    <tr>\n",
       "      <th>28</th>\n",
       "      <td>MOONG</td>\n",
       "      <td>Andhra Pradesh</td>\n",
       "      <td>6684.18</td>\n",
       "      <td>13209.32</td>\n",
       "      <td>2228.97</td>\n",
       "      <td>5.90</td>\n",
       "    </tr>\n",
       "    <tr>\n",
       "      <th>29</th>\n",
       "      <td>MOONG</td>\n",
       "      <td>Maharashtra</td>\n",
       "      <td>10780.76</td>\n",
       "      <td>15371.45</td>\n",
       "      <td>2261.24</td>\n",
       "      <td>6.70</td>\n",
       "    </tr>\n",
       "    <tr>\n",
       "      <th>30</th>\n",
       "      <td>PADDY</td>\n",
       "      <td>Uttar Pradesh</td>\n",
       "      <td>17022.00</td>\n",
       "      <td>28144.50</td>\n",
       "      <td>732.62</td>\n",
       "      <td>36.61</td>\n",
       "    </tr>\n",
       "    <tr>\n",
       "      <th>31</th>\n",
       "      <td>PADDY</td>\n",
       "      <td>Orissa</td>\n",
       "      <td>17478.05</td>\n",
       "      <td>25909.05</td>\n",
       "      <td>715.04</td>\n",
       "      <td>32.42</td>\n",
       "    </tr>\n",
       "    <tr>\n",
       "      <th>32</th>\n",
       "      <td>PADDY</td>\n",
       "      <td>West Bengal</td>\n",
       "      <td>24731.06</td>\n",
       "      <td>33046.12</td>\n",
       "      <td>731.25</td>\n",
       "      <td>39.04</td>\n",
       "    </tr>\n",
       "    <tr>\n",
       "      <th>33</th>\n",
       "      <td>PADDY</td>\n",
       "      <td>Punjab</td>\n",
       "      <td>25154.75</td>\n",
       "      <td>45291.24</td>\n",
       "      <td>669.86</td>\n",
       "      <td>67.41</td>\n",
       "    </tr>\n",
       "    <tr>\n",
       "      <th>34</th>\n",
       "      <td>PADDY</td>\n",
       "      <td>Andhra Pradesh</td>\n",
       "      <td>29664.84</td>\n",
       "      <td>46450.20</td>\n",
       "      <td>789.90</td>\n",
       "      <td>56.00</td>\n",
       "    </tr>\n",
       "    <tr>\n",
       "      <th>35</th>\n",
       "      <td>RAPESEED AND MUSTARD</td>\n",
       "      <td>Madhya Pradesh</td>\n",
       "      <td>8686.43</td>\n",
       "      <td>17705.93</td>\n",
       "      <td>1279.60</td>\n",
       "      <td>12.94</td>\n",
       "    </tr>\n",
       "    <tr>\n",
       "      <th>36</th>\n",
       "      <td>RAPESEED AND MUSTARD</td>\n",
       "      <td>Rajasthan</td>\n",
       "      <td>11385.70</td>\n",
       "      <td>19259.84</td>\n",
       "      <td>1341.29</td>\n",
       "      <td>13.54</td>\n",
       "    </tr>\n",
       "    <tr>\n",
       "      <th>37</th>\n",
       "      <td>RAPESEED AND MUSTARD</td>\n",
       "      <td>Uttar Pradesh</td>\n",
       "      <td>12774.41</td>\n",
       "      <td>22560.30</td>\n",
       "      <td>1595.56</td>\n",
       "      <td>13.57</td>\n",
       "    </tr>\n",
       "    <tr>\n",
       "      <th>38</th>\n",
       "      <td>RAPESEED AND MUSTARD</td>\n",
       "      <td>Gujarat</td>\n",
       "      <td>13740.64</td>\n",
       "      <td>19083.55</td>\n",
       "      <td>1610.40</td>\n",
       "      <td>11.61</td>\n",
       "    </tr>\n",
       "    <tr>\n",
       "      <th>39</th>\n",
       "      <td>RAPESEED AND MUSTARD</td>\n",
       "      <td>Haryana</td>\n",
       "      <td>14715.27</td>\n",
       "      <td>27507.54</td>\n",
       "      <td>1251.12</td>\n",
       "      <td>19.94</td>\n",
       "    </tr>\n",
       "    <tr>\n",
       "      <th>40</th>\n",
       "      <td>SUGARCANE</td>\n",
       "      <td>Uttar Pradesh</td>\n",
       "      <td>24538.32</td>\n",
       "      <td>45239.51</td>\n",
       "      <td>93.64</td>\n",
       "      <td>448.89</td>\n",
       "    </tr>\n",
       "    <tr>\n",
       "      <th>41</th>\n",
       "      <td>SUGARCANE</td>\n",
       "      <td>Karnataka</td>\n",
       "      <td>55655.44</td>\n",
       "      <td>86765.77</td>\n",
       "      <td>86.53</td>\n",
       "      <td>986.21</td>\n",
       "    </tr>\n",
       "    <tr>\n",
       "      <th>42</th>\n",
       "      <td>SUGARCANE</td>\n",
       "      <td>Andhra Pradesh</td>\n",
       "      <td>56621.16</td>\n",
       "      <td>91442.63</td>\n",
       "      <td>119.72</td>\n",
       "      <td>757.92</td>\n",
       "    </tr>\n",
       "    <tr>\n",
       "      <th>43</th>\n",
       "      <td>SUGARCANE</td>\n",
       "      <td>Maharashtra</td>\n",
       "      <td>57673.60</td>\n",
       "      <td>85801.95</td>\n",
       "      <td>107.56</td>\n",
       "      <td>744.01</td>\n",
       "    </tr>\n",
       "    <tr>\n",
       "      <th>44</th>\n",
       "      <td>SUGARCANE</td>\n",
       "      <td>Tamil Nadu</td>\n",
       "      <td>66335.06</td>\n",
       "      <td>89025.27</td>\n",
       "      <td>85.79</td>\n",
       "      <td>1015.45</td>\n",
       "    </tr>\n",
       "    <tr>\n",
       "      <th>45</th>\n",
       "      <td>WHEAT</td>\n",
       "      <td>Madhya Pradesh</td>\n",
       "      <td>12464.40</td>\n",
       "      <td>22489.75</td>\n",
       "      <td>810.25</td>\n",
       "      <td>23.59</td>\n",
       "    </tr>\n",
       "    <tr>\n",
       "      <th>46</th>\n",
       "      <td>WHEAT</td>\n",
       "      <td>Punjab</td>\n",
       "      <td>17945.58</td>\n",
       "      <td>35423.48</td>\n",
       "      <td>804.80</td>\n",
       "      <td>39.83</td>\n",
       "    </tr>\n",
       "    <tr>\n",
       "      <th>47</th>\n",
       "      <td>WHEAT</td>\n",
       "      <td>Uttar Pradesh</td>\n",
       "      <td>18979.38</td>\n",
       "      <td>31902.74</td>\n",
       "      <td>769.84</td>\n",
       "      <td>34.99</td>\n",
       "    </tr>\n",
       "    <tr>\n",
       "      <th>48</th>\n",
       "      <td>WHEAT</td>\n",
       "      <td>Rajasthan</td>\n",
       "      <td>19119.08</td>\n",
       "      <td>29876.36</td>\n",
       "      <td>683.58</td>\n",
       "      <td>37.19</td>\n",
       "    </tr>\n",
       "  </tbody>\n",
       "</table>\n",
       "</div>"
      ],
      "text/plain": [
       "                    cvcv           State  \\\n",
       "0                  ARHAR   Uttar Pradesh   \n",
       "1                  ARHAR       Karnataka   \n",
       "2                  ARHAR         Gujarat   \n",
       "3                  ARHAR  Andhra Pradesh   \n",
       "4                  ARHAR     Maharashtra   \n",
       "5                 COTTON     Maharashtra   \n",
       "6                 COTTON          Punjab   \n",
       "7                 COTTON  Andhra Pradesh   \n",
       "8                 COTTON         Gujarat   \n",
       "9                 COTTON         Haryana   \n",
       "10                  GRAM       Rajasthan   \n",
       "11                  GRAM  Madhya Pradesh   \n",
       "12                  GRAM   Uttar Pradesh   \n",
       "13                  GRAM     Maharashtra   \n",
       "14                  GRAM  Andhra Pradesh   \n",
       "15             GROUNDNUT       Karnataka   \n",
       "16             GROUNDNUT  Andhra Pradesh   \n",
       "17             GROUNDNUT      Tamil Nadu   \n",
       "18             GROUNDNUT         Gujarat   \n",
       "19             GROUNDNUT     Maharashtra   \n",
       "20                 MAIZE           Bihar   \n",
       "21                 MAIZE       Karnataka   \n",
       "22                 MAIZE       Rajasthan   \n",
       "23                 MAIZE   Uttar Pradesh   \n",
       "24                 MAIZE  Andhra Pradesh   \n",
       "25                 MOONG          Orissa   \n",
       "26                 MOONG       Rajasthan   \n",
       "27                 MOONG       Karnataka   \n",
       "28                 MOONG  Andhra Pradesh   \n",
       "29                 MOONG     Maharashtra   \n",
       "30                 PADDY   Uttar Pradesh   \n",
       "31                 PADDY          Orissa   \n",
       "32                 PADDY     West Bengal   \n",
       "33                 PADDY          Punjab   \n",
       "34                 PADDY  Andhra Pradesh   \n",
       "35  RAPESEED AND MUSTARD  Madhya Pradesh   \n",
       "36  RAPESEED AND MUSTARD       Rajasthan   \n",
       "37  RAPESEED AND MUSTARD   Uttar Pradesh   \n",
       "38  RAPESEED AND MUSTARD         Gujarat   \n",
       "39  RAPESEED AND MUSTARD         Haryana   \n",
       "40             SUGARCANE   Uttar Pradesh   \n",
       "41             SUGARCANE       Karnataka   \n",
       "42             SUGARCANE  Andhra Pradesh   \n",
       "43             SUGARCANE     Maharashtra   \n",
       "44             SUGARCANE      Tamil Nadu   \n",
       "45                 WHEAT  Madhya Pradesh   \n",
       "46                 WHEAT          Punjab   \n",
       "47                 WHEAT   Uttar Pradesh   \n",
       "48                 WHEAT       Rajasthan   \n",
       "\n",
       "    Cost of Cultivation (`/Hectare) A2+FL  Cost of Cultivation (`/Hectare) C2  \\\n",
       "0                                 9794.05                            23076.74   \n",
       "1                                10593.15                            16528.68   \n",
       "2                                13468.82                            19551.90   \n",
       "3                                17051.66                            24171.65   \n",
       "4                                17130.55                            25270.26   \n",
       "5                                23711.44                            33116.82   \n",
       "6                                29047.10                            50828.83   \n",
       "7                                29140.77                            44756.72   \n",
       "8                                29616.09                            42070.44   \n",
       "9                                29918.97                            44018.18   \n",
       "10                                8552.69                            12610.85   \n",
       "11                                9803.89                            16873.17   \n",
       "12                               12833.04                            21618.43   \n",
       "13                               12985.95                            18679.33   \n",
       "14                               14421.98                            26762.09   \n",
       "15                               13647.10                            17314.20   \n",
       "16                               21229.01                            30434.61   \n",
       "17                               22507.86                            30393.66   \n",
       "18                               22951.28                            30114.45   \n",
       "19                               26078.66                            32683.46   \n",
       "20                               13513.92                            19857.70   \n",
       "21                               13792.85                            20671.54   \n",
       "22                               14421.46                            19810.29   \n",
       "23                               15635.43                            21045.11   \n",
       "24                               25687.09                            37801.85   \n",
       "25                                5483.54                             8266.98   \n",
       "26                                6204.23                             9165.59   \n",
       "27                                6440.64                             7868.64   \n",
       "28                                6684.18                            13209.32   \n",
       "29                               10780.76                            15371.45   \n",
       "30                               17022.00                            28144.50   \n",
       "31                               17478.05                            25909.05   \n",
       "32                               24731.06                            33046.12   \n",
       "33                               25154.75                            45291.24   \n",
       "34                               29664.84                            46450.20   \n",
       "35                                8686.43                            17705.93   \n",
       "36                               11385.70                            19259.84   \n",
       "37                               12774.41                            22560.30   \n",
       "38                               13740.64                            19083.55   \n",
       "39                               14715.27                            27507.54   \n",
       "40                               24538.32                            45239.51   \n",
       "41                               55655.44                            86765.77   \n",
       "42                               56621.16                            91442.63   \n",
       "43                               57673.60                            85801.95   \n",
       "44                               66335.06                            89025.27   \n",
       "45                               12464.40                            22489.75   \n",
       "46                               17945.58                            35423.48   \n",
       "47                               18979.38                            31902.74   \n",
       "48                               19119.08                            29876.36   \n",
       "\n",
       "    Cost of Production (`/Quintal) C2  Yield (Quintal/ Hectare)   \n",
       "0                             1941.55                       9.83  \n",
       "1                             2172.46                       7.47  \n",
       "2                             1898.30                       9.59  \n",
       "3                             3670.54                       6.42  \n",
       "4                             2775.80                       8.72  \n",
       "5                             2539.47                      12.69  \n",
       "6                             2003.76                      24.39  \n",
       "7                             2509.99                      17.83  \n",
       "8                             2179.26                      19.05  \n",
       "9                             2127.35                      19.90  \n",
       "10                            1691.66                       6.83  \n",
       "11                            1551.94                      10.29  \n",
       "12                            1882.68                      10.93  \n",
       "13                            2277.68                       8.05  \n",
       "14                            1559.04                      16.69  \n",
       "15                            3484.01                       4.71  \n",
       "16                            2554.91                      11.97  \n",
       "17                            2358.00                      11.98  \n",
       "18                            1918.92                      13.45  \n",
       "19                            3207.35                       9.33  \n",
       "20                             404.43                      42.95  \n",
       "21                             581.69                      31.10  \n",
       "22                             658.77                      23.56  \n",
       "23                            1387.36                      13.70  \n",
       "24                             840.58                      42.68  \n",
       "25                            2614.14                       3.01  \n",
       "26                            2068.67                       4.05  \n",
       "27                            5777.48                       1.32  \n",
       "28                            2228.97                       5.90  \n",
       "29                            2261.24                       6.70  \n",
       "30                             732.62                      36.61  \n",
       "31                             715.04                      32.42  \n",
       "32                             731.25                      39.04  \n",
       "33                             669.86                      67.41  \n",
       "34                             789.90                      56.00  \n",
       "35                            1279.60                      12.94  \n",
       "36                            1341.29                      13.54  \n",
       "37                            1595.56                      13.57  \n",
       "38                            1610.40                      11.61  \n",
       "39                            1251.12                      19.94  \n",
       "40                              93.64                     448.89  \n",
       "41                              86.53                     986.21  \n",
       "42                             119.72                     757.92  \n",
       "43                             107.56                     744.01  \n",
       "44                              85.79                    1015.45  \n",
       "45                             810.25                      23.59  \n",
       "46                             804.80                      39.83  \n",
       "47                             769.84                      34.99  \n",
       "48                             683.58                      37.19  "
      ]
     },
     "execution_count": 29,
     "metadata": {},
     "output_type": "execute_result"
    }
   ],
   "source": [
    "df2=pd.read_csv(\"state_wise_crop_production.csv\")\n",
    "df2"
   ]
  },
  {
   "cell_type": "markdown",
   "id": "a4fd1300",
   "metadata": {},
   "source": [
    "# Crop_Recommendation "
   ]
  },
  {
   "cell_type": "code",
   "execution_count": 30,
   "id": "8c2adb7b",
   "metadata": {},
   "outputs": [
    {
     "data": {
      "text/html": [
       "<div>\n",
       "<style scoped>\n",
       "    .dataframe tbody tr th:only-of-type {\n",
       "        vertical-align: middle;\n",
       "    }\n",
       "\n",
       "    .dataframe tbody tr th {\n",
       "        vertical-align: top;\n",
       "    }\n",
       "\n",
       "    .dataframe thead th {\n",
       "        text-align: right;\n",
       "    }\n",
       "</style>\n",
       "<table border=\"1\" class=\"dataframe\">\n",
       "  <thead>\n",
       "    <tr style=\"text-align: right;\">\n",
       "      <th></th>\n",
       "      <th>temperature</th>\n",
       "      <th>humidity</th>\n",
       "      <th>ph</th>\n",
       "      <th>rainfall</th>\n",
       "      <th>label</th>\n",
       "    </tr>\n",
       "  </thead>\n",
       "  <tbody>\n",
       "    <tr>\n",
       "      <th>0</th>\n",
       "      <td>20.879744</td>\n",
       "      <td>82.002744</td>\n",
       "      <td>6.502985</td>\n",
       "      <td>202.935536</td>\n",
       "      <td>rice</td>\n",
       "    </tr>\n",
       "    <tr>\n",
       "      <th>1</th>\n",
       "      <td>21.770462</td>\n",
       "      <td>80.319644</td>\n",
       "      <td>7.038096</td>\n",
       "      <td>226.655537</td>\n",
       "      <td>rice</td>\n",
       "    </tr>\n",
       "    <tr>\n",
       "      <th>2</th>\n",
       "      <td>23.004459</td>\n",
       "      <td>82.320763</td>\n",
       "      <td>7.840207</td>\n",
       "      <td>263.964248</td>\n",
       "      <td>rice</td>\n",
       "    </tr>\n",
       "    <tr>\n",
       "      <th>3</th>\n",
       "      <td>26.491096</td>\n",
       "      <td>80.158363</td>\n",
       "      <td>6.980401</td>\n",
       "      <td>242.864034</td>\n",
       "      <td>rice</td>\n",
       "    </tr>\n",
       "    <tr>\n",
       "      <th>4</th>\n",
       "      <td>20.130175</td>\n",
       "      <td>81.604873</td>\n",
       "      <td>7.628473</td>\n",
       "      <td>262.717340</td>\n",
       "      <td>rice</td>\n",
       "    </tr>\n",
       "    <tr>\n",
       "      <th>...</th>\n",
       "      <td>...</td>\n",
       "      <td>...</td>\n",
       "      <td>...</td>\n",
       "      <td>...</td>\n",
       "      <td>...</td>\n",
       "    </tr>\n",
       "    <tr>\n",
       "      <th>3095</th>\n",
       "      <td>25.287846</td>\n",
       "      <td>89.636679</td>\n",
       "      <td>6.765095</td>\n",
       "      <td>58.286977</td>\n",
       "      <td>watermelon</td>\n",
       "    </tr>\n",
       "    <tr>\n",
       "      <th>3096</th>\n",
       "      <td>26.638386</td>\n",
       "      <td>84.695469</td>\n",
       "      <td>6.189214</td>\n",
       "      <td>48.324286</td>\n",
       "      <td>watermelon</td>\n",
       "    </tr>\n",
       "    <tr>\n",
       "      <th>3097</th>\n",
       "      <td>25.331045</td>\n",
       "      <td>84.305338</td>\n",
       "      <td>6.904242</td>\n",
       "      <td>41.532187</td>\n",
       "      <td>watermelon</td>\n",
       "    </tr>\n",
       "    <tr>\n",
       "      <th>3098</th>\n",
       "      <td>26.897502</td>\n",
       "      <td>83.892415</td>\n",
       "      <td>6.463271</td>\n",
       "      <td>43.971937</td>\n",
       "      <td>watermelon</td>\n",
       "    </tr>\n",
       "    <tr>\n",
       "      <th>3099</th>\n",
       "      <td>26.986037</td>\n",
       "      <td>89.413849</td>\n",
       "      <td>6.260839</td>\n",
       "      <td>58.548767</td>\n",
       "      <td>watermelon</td>\n",
       "    </tr>\n",
       "  </tbody>\n",
       "</table>\n",
       "<p>3100 rows × 5 columns</p>\n",
       "</div>"
      ],
      "text/plain": [
       "      temperature   humidity        ph    rainfall       label\n",
       "0       20.879744  82.002744  6.502985  202.935536        rice\n",
       "1       21.770462  80.319644  7.038096  226.655537        rice\n",
       "2       23.004459  82.320763  7.840207  263.964248        rice\n",
       "3       26.491096  80.158363  6.980401  242.864034        rice\n",
       "4       20.130175  81.604873  7.628473  262.717340        rice\n",
       "...           ...        ...       ...         ...         ...\n",
       "3095    25.287846  89.636679  6.765095   58.286977  watermelon\n",
       "3096    26.638386  84.695469  6.189214   48.324286  watermelon\n",
       "3097    25.331045  84.305338  6.904242   41.532187  watermelon\n",
       "3098    26.897502  83.892415  6.463271   43.971937  watermelon\n",
       "3099    26.986037  89.413849  6.260839   58.548767  watermelon\n",
       "\n",
       "[3100 rows x 5 columns]"
      ]
     },
     "execution_count": 30,
     "metadata": {},
     "output_type": "execute_result"
    }
   ],
   "source": [
    "# loading the dataset\n",
    "crop_data=pd.read_csv(\"cpdata.csv\")\n",
    "crop_data"
   ]
  },
  {
   "cell_type": "code",
   "execution_count": 31,
   "id": "2807bc59",
   "metadata": {},
   "outputs": [
    {
     "data": {
      "text/plain": [
       "(3100, 5)"
      ]
     },
     "execution_count": 31,
     "metadata": {},
     "output_type": "execute_result"
    }
   ],
   "source": [
    "crop_data.shape\n",
    "\n",
    "#rows X columns"
   ]
  },
  {
   "cell_type": "code",
   "execution_count": 32,
   "id": "177a5ff0",
   "metadata": {},
   "outputs": [
    {
     "name": "stdout",
     "output_type": "stream",
     "text": [
      "<class 'pandas.core.frame.DataFrame'>\n",
      "RangeIndex: 3100 entries, 0 to 3099\n",
      "Data columns (total 5 columns):\n",
      " #   Column       Non-Null Count  Dtype  \n",
      "---  ------       --------------  -----  \n",
      " 0   temperature  3100 non-null   float64\n",
      " 1   humidity     3100 non-null   float64\n",
      " 2   ph           3100 non-null   float64\n",
      " 3   rainfall     3100 non-null   float64\n",
      " 4   label        3100 non-null   object \n",
      "dtypes: float64(4), object(1)\n",
      "memory usage: 121.2+ KB\n"
     ]
    }
   ],
   "source": [
    "crop_data.info()"
   ]
  },
  {
   "cell_type": "code",
   "execution_count": 33,
   "id": "b015bce4",
   "metadata": {},
   "outputs": [
    {
     "data": {
      "text/plain": [
       "Index(['temperature', 'humidity', 'ph', 'rainfall', 'label'], dtype='object')"
      ]
     },
     "execution_count": 33,
     "metadata": {},
     "output_type": "execute_result"
    }
   ],
   "source": [
    "# dataset columns\n",
    "crop_data.columns"
   ]
  },
  {
   "cell_type": "code",
   "execution_count": 34,
   "id": "4ff5b96a",
   "metadata": {},
   "outputs": [
    {
     "data": {
      "text/html": [
       "<div>\n",
       "<style scoped>\n",
       "    .dataframe tbody tr th:only-of-type {\n",
       "        vertical-align: middle;\n",
       "    }\n",
       "\n",
       "    .dataframe tbody tr th {\n",
       "        vertical-align: top;\n",
       "    }\n",
       "\n",
       "    .dataframe thead th {\n",
       "        text-align: right;\n",
       "    }\n",
       "</style>\n",
       "<table border=\"1\" class=\"dataframe\">\n",
       "  <thead>\n",
       "    <tr style=\"text-align: right;\">\n",
       "      <th></th>\n",
       "      <th>temperature</th>\n",
       "      <th>humidity</th>\n",
       "      <th>ph</th>\n",
       "      <th>rainfall</th>\n",
       "      <th>Crop</th>\n",
       "    </tr>\n",
       "  </thead>\n",
       "  <tbody>\n",
       "    <tr>\n",
       "      <th>0</th>\n",
       "      <td>20.879744</td>\n",
       "      <td>82.002744</td>\n",
       "      <td>6.502985</td>\n",
       "      <td>202.935536</td>\n",
       "      <td>rice</td>\n",
       "    </tr>\n",
       "    <tr>\n",
       "      <th>1</th>\n",
       "      <td>21.770462</td>\n",
       "      <td>80.319644</td>\n",
       "      <td>7.038096</td>\n",
       "      <td>226.655537</td>\n",
       "      <td>rice</td>\n",
       "    </tr>\n",
       "    <tr>\n",
       "      <th>2</th>\n",
       "      <td>23.004459</td>\n",
       "      <td>82.320763</td>\n",
       "      <td>7.840207</td>\n",
       "      <td>263.964248</td>\n",
       "      <td>rice</td>\n",
       "    </tr>\n",
       "    <tr>\n",
       "      <th>3</th>\n",
       "      <td>26.491096</td>\n",
       "      <td>80.158363</td>\n",
       "      <td>6.980401</td>\n",
       "      <td>242.864034</td>\n",
       "      <td>rice</td>\n",
       "    </tr>\n",
       "    <tr>\n",
       "      <th>4</th>\n",
       "      <td>20.130175</td>\n",
       "      <td>81.604873</td>\n",
       "      <td>7.628473</td>\n",
       "      <td>262.717340</td>\n",
       "      <td>rice</td>\n",
       "    </tr>\n",
       "    <tr>\n",
       "      <th>...</th>\n",
       "      <td>...</td>\n",
       "      <td>...</td>\n",
       "      <td>...</td>\n",
       "      <td>...</td>\n",
       "      <td>...</td>\n",
       "    </tr>\n",
       "    <tr>\n",
       "      <th>3095</th>\n",
       "      <td>25.287846</td>\n",
       "      <td>89.636679</td>\n",
       "      <td>6.765095</td>\n",
       "      <td>58.286977</td>\n",
       "      <td>watermelon</td>\n",
       "    </tr>\n",
       "    <tr>\n",
       "      <th>3096</th>\n",
       "      <td>26.638386</td>\n",
       "      <td>84.695469</td>\n",
       "      <td>6.189214</td>\n",
       "      <td>48.324286</td>\n",
       "      <td>watermelon</td>\n",
       "    </tr>\n",
       "    <tr>\n",
       "      <th>3097</th>\n",
       "      <td>25.331045</td>\n",
       "      <td>84.305338</td>\n",
       "      <td>6.904242</td>\n",
       "      <td>41.532187</td>\n",
       "      <td>watermelon</td>\n",
       "    </tr>\n",
       "    <tr>\n",
       "      <th>3098</th>\n",
       "      <td>26.897502</td>\n",
       "      <td>83.892415</td>\n",
       "      <td>6.463271</td>\n",
       "      <td>43.971937</td>\n",
       "      <td>watermelon</td>\n",
       "    </tr>\n",
       "    <tr>\n",
       "      <th>3099</th>\n",
       "      <td>26.986037</td>\n",
       "      <td>89.413849</td>\n",
       "      <td>6.260839</td>\n",
       "      <td>58.548767</td>\n",
       "      <td>watermelon</td>\n",
       "    </tr>\n",
       "  </tbody>\n",
       "</table>\n",
       "<p>3100 rows × 5 columns</p>\n",
       "</div>"
      ],
      "text/plain": [
       "      temperature   humidity        ph    rainfall        Crop\n",
       "0       20.879744  82.002744  6.502985  202.935536        rice\n",
       "1       21.770462  80.319644  7.038096  226.655537        rice\n",
       "2       23.004459  82.320763  7.840207  263.964248        rice\n",
       "3       26.491096  80.158363  6.980401  242.864034        rice\n",
       "4       20.130175  81.604873  7.628473  262.717340        rice\n",
       "...           ...        ...       ...         ...         ...\n",
       "3095    25.287846  89.636679  6.765095   58.286977  watermelon\n",
       "3096    26.638386  84.695469  6.189214   48.324286  watermelon\n",
       "3097    25.331045  84.305338  6.904242   41.532187  watermelon\n",
       "3098    26.897502  83.892415  6.463271   43.971937  watermelon\n",
       "3099    26.986037  89.413849  6.260839   58.548767  watermelon\n",
       "\n",
       "[3100 rows x 5 columns]"
      ]
     },
     "execution_count": 34,
     "metadata": {},
     "output_type": "execute_result"
    }
   ],
   "source": [
    "crop_data.rename(columns = {'label':'Crop'}, inplace = True)\n",
    "crop_data"
   ]
  },
  {
   "cell_type": "code",
   "execution_count": 35,
   "id": "84ab1b80",
   "metadata": {},
   "outputs": [
    {
     "data": {
      "text/html": [
       "<div>\n",
       "<style scoped>\n",
       "    .dataframe tbody tr th:only-of-type {\n",
       "        vertical-align: middle;\n",
       "    }\n",
       "\n",
       "    .dataframe tbody tr th {\n",
       "        vertical-align: top;\n",
       "    }\n",
       "\n",
       "    .dataframe thead th {\n",
       "        text-align: right;\n",
       "    }\n",
       "</style>\n",
       "<table border=\"1\" class=\"dataframe\">\n",
       "  <thead>\n",
       "    <tr style=\"text-align: right;\">\n",
       "      <th></th>\n",
       "      <th>temperature</th>\n",
       "      <th>humidity</th>\n",
       "      <th>ph</th>\n",
       "      <th>rainfall</th>\n",
       "    </tr>\n",
       "  </thead>\n",
       "  <tbody>\n",
       "    <tr>\n",
       "      <th>count</th>\n",
       "      <td>3100.000000</td>\n",
       "      <td>3100.000000</td>\n",
       "      <td>3100.000000</td>\n",
       "      <td>3100.000000</td>\n",
       "    </tr>\n",
       "    <tr>\n",
       "      <th>mean</th>\n",
       "      <td>27.108466</td>\n",
       "      <td>66.005312</td>\n",
       "      <td>6.368913</td>\n",
       "      <td>110.213031</td>\n",
       "    </tr>\n",
       "    <tr>\n",
       "      <th>std</th>\n",
       "      <td>7.566308</td>\n",
       "      <td>24.007713</td>\n",
       "      <td>0.809477</td>\n",
       "      <td>64.048562</td>\n",
       "    </tr>\n",
       "    <tr>\n",
       "      <th>min</th>\n",
       "      <td>8.825675</td>\n",
       "      <td>10.034048</td>\n",
       "      <td>3.504752</td>\n",
       "      <td>20.211267</td>\n",
       "    </tr>\n",
       "    <tr>\n",
       "      <th>25%</th>\n",
       "      <td>22.810495</td>\n",
       "      <td>55.244920</td>\n",
       "      <td>5.895343</td>\n",
       "      <td>64.909095</td>\n",
       "    </tr>\n",
       "    <tr>\n",
       "      <th>50%</th>\n",
       "      <td>26.102848</td>\n",
       "      <td>68.980529</td>\n",
       "      <td>6.342518</td>\n",
       "      <td>97.057093</td>\n",
       "    </tr>\n",
       "    <tr>\n",
       "      <th>75%</th>\n",
       "      <td>29.365644</td>\n",
       "      <td>84.446524</td>\n",
       "      <td>6.841616</td>\n",
       "      <td>141.210784</td>\n",
       "    </tr>\n",
       "    <tr>\n",
       "      <th>max</th>\n",
       "      <td>54.986760</td>\n",
       "      <td>99.981876</td>\n",
       "      <td>9.935091</td>\n",
       "      <td>397.315380</td>\n",
       "    </tr>\n",
       "  </tbody>\n",
       "</table>\n",
       "</div>"
      ],
      "text/plain": [
       "       temperature     humidity           ph     rainfall\n",
       "count  3100.000000  3100.000000  3100.000000  3100.000000\n",
       "mean     27.108466    66.005312     6.368913   110.213031\n",
       "std       7.566308    24.007713     0.809477    64.048562\n",
       "min       8.825675    10.034048     3.504752    20.211267\n",
       "25%      22.810495    55.244920     5.895343    64.909095\n",
       "50%      26.102848    68.980529     6.342518    97.057093\n",
       "75%      29.365644    84.446524     6.841616   141.210784\n",
       "max      54.986760    99.981876     9.935091   397.315380"
      ]
     },
     "execution_count": 35,
     "metadata": {},
     "output_type": "execute_result"
    }
   ],
   "source": [
    "# statistical inference of the dataset\n",
    "\n",
    "crop_data.describe()"
   ]
  },
  {
   "cell_type": "code",
   "execution_count": 36,
   "id": "fcabc802",
   "metadata": {},
   "outputs": [
    {
     "data": {
      "text/plain": [
       "temperature    0\n",
       "humidity       0\n",
       "ph             0\n",
       "rainfall       0\n",
       "Crop           0\n",
       "dtype: int64"
      ]
     },
     "execution_count": 36,
     "metadata": {},
     "output_type": "execute_result"
    }
   ],
   "source": [
    "# Checking missing values of the dataset in each column\n",
    "crop_data.isnull().sum()"
   ]
  },
  {
   "cell_type": "code",
   "execution_count": 37,
   "id": "a87ba75f",
   "metadata": {},
   "outputs": [
    {
     "data": {
      "text/plain": [
       "<seaborn.axisgrid.PairGrid at 0x21e590e3e50>"
      ]
     },
     "execution_count": 37,
     "metadata": {},
     "output_type": "execute_result"
    },
    {
     "data": {
      "image/png": "[encoded data removed]",
      "text/plain": [
       "<Figure size 720x720 with 20 Axes>"
      ]
     },
     "metadata": {
      "needs_background": "light"
     },
     "output_type": "display_data"
    }
   ],
   "source": [
    "# Visualizing the features\n",
    "\n",
    "ax = sns.pairplot(crop_data)\n",
    "ax"
   ]
  },
  {
   "cell_type": "code",
   "execution_count": 38,
   "id": "f3a18cb9",
   "metadata": {},
   "outputs": [
    {
     "data": {
      "text/plain": [
       "array(['rice', 'wheat', 'Mung Bean', 'Tea', 'millet', 'maize', 'Lentil',\n",
       "       'Jute', 'Coffee', 'Cotton', 'Ground Nut', 'Peas', 'Rubber',\n",
       "       'Sugarcane', 'Tobacco', 'Kidney Beans', 'Moth Beans', 'Coconut',\n",
       "       'Black gram', 'Adzuki Beans', 'Pigeon Peas', 'Chickpea', 'banana',\n",
       "       'grapes', 'apple', 'mango', 'muskmelon', 'orange', 'papaya',\n",
       "       'pomegranate', 'watermelon'], dtype=object)"
      ]
     },
     "execution_count": 38,
     "metadata": {},
     "output_type": "execute_result"
    }
   ],
   "source": [
    "crop_data.Crop.unique()"
   ]
  },
  {
   "cell_type": "code",
   "execution_count": 39,
   "id": "3d67d521",
   "metadata": {},
   "outputs": [
    {
     "name": "stderr",
     "output_type": "stream",
     "text": [
      "C:\\Users\\ASUS\\anaconda\\lib\\site-packages\\seaborn\\_decorators.py:36: FutureWarning: Pass the following variables as keyword args: x, y. From version 0.12, the only valid positional argument will be `data`, and passing other arguments without an explicit keyword will result in an error or misinterpretation.\n",
      "  warnings.warn(\n"
     ]
    },
    {
     "data": {
      "text/plain": [
       "(array([ 0,  1,  2,  3,  4,  5,  6,  7,  8,  9, 10, 11, 12, 13, 14, 15, 16,\n",
       "        17, 18, 19, 20, 21, 22, 23, 24, 25, 26, 27, 28, 29, 30]),\n",
       " [Text(0, 0, 'rice'),\n",
       "  Text(1, 0, 'wheat'),\n",
       "  Text(2, 0, 'Mung Bean'),\n",
       "  Text(3, 0, 'Tea'),\n",
       "  Text(4, 0, 'millet'),\n",
       "  Text(5, 0, 'maize'),\n",
       "  Text(6, 0, 'Lentil'),\n",
       "  Text(7, 0, 'Jute'),\n",
       "  Text(8, 0, 'Coffee'),\n",
       "  Text(9, 0, 'Cotton'),\n",
       "  Text(10, 0, 'Ground Nut'),\n",
       "  Text(11, 0, 'Peas'),\n",
       "  Text(12, 0, 'Rubber'),\n",
       "  Text(13, 0, 'Sugarcane'),\n",
       "  Text(14, 0, 'Tobacco'),\n",
       "  Text(15, 0, 'Kidney Beans'),\n",
       "  Text(16, 0, 'Moth Beans'),\n",
       "  Text(17, 0, 'Coconut'),\n",
       "  Text(18, 0, 'Black gram'),\n",
       "  Text(19, 0, 'Adzuki Beans'),\n",
       "  Text(20, 0, 'Pigeon Peas'),\n",
       "  Text(21, 0, 'Chickpea'),\n",
       "  Text(22, 0, 'banana'),\n",
       "  Text(23, 0, 'grapes'),\n",
       "  Text(24, 0, 'apple'),\n",
       "  Text(25, 0, 'mango'),\n",
       "  Text(26, 0, 'muskmelon'),\n",
       "  Text(27, 0, 'orange'),\n",
       "  Text(28, 0, 'papaya'),\n",
       "  Text(29, 0, 'pomegranate'),\n",
       "  Text(30, 0, 'watermelon')])"
      ]
     },
     "execution_count": 39,
     "metadata": {},
     "output_type": "execute_result"
    },
    {
     "data": {
      "image/png": "[encoded data removed]",
      "text/plain": [
       "<Figure size 432x288 with 1 Axes>"
      ]
     },
     "metadata": {
      "needs_background": "light"
     },
     "output_type": "display_data"
    }
   ],
   "source": [
    "sns.barplot(crop_data[\"Crop\"], crop_data[\"temperature\"])\n",
    "plt.xticks(rotation = 90)"
   ]
  },
  {
   "cell_type": "code",
   "execution_count": 40,
   "id": "03c090f7",
   "metadata": {},
   "outputs": [
    {
     "name": "stderr",
     "output_type": "stream",
     "text": [
      "C:\\Users\\ASUS\\anaconda\\lib\\site-packages\\seaborn\\_decorators.py:36: FutureWarning: Pass the following variables as keyword args: x, y. From version 0.12, the only valid positional argument will be `data`, and passing other arguments without an explicit keyword will result in an error or misinterpretation.\n",
      "  warnings.warn(\n"
     ]
    },
    {
     "data": {
      "text/plain": [
       "(array([ 0,  1,  2,  3,  4,  5,  6,  7,  8,  9, 10, 11, 12, 13, 14, 15, 16,\n",
       "        17, 18, 19, 20, 21, 22, 23, 24, 25, 26, 27, 28, 29, 30]),\n",
       " [Text(0, 0, 'rice'),\n",
       "  Text(1, 0, 'wheat'),\n",
       "  Text(2, 0, 'Mung Bean'),\n",
       "  Text(3, 0, 'Tea'),\n",
       "  Text(4, 0, 'millet'),\n",
       "  Text(5, 0, 'maize'),\n",
       "  Text(6, 0, 'Lentil'),\n",
       "  Text(7, 0, 'Jute'),\n",
       "  Text(8, 0, 'Coffee'),\n",
       "  Text(9, 0, 'Cotton'),\n",
       "  Text(10, 0, 'Ground Nut'),\n",
       "  Text(11, 0, 'Peas'),\n",
       "  Text(12, 0, 'Rubber'),\n",
       "  Text(13, 0, 'Sugarcane'),\n",
       "  Text(14, 0, 'Tobacco'),\n",
       "  Text(15, 0, 'Kidney Beans'),\n",
       "  Text(16, 0, 'Moth Beans'),\n",
       "  Text(17, 0, 'Coconut'),\n",
       "  Text(18, 0, 'Black gram'),\n",
       "  Text(19, 0, 'Adzuki Beans'),\n",
       "  Text(20, 0, 'Pigeon Peas'),\n",
       "  Text(21, 0, 'Chickpea'),\n",
       "  Text(22, 0, 'banana'),\n",
       "  Text(23, 0, 'grapes'),\n",
       "  Text(24, 0, 'apple'),\n",
       "  Text(25, 0, 'mango'),\n",
       "  Text(26, 0, 'muskmelon'),\n",
       "  Text(27, 0, 'orange'),\n",
       "  Text(28, 0, 'papaya'),\n",
       "  Text(29, 0, 'pomegranate'),\n",
       "  Text(30, 0, 'watermelon')])"
      ]
     },
     "execution_count": 40,
     "metadata": {},
     "output_type": "execute_result"
    },
    {
     "data": {
      "image/png": "[encoded data removed]",
      "text/plain": [
       "<Figure size 432x288 with 1 Axes>"
      ]
     },
     "metadata": {
      "needs_background": "light"
     },
     "output_type": "display_data"
    }
   ],
   "source": [
    "sns.barplot(crop_data[\"Crop\"], crop_data[\"ph\"])\n",
    "plt.xticks(rotation = 90)"
   ]
  },
  {
   "cell_type": "code",
   "execution_count": 41,
   "id": "a92c515f",
   "metadata": {},
   "outputs": [
    {
     "name": "stderr",
     "output_type": "stream",
     "text": [
      "C:\\Users\\ASUS\\anaconda\\lib\\site-packages\\seaborn\\_decorators.py:36: FutureWarning: Pass the following variables as keyword args: x, y. From version 0.12, the only valid positional argument will be `data`, and passing other arguments without an explicit keyword will result in an error or misinterpretation.\n",
      "  warnings.warn(\n"
     ]
    },
    {
     "data": {
      "text/plain": [
       "(array([ 0,  1,  2,  3,  4,  5,  6,  7,  8,  9, 10, 11, 12, 13, 14, 15, 16,\n",
       "        17, 18, 19, 20, 21, 22, 23, 24, 25, 26, 27, 28, 29, 30]),\n",
       " [Text(0, 0, 'rice'),\n",
       "  Text(1, 0, 'wheat'),\n",
       "  Text(2, 0, 'Mung Bean'),\n",
       "  Text(3, 0, 'Tea'),\n",
       "  Text(4, 0, 'millet'),\n",
       "  Text(5, 0, 'maize'),\n",
       "  Text(6, 0, 'Lentil'),\n",
       "  Text(7, 0, 'Jute'),\n",
       "  Text(8, 0, 'Coffee'),\n",
       "  Text(9, 0, 'Cotton'),\n",
       "  Text(10, 0, 'Ground Nut'),\n",
       "  Text(11, 0, 'Peas'),\n",
       "  Text(12, 0, 'Rubber'),\n",
       "  Text(13, 0, 'Sugarcane'),\n",
       "  Text(14, 0, 'Tobacco'),\n",
       "  Text(15, 0, 'Kidney Beans'),\n",
       "  Text(16, 0, 'Moth Beans'),\n",
       "  Text(17, 0, 'Coconut'),\n",
       "  Text(18, 0, 'Black gram'),\n",
       "  Text(19, 0, 'Adzuki Beans'),\n",
       "  Text(20, 0, 'Pigeon Peas'),\n",
       "  Text(21, 0, 'Chickpea'),\n",
       "  Text(22, 0, 'banana'),\n",
       "  Text(23, 0, 'grapes'),\n",
       "  Text(24, 0, 'apple'),\n",
       "  Text(25, 0, 'mango'),\n",
       "  Text(26, 0, 'muskmelon'),\n",
       "  Text(27, 0, 'orange'),\n",
       "  Text(28, 0, 'papaya'),\n",
       "  Text(29, 0, 'pomegranate'),\n",
       "  Text(30, 0, 'watermelon')])"
      ]
     },
     "execution_count": 41,
     "metadata": {},
     "output_type": "execute_result"
    },
    {
     "data": {
      "image/png": "[encoded data removed]",
      "text/plain": [
       "<Figure size 432x288 with 1 Axes>"
      ]
     },
     "metadata": {
      "needs_background": "light"
     },
     "output_type": "display_data"
    }
   ],
   "source": [
    "sns.barplot(crop_data[\"Crop\"],crop_data[\"humidity\"])\n",
    "plt.xticks(rotation = 90)"
   ]
  },
  {
   "cell_type": "code",
   "execution_count": 42,
   "id": "d2e31616",
   "metadata": {},
   "outputs": [
    {
     "name": "stderr",
     "output_type": "stream",
     "text": [
      "C:\\Users\\ASUS\\anaconda\\lib\\site-packages\\seaborn\\_decorators.py:36: FutureWarning: Pass the following variables as keyword args: x, y. From version 0.12, the only valid positional argument will be `data`, and passing other arguments without an explicit keyword will result in an error or misinterpretation.\n",
      "  warnings.warn(\n"
     ]
    },
    {
     "data": {
      "text/plain": [
       "(array([ 0,  1,  2,  3,  4,  5,  6,  7,  8,  9, 10, 11, 12, 13, 14, 15, 16,\n",
       "        17, 18, 19, 20, 21, 22, 23, 24, 25, 26, 27, 28, 29, 30]),\n",
       " [Text(0, 0, 'rice'),\n",
       "  Text(1, 0, 'wheat'),\n",
       "  Text(2, 0, 'Mung Bean'),\n",
       "  Text(3, 0, 'Tea'),\n",
       "  Text(4, 0, 'millet'),\n",
       "  Text(5, 0, 'maize'),\n",
       "  Text(6, 0, 'Lentil'),\n",
       "  Text(7, 0, 'Jute'),\n",
       "  Text(8, 0, 'Coffee'),\n",
       "  Text(9, 0, 'Cotton'),\n",
       "  Text(10, 0, 'Ground Nut'),\n",
       "  Text(11, 0, 'Peas'),\n",
       "  Text(12, 0, 'Rubber'),\n",
       "  Text(13, 0, 'Sugarcane'),\n",
       "  Text(14, 0, 'Tobacco'),\n",
       "  Text(15, 0, 'Kidney Beans'),\n",
       "  Text(16, 0, 'Moth Beans'),\n",
       "  Text(17, 0, 'Coconut'),\n",
       "  Text(18, 0, 'Black gram'),\n",
       "  Text(19, 0, 'Adzuki Beans'),\n",
       "  Text(20, 0, 'Pigeon Peas'),\n",
       "  Text(21, 0, 'Chickpea'),\n",
       "  Text(22, 0, 'banana'),\n",
       "  Text(23, 0, 'grapes'),\n",
       "  Text(24, 0, 'apple'),\n",
       "  Text(25, 0, 'mango'),\n",
       "  Text(26, 0, 'muskmelon'),\n",
       "  Text(27, 0, 'orange'),\n",
       "  Text(28, 0, 'papaya'),\n",
       "  Text(29, 0, 'pomegranate'),\n",
       "  Text(30, 0, 'watermelon')])"
      ]
     },
     "execution_count": 42,
     "metadata": {},
     "output_type": "execute_result"
    },
    {
     "data": {
      "image/png": "[encoded data removed]",
      "text/plain": [
       "<Figure size 432x288 with 1 Axes>"
      ]
     },
     "metadata": {
      "needs_background": "light"
     },
     "output_type": "display_data"
    }
   ],
   "source": [
    "sns.barplot(crop_data[\"Crop\"], crop_data[\"rainfall\"])\n",
    "plt.xticks(rotation = 90)"
   ]
  },
  {
   "cell_type": "code",
   "execution_count": 43,
   "id": "8320c82a",
   "metadata": {},
   "outputs": [
    {
     "data": {
      "text/html": [
       "<div>\n",
       "<style scoped>\n",
       "    .dataframe tbody tr th:only-of-type {\n",
       "        vertical-align: middle;\n",
       "    }\n",
       "\n",
       "    .dataframe tbody tr th {\n",
       "        vertical-align: top;\n",
       "    }\n",
       "\n",
       "    .dataframe thead th {\n",
       "        text-align: right;\n",
       "    }\n",
       "</style>\n",
       "<table border=\"1\" class=\"dataframe\">\n",
       "  <thead>\n",
       "    <tr style=\"text-align: right;\">\n",
       "      <th></th>\n",
       "      <th>temperature</th>\n",
       "      <th>humidity</th>\n",
       "      <th>ph</th>\n",
       "      <th>rainfall</th>\n",
       "    </tr>\n",
       "  </thead>\n",
       "  <tbody>\n",
       "    <tr>\n",
       "      <th>temperature</th>\n",
       "      <td>1.000000</td>\n",
       "      <td>-0.076999</td>\n",
       "      <td>0.017024</td>\n",
       "      <td>-0.055143</td>\n",
       "    </tr>\n",
       "    <tr>\n",
       "      <th>humidity</th>\n",
       "      <td>-0.076999</td>\n",
       "      <td>1.000000</td>\n",
       "      <td>-0.002359</td>\n",
       "      <td>0.192074</td>\n",
       "    </tr>\n",
       "    <tr>\n",
       "      <th>ph</th>\n",
       "      <td>0.017024</td>\n",
       "      <td>-0.002359</td>\n",
       "      <td>1.000000</td>\n",
       "      <td>-0.288598</td>\n",
       "    </tr>\n",
       "    <tr>\n",
       "      <th>rainfall</th>\n",
       "      <td>-0.055143</td>\n",
       "      <td>0.192074</td>\n",
       "      <td>-0.288598</td>\n",
       "      <td>1.000000</td>\n",
       "    </tr>\n",
       "  </tbody>\n",
       "</table>\n",
       "</div>"
      ],
      "text/plain": [
       "             temperature  humidity        ph  rainfall\n",
       "temperature     1.000000 -0.076999  0.017024 -0.055143\n",
       "humidity       -0.076999  1.000000 -0.002359  0.192074\n",
       "ph              0.017024 -0.002359  1.000000 -0.288598\n",
       "rainfall       -0.055143  0.192074 -0.288598  1.000000"
      ]
     },
     "execution_count": 43,
     "metadata": {},
     "output_type": "execute_result"
    }
   ],
   "source": [
    "crop_data.corr()"
   ]
  },
  {
   "cell_type": "code",
   "execution_count": 44,
   "id": "7514aaf7",
   "metadata": {},
   "outputs": [
    {
     "data": {
      "text/plain": [
       "Text(0.5, 1.0, 'Correlation Matrix')"
      ]
     },
     "execution_count": 44,
     "metadata": {},
     "output_type": "execute_result"
    },
    {
     "data": {
      "image/png": "[encoded data removed]",
      "text/plain": [
       "<Figure size 432x288 with 2 Axes>"
      ]
     },
     "metadata": {
      "needs_background": "light"
     },
     "output_type": "display_data"
    }
   ],
   "source": [
    "sns.heatmap(crop_data.corr(), annot =True)\n",
    "plt.title('Correlation Matrix')"
   ]
  },
  {
   "cell_type": "code",
   "execution_count": 45,
   "id": "ec5f2584",
   "metadata": {},
   "outputs": [
    {
     "data": {
      "text/html": [
       "<div>\n",
       "<style scoped>\n",
       "    .dataframe tbody tr th:only-of-type {\n",
       "        vertical-align: middle;\n",
       "    }\n",
       "\n",
       "    .dataframe tbody tr th {\n",
       "        vertical-align: top;\n",
       "    }\n",
       "\n",
       "    .dataframe thead th {\n",
       "        text-align: right;\n",
       "    }\n",
       "</style>\n",
       "<table border=\"1\" class=\"dataframe\">\n",
       "  <thead>\n",
       "    <tr style=\"text-align: right;\">\n",
       "      <th></th>\n",
       "      <th>temperature</th>\n",
       "      <th>humidity</th>\n",
       "      <th>ph</th>\n",
       "      <th>rainfall</th>\n",
       "      <th>Crop</th>\n",
       "    </tr>\n",
       "  </thead>\n",
       "  <tbody>\n",
       "    <tr>\n",
       "      <th>1141</th>\n",
       "      <td>16.912919</td>\n",
       "      <td>13.881680</td>\n",
       "      <td>5.959978</td>\n",
       "      <td>54.026676</td>\n",
       "      <td>Peas</td>\n",
       "    </tr>\n",
       "    <tr>\n",
       "      <th>2262</th>\n",
       "      <td>27.486130</td>\n",
       "      <td>76.112398</td>\n",
       "      <td>6.212369</td>\n",
       "      <td>109.276885</td>\n",
       "      <td>banana</td>\n",
       "    </tr>\n",
       "    <tr>\n",
       "      <th>1964</th>\n",
       "      <td>53.751483</td>\n",
       "      <td>61.805135</td>\n",
       "      <td>5.410117</td>\n",
       "      <td>130.090866</td>\n",
       "      <td>Adzuki Beans</td>\n",
       "    </tr>\n",
       "    <tr>\n",
       "      <th>1456</th>\n",
       "      <td>19.978657</td>\n",
       "      <td>63.458462</td>\n",
       "      <td>5.944788</td>\n",
       "      <td>84.685380</td>\n",
       "      <td>Tobacco</td>\n",
       "    </tr>\n",
       "    <tr>\n",
       "      <th>142</th>\n",
       "      <td>28.721646</td>\n",
       "      <td>59.375796</td>\n",
       "      <td>6.743792</td>\n",
       "      <td>121.484053</td>\n",
       "      <td>wheat</td>\n",
       "    </tr>\n",
       "  </tbody>\n",
       "</table>\n",
       "</div>"
      ],
      "text/plain": [
       "      temperature   humidity        ph    rainfall          Crop\n",
       "1141    16.912919  13.881680  5.959978   54.026676          Peas\n",
       "2262    27.486130  76.112398  6.212369  109.276885        banana\n",
       "1964    53.751483  61.805135  5.410117  130.090866  Adzuki Beans\n",
       "1456    19.978657  63.458462  5.944788   84.685380       Tobacco\n",
       "142     28.721646  59.375796  6.743792  121.484053         wheat"
      ]
     },
     "execution_count": 45,
     "metadata": {},
     "output_type": "execute_result"
    }
   ],
   "source": [
    "# Shuffling data to remove order effects\n",
    "\n",
    "# shuffling the dataset to remove order\n",
    "from sklearn.utils import shuffle\n",
    "\n",
    "df  = shuffle(crop_data,random_state=5)\n",
    "df.head()\n"
   ]
  },
  {
   "cell_type": "code",
   "execution_count": 46,
   "id": "42654069",
   "metadata": {},
   "outputs": [],
   "source": [
    "# Selection of Feature and Target variables.\n",
    "\n",
    "x = df[['temperature', 'humidity', 'ph', 'rainfall']]\n",
    "target = df['Crop']"
   ]
  },
  {
   "cell_type": "code",
   "execution_count": 47,
   "id": "a64304ac",
   "metadata": {},
   "outputs": [
    {
     "data": {
      "text/html": [
       "<div>\n",
       "<style scoped>\n",
       "    .dataframe tbody tr th:only-of-type {\n",
       "        vertical-align: middle;\n",
       "    }\n",
       "\n",
       "    .dataframe tbody tr th {\n",
       "        vertical-align: top;\n",
       "    }\n",
       "\n",
       "    .dataframe thead th {\n",
       "        text-align: right;\n",
       "    }\n",
       "</style>\n",
       "<table border=\"1\" class=\"dataframe\">\n",
       "  <thead>\n",
       "    <tr style=\"text-align: right;\">\n",
       "      <th></th>\n",
       "      <th>Adzuki Beans</th>\n",
       "      <th>Black gram</th>\n",
       "      <th>Chickpea</th>\n",
       "      <th>Coconut</th>\n",
       "      <th>Coffee</th>\n",
       "      <th>Cotton</th>\n",
       "      <th>Ground Nut</th>\n",
       "      <th>Jute</th>\n",
       "      <th>Kidney Beans</th>\n",
       "      <th>Lentil</th>\n",
       "      <th>...</th>\n",
       "      <th>maize</th>\n",
       "      <th>mango</th>\n",
       "      <th>millet</th>\n",
       "      <th>muskmelon</th>\n",
       "      <th>orange</th>\n",
       "      <th>papaya</th>\n",
       "      <th>pomegranate</th>\n",
       "      <th>rice</th>\n",
       "      <th>watermelon</th>\n",
       "      <th>wheat</th>\n",
       "    </tr>\n",
       "  </thead>\n",
       "  <tbody>\n",
       "    <tr>\n",
       "      <th>1141</th>\n",
       "      <td>0</td>\n",
       "      <td>0</td>\n",
       "      <td>0</td>\n",
       "      <td>0</td>\n",
       "      <td>0</td>\n",
       "      <td>0</td>\n",
       "      <td>0</td>\n",
       "      <td>0</td>\n",
       "      <td>0</td>\n",
       "      <td>0</td>\n",
       "      <td>...</td>\n",
       "      <td>0</td>\n",
       "      <td>0</td>\n",
       "      <td>0</td>\n",
       "      <td>0</td>\n",
       "      <td>0</td>\n",
       "      <td>0</td>\n",
       "      <td>0</td>\n",
       "      <td>0</td>\n",
       "      <td>0</td>\n",
       "      <td>0</td>\n",
       "    </tr>\n",
       "    <tr>\n",
       "      <th>2262</th>\n",
       "      <td>0</td>\n",
       "      <td>0</td>\n",
       "      <td>0</td>\n",
       "      <td>0</td>\n",
       "      <td>0</td>\n",
       "      <td>0</td>\n",
       "      <td>0</td>\n",
       "      <td>0</td>\n",
       "      <td>0</td>\n",
       "      <td>0</td>\n",
       "      <td>...</td>\n",
       "      <td>0</td>\n",
       "      <td>0</td>\n",
       "      <td>0</td>\n",
       "      <td>0</td>\n",
       "      <td>0</td>\n",
       "      <td>0</td>\n",
       "      <td>0</td>\n",
       "      <td>0</td>\n",
       "      <td>0</td>\n",
       "      <td>0</td>\n",
       "    </tr>\n",
       "    <tr>\n",
       "      <th>1964</th>\n",
       "      <td>1</td>\n",
       "      <td>0</td>\n",
       "      <td>0</td>\n",
       "      <td>0</td>\n",
       "      <td>0</td>\n",
       "      <td>0</td>\n",
       "      <td>0</td>\n",
       "      <td>0</td>\n",
       "      <td>0</td>\n",
       "      <td>0</td>\n",
       "      <td>...</td>\n",
       "      <td>0</td>\n",
       "      <td>0</td>\n",
       "      <td>0</td>\n",
       "      <td>0</td>\n",
       "      <td>0</td>\n",
       "      <td>0</td>\n",
       "      <td>0</td>\n",
       "      <td>0</td>\n",
       "      <td>0</td>\n",
       "      <td>0</td>\n",
       "    </tr>\n",
       "    <tr>\n",
       "      <th>1456</th>\n",
       "      <td>0</td>\n",
       "      <td>0</td>\n",
       "      <td>0</td>\n",
       "      <td>0</td>\n",
       "      <td>0</td>\n",
       "      <td>0</td>\n",
       "      <td>0</td>\n",
       "      <td>0</td>\n",
       "      <td>0</td>\n",
       "      <td>0</td>\n",
       "      <td>...</td>\n",
       "      <td>0</td>\n",
       "      <td>0</td>\n",
       "      <td>0</td>\n",
       "      <td>0</td>\n",
       "      <td>0</td>\n",
       "      <td>0</td>\n",
       "      <td>0</td>\n",
       "      <td>0</td>\n",
       "      <td>0</td>\n",
       "      <td>0</td>\n",
       "    </tr>\n",
       "    <tr>\n",
       "      <th>142</th>\n",
       "      <td>0</td>\n",
       "      <td>0</td>\n",
       "      <td>0</td>\n",
       "      <td>0</td>\n",
       "      <td>0</td>\n",
       "      <td>0</td>\n",
       "      <td>0</td>\n",
       "      <td>0</td>\n",
       "      <td>0</td>\n",
       "      <td>0</td>\n",
       "      <td>...</td>\n",
       "      <td>0</td>\n",
       "      <td>0</td>\n",
       "      <td>0</td>\n",
       "      <td>0</td>\n",
       "      <td>0</td>\n",
       "      <td>0</td>\n",
       "      <td>0</td>\n",
       "      <td>0</td>\n",
       "      <td>0</td>\n",
       "      <td>1</td>\n",
       "    </tr>\n",
       "    <tr>\n",
       "      <th>...</th>\n",
       "      <td>...</td>\n",
       "      <td>...</td>\n",
       "      <td>...</td>\n",
       "      <td>...</td>\n",
       "      <td>...</td>\n",
       "      <td>...</td>\n",
       "      <td>...</td>\n",
       "      <td>...</td>\n",
       "      <td>...</td>\n",
       "      <td>...</td>\n",
       "      <td>...</td>\n",
       "      <td>...</td>\n",
       "      <td>...</td>\n",
       "      <td>...</td>\n",
       "      <td>...</td>\n",
       "      <td>...</td>\n",
       "      <td>...</td>\n",
       "      <td>...</td>\n",
       "      <td>...</td>\n",
       "      <td>...</td>\n",
       "      <td>...</td>\n",
       "    </tr>\n",
       "    <tr>\n",
       "      <th>1424</th>\n",
       "      <td>0</td>\n",
       "      <td>0</td>\n",
       "      <td>0</td>\n",
       "      <td>0</td>\n",
       "      <td>0</td>\n",
       "      <td>0</td>\n",
       "      <td>0</td>\n",
       "      <td>0</td>\n",
       "      <td>0</td>\n",
       "      <td>0</td>\n",
       "      <td>...</td>\n",
       "      <td>0</td>\n",
       "      <td>0</td>\n",
       "      <td>0</td>\n",
       "      <td>0</td>\n",
       "      <td>0</td>\n",
       "      <td>0</td>\n",
       "      <td>0</td>\n",
       "      <td>0</td>\n",
       "      <td>0</td>\n",
       "      <td>0</td>\n",
       "    </tr>\n",
       "    <tr>\n",
       "      <th>3046</th>\n",
       "      <td>0</td>\n",
       "      <td>0</td>\n",
       "      <td>0</td>\n",
       "      <td>0</td>\n",
       "      <td>0</td>\n",
       "      <td>0</td>\n",
       "      <td>0</td>\n",
       "      <td>0</td>\n",
       "      <td>0</td>\n",
       "      <td>0</td>\n",
       "      <td>...</td>\n",
       "      <td>0</td>\n",
       "      <td>0</td>\n",
       "      <td>0</td>\n",
       "      <td>0</td>\n",
       "      <td>0</td>\n",
       "      <td>0</td>\n",
       "      <td>0</td>\n",
       "      <td>0</td>\n",
       "      <td>1</td>\n",
       "      <td>0</td>\n",
       "    </tr>\n",
       "    <tr>\n",
       "      <th>1725</th>\n",
       "      <td>0</td>\n",
       "      <td>0</td>\n",
       "      <td>0</td>\n",
       "      <td>1</td>\n",
       "      <td>0</td>\n",
       "      <td>0</td>\n",
       "      <td>0</td>\n",
       "      <td>0</td>\n",
       "      <td>0</td>\n",
       "      <td>0</td>\n",
       "      <td>...</td>\n",
       "      <td>0</td>\n",
       "      <td>0</td>\n",
       "      <td>0</td>\n",
       "      <td>0</td>\n",
       "      <td>0</td>\n",
       "      <td>0</td>\n",
       "      <td>0</td>\n",
       "      <td>0</td>\n",
       "      <td>0</td>\n",
       "      <td>0</td>\n",
       "    </tr>\n",
       "    <tr>\n",
       "      <th>2254</th>\n",
       "      <td>0</td>\n",
       "      <td>0</td>\n",
       "      <td>0</td>\n",
       "      <td>0</td>\n",
       "      <td>0</td>\n",
       "      <td>0</td>\n",
       "      <td>0</td>\n",
       "      <td>0</td>\n",
       "      <td>0</td>\n",
       "      <td>0</td>\n",
       "      <td>...</td>\n",
       "      <td>0</td>\n",
       "      <td>0</td>\n",
       "      <td>0</td>\n",
       "      <td>0</td>\n",
       "      <td>0</td>\n",
       "      <td>0</td>\n",
       "      <td>0</td>\n",
       "      <td>0</td>\n",
       "      <td>0</td>\n",
       "      <td>0</td>\n",
       "    </tr>\n",
       "    <tr>\n",
       "      <th>2915</th>\n",
       "      <td>0</td>\n",
       "      <td>0</td>\n",
       "      <td>0</td>\n",
       "      <td>0</td>\n",
       "      <td>0</td>\n",
       "      <td>0</td>\n",
       "      <td>0</td>\n",
       "      <td>0</td>\n",
       "      <td>0</td>\n",
       "      <td>0</td>\n",
       "      <td>...</td>\n",
       "      <td>0</td>\n",
       "      <td>0</td>\n",
       "      <td>0</td>\n",
       "      <td>0</td>\n",
       "      <td>0</td>\n",
       "      <td>0</td>\n",
       "      <td>1</td>\n",
       "      <td>0</td>\n",
       "      <td>0</td>\n",
       "      <td>0</td>\n",
       "    </tr>\n",
       "  </tbody>\n",
       "</table>\n",
       "<p>3100 rows × 31 columns</p>\n",
       "</div>"
      ],
      "text/plain": [
       "      Adzuki Beans  Black gram  Chickpea  Coconut  Coffee  Cotton  Ground Nut  \\\n",
       "1141             0           0         0        0       0       0           0   \n",
       "2262             0           0         0        0       0       0           0   \n",
       "1964             1           0         0        0       0       0           0   \n",
       "1456             0           0         0        0       0       0           0   \n",
       "142              0           0         0        0       0       0           0   \n",
       "...            ...         ...       ...      ...     ...     ...         ...   \n",
       "1424             0           0         0        0       0       0           0   \n",
       "3046             0           0         0        0       0       0           0   \n",
       "1725             0           0         0        1       0       0           0   \n",
       "2254             0           0         0        0       0       0           0   \n",
       "2915             0           0         0        0       0       0           0   \n",
       "\n",
       "      Jute  Kidney Beans  Lentil  ...  maize  mango  millet  muskmelon  \\\n",
       "1141     0             0       0  ...      0      0       0          0   \n",
       "2262     0             0       0  ...      0      0       0          0   \n",
       "1964     0             0       0  ...      0      0       0          0   \n",
       "1456     0             0       0  ...      0      0       0          0   \n",
       "142      0             0       0  ...      0      0       0          0   \n",
       "...    ...           ...     ...  ...    ...    ...     ...        ...   \n",
       "1424     0             0       0  ...      0      0       0          0   \n",
       "3046     0             0       0  ...      0      0       0          0   \n",
       "1725     0             0       0  ...      0      0       0          0   \n",
       "2254     0             0       0  ...      0      0       0          0   \n",
       "2915     0             0       0  ...      0      0       0          0   \n",
       "\n",
       "      orange  papaya  pomegranate  rice  watermelon  wheat  \n",
       "1141       0       0            0     0           0      0  \n",
       "2262       0       0            0     0           0      0  \n",
       "1964       0       0            0     0           0      0  \n",
       "1456       0       0            0     0           0      0  \n",
       "142        0       0            0     0           0      1  \n",
       "...      ...     ...          ...   ...         ...    ...  \n",
       "1424       0       0            0     0           0      0  \n",
       "3046       0       0            0     0           1      0  \n",
       "1725       0       0            0     0           0      0  \n",
       "2254       0       0            0     0           0      0  \n",
       "2915       0       0            1     0           0      0  \n",
       "\n",
       "[3100 rows x 31 columns]"
      ]
     },
     "execution_count": 47,
     "metadata": {},
     "output_type": "execute_result"
    }
   ],
   "source": [
    "# Encoding target variable \n",
    "\n",
    "y = pd.get_dummies(target)\n",
    "y"
   ]
  },
  {
   "cell_type": "code",
   "execution_count": 48,
   "id": "9ec30e12",
   "metadata": {},
   "outputs": [
    {
     "name": "stdout",
     "output_type": "stream",
     "text": [
      "x_train : (2325, 4)\n",
      "x_test : (775, 4)\n",
      "y_train : (2325, 31)\n",
      "y_test : (775, 31)\n"
     ]
    }
   ],
   "source": [
    "# Splitting data set - 25% test dataset and 75% \n",
    "\n",
    "\n",
    "from sklearn.model_selection import train_test_split\n",
    "\n",
    "x_train,x_test,y_train,y_test = train_test_split(x,y,test_size=0.25, random_state= 0)\n",
    "\n",
    "print(\"x_train :\",x_train.shape)\n",
    "print(\"x_test :\",x_test.shape)\n",
    "print(\"y_train :\",y_train.shape)\n",
    "print(\"y_test :\",y_test.shape)"
   ]
  },
  {
   "cell_type": "code",
   "execution_count": 49,
   "id": "fd985780",
   "metadata": {},
   "outputs": [],
   "source": [
    "# Importing necessary libraries for multi-output classification\n",
    "\n",
    "from sklearn.datasets import make_classification\n",
    "from sklearn.multioutput import MultiOutputClassifier\n",
    "from sklearn.ensemble import RandomForestClassifier"
   ]
  },
  {
   "cell_type": "code",
   "execution_count": 50,
   "id": "837ff5fd",
   "metadata": {},
   "outputs": [
    {
     "data": {
      "text/plain": [
       "MultiOutputClassifier(estimator=RandomForestClassifier(random_state=1),\n",
       "                      n_jobs=-1)"
      ]
     },
     "execution_count": 50,
     "metadata": {},
     "output_type": "execute_result"
    }
   ],
   "source": [
    "# Training\n",
    "\n",
    "forest = RandomForestClassifier(random_state=1)\n",
    "multi_target_forest = MultiOutputClassifier(forest, n_jobs=-1)\n",
    "multi_target_forest.fit(x_train, y_train)"
   ]
  },
  {
   "cell_type": "code",
   "execution_count": 51,
   "id": "ea78f80f",
   "metadata": {},
   "outputs": [
    {
     "data": {
      "text/plain": [
       "array([[0, 0, 0, ..., 0, 0, 0],\n",
       "       [0, 0, 0, ..., 0, 0, 0],\n",
       "       [0, 0, 0, ..., 0, 0, 0],\n",
       "       ...,\n",
       "       [1, 0, 0, ..., 0, 0, 0],\n",
       "       [0, 0, 0, ..., 0, 0, 0],\n",
       "       [0, 0, 0, ..., 0, 0, 0]], dtype=uint8)"
      ]
     },
     "execution_count": 51,
     "metadata": {},
     "output_type": "execute_result"
    }
   ],
   "source": [
    "# Predicting test results \n",
    "\n",
    "forest_pred = multi_target_forest.predict(x_test)\n",
    "forest_pred"
   ]
  },
  {
   "cell_type": "code",
   "execution_count": 52,
   "id": "8b9b3cbb",
   "metadata": {},
   "outputs": [
    {
     "name": "stdout",
     "output_type": "stream",
     "text": [
      "Accuracy score: 0.8529032258064516\n"
     ]
    }
   ],
   "source": [
    "# Calculating Accuracy\n",
    "\n",
    "from sklearn.metrics import accuracy_score\n",
    "a1 = accuracy_score(y_test, forest_pred)\n",
    "print('Accuracy score:', accuracy_score(y_test, forest_pred))"
   ]
  },
  {
   "cell_type": "code",
   "execution_count": 53,
   "id": "7e5e533c",
   "metadata": {},
   "outputs": [
    {
     "data": {
      "text/plain": [
       "array([0.84946237, 0.8516129 , 0.88602151, 0.8344086 , 0.85376344])"
      ]
     },
     "execution_count": 53,
     "metadata": {},
     "output_type": "execute_result"
    }
   ],
   "source": [
    "from sklearn.model_selection import cross_val_score\n",
    "score = cross_val_score(multi_target_forest,X = x_train, y = y_train,cv=5)\n",
    "score"
   ]
  },
  {
   "cell_type": "code",
   "execution_count": 54,
   "id": "26f471fe",
   "metadata": {},
   "outputs": [
    {
     "data": {
      "text/plain": [
       "85.51"
      ]
     },
     "execution_count": 54,
     "metadata": {},
     "output_type": "execute_result"
    }
   ],
   "source": [
    "b1 = \"{:.2f}\".format(score.mean()*100)\n",
    "b1 = float(b1)\n",
    "b1"
   ]
  },
  {
   "cell_type": "code",
   "execution_count": 55,
   "id": "dda00936",
   "metadata": {},
   "outputs": [
    {
     "data": {
      "text/plain": [
       "1.6911486667817204"
      ]
     },
     "execution_count": 55,
     "metadata": {},
     "output_type": "execute_result"
    }
   ],
   "source": [
    "c1 = (score.std()*100)\n",
    "c1"
   ]
  },
  {
   "cell_type": "code",
   "execution_count": 56,
   "id": "f225b330",
   "metadata": {},
   "outputs": [
    {
     "name": "stdout",
     "output_type": "stream",
     "text": [
      "Accuracy : 85.51%\n",
      "Standard Deviation : 1.69%\n"
     ]
    }
   ],
   "source": [
    "print(\"Accuracy : {:.2f}%\".format (score.mean()*100))\n",
    "print(\"Standard Deviation : {:.2f}%\".format(score.std()*100))"
   ]
  },
  {
   "cell_type": "code",
   "execution_count": 57,
   "id": "f54fa429",
   "metadata": {},
   "outputs": [
    {
     "data": {
      "text/plain": [
       "MultiOutputClassifier(estimator=DecisionTreeClassifier(random_state=6),\n",
       "                      n_jobs=-1)"
      ]
     },
     "execution_count": 57,
     "metadata": {},
     "output_type": "execute_result"
    }
   ],
   "source": [
    "# Training\n",
    "from sklearn.tree import DecisionTreeClassifier\n",
    "\n",
    "clf = DecisionTreeClassifier(random_state=6)\n",
    "multi_target_decision = MultiOutputClassifier(clf, n_jobs=-1)\n",
    "multi_target_decision.fit(x_train, y_train)"
   ]
  },
  {
   "cell_type": "code",
   "execution_count": 58,
   "id": "869052d0",
   "metadata": {},
   "outputs": [
    {
     "data": {
      "text/plain": [
       "array([[0, 0, 0, ..., 0, 0, 0],\n",
       "       [0, 0, 0, ..., 0, 0, 0],\n",
       "       [0, 0, 0, ..., 0, 0, 0],\n",
       "       ...,\n",
       "       [1, 0, 0, ..., 0, 0, 0],\n",
       "       [0, 0, 0, ..., 0, 0, 0],\n",
       "       [0, 0, 0, ..., 0, 0, 0]], dtype=uint8)"
      ]
     },
     "execution_count": 58,
     "metadata": {},
     "output_type": "execute_result"
    }
   ],
   "source": [
    "# Predicting test results \n",
    "\n",
    "decision_pred = multi_target_decision.predict(x_test)\n",
    "decision_pred"
   ]
  },
  {
   "cell_type": "code",
   "execution_count": 59,
   "id": "e18e84d4",
   "metadata": {},
   "outputs": [
    {
     "name": "stdout",
     "output_type": "stream",
     "text": [
      "Accuracy score: 0.8309677419354838\n"
     ]
    },
    {
     "data": {
      "text/plain": [
       "0.8309677419354838"
      ]
     },
     "execution_count": 59,
     "metadata": {},
     "output_type": "execute_result"
    }
   ],
   "source": [
    "# Calculating Accuracy\n",
    "\n",
    "from sklearn.metrics import accuracy_score\n",
    "a2 = accuracy_score(y_test,decision_pred)\n",
    "print('Accuracy score:', accuracy_score(y_test,decision_pred))\n",
    "a2"
   ]
  },
  {
   "cell_type": "markdown",
   "id": "15f27f83",
   "metadata": {},
   "source": [
    "**Cross-validation**"
   ]
  },
  {
   "cell_type": "code",
   "execution_count": 60,
   "id": "72953e83",
   "metadata": {},
   "outputs": [
    {
     "data": {
      "text/plain": [
       "array([0.82882883, 0.86144578, 0.79216867, 0.88855422, 0.80722892,\n",
       "       0.8253012 , 0.81024096])"
      ]
     },
     "execution_count": 60,
     "metadata": {},
     "output_type": "execute_result"
    }
   ],
   "source": [
    "from sklearn.model_selection import cross_val_score\n",
    "score = cross_val_score(multi_target_decision,X = x_train, y = y_train,cv=7)\n",
    "score"
   ]
  },
  {
   "cell_type": "code",
   "execution_count": 61,
   "id": "5b55b09b",
   "metadata": {},
   "outputs": [
    {
     "data": {
      "text/plain": [
       "83.05"
      ]
     },
     "execution_count": 61,
     "metadata": {},
     "output_type": "execute_result"
    }
   ],
   "source": [
    "b2 = \"{:.2f}\".format(score.mean()*100)\n",
    "b2 = float(b2)\n",
    "b2"
   ]
  },
  {
   "cell_type": "code",
   "execution_count": 62,
   "id": "c74c7dcc",
   "metadata": {},
   "outputs": [
    {
     "data": {
      "text/plain": [
       "3.1119598738808025"
      ]
     },
     "execution_count": 62,
     "metadata": {},
     "output_type": "execute_result"
    }
   ],
   "source": [
    "c2 = (score.std()*100)\n",
    "c2"
   ]
  },
  {
   "cell_type": "code",
   "execution_count": 63,
   "id": "c948ebf9",
   "metadata": {},
   "outputs": [
    {
     "data": {
      "text/plain": [
       "MultiOutputClassifier(estimator=GradientBoostingClassifier(), n_jobs=-1)"
      ]
     },
     "execution_count": 63,
     "metadata": {},
     "output_type": "execute_result"
    }
   ],
   "source": [
    "from sklearn.ensemble import GradientBoostingClassifier\n",
    "gb_clf = GradientBoostingClassifier()\n",
    "model = MultiOutputClassifier(gb_clf, n_jobs=-1)\n",
    "model.fit(x_train, y_train)"
   ]
  },
  {
   "cell_type": "code",
   "execution_count": 64,
   "id": "f19dce4c",
   "metadata": {},
   "outputs": [
    {
     "data": {
      "text/plain": [
       "array([[0, 0, 0, ..., 0, 0, 0],\n",
       "       [0, 0, 0, ..., 0, 0, 0],\n",
       "       [0, 0, 0, ..., 0, 0, 0],\n",
       "       ...,\n",
       "       [1, 0, 0, ..., 0, 0, 0],\n",
       "       [0, 0, 0, ..., 1, 0, 0],\n",
       "       [0, 0, 0, ..., 0, 0, 0]], dtype=uint8)"
      ]
     },
     "execution_count": 64,
     "metadata": {},
     "output_type": "execute_result"
    }
   ],
   "source": [
    "grad_pred = model.predict(x_test)\n",
    "grad_pred"
   ]
  },
  {
   "cell_type": "code",
   "execution_count": 65,
   "id": "6a563842",
   "metadata": {},
   "outputs": [
    {
     "name": "stdout",
     "output_type": "stream",
     "text": [
      "Accuracy score: 0.8412903225806452\n"
     ]
    },
    {
     "data": {
      "text/plain": [
       "0.8412903225806452"
      ]
     },
     "execution_count": 65,
     "metadata": {},
     "output_type": "execute_result"
    }
   ],
   "source": [
    "# Calculating Accuracy\n",
    "\n",
    "from sklearn.metrics import accuracy_score\n",
    "a3 = accuracy_score(y_test,grad_pred)\n",
    "print('Accuracy score:', accuracy_score(y_test,grad_pred))\n",
    "a3"
   ]
  },
  {
   "cell_type": "markdown",
   "id": "6a5c5034",
   "metadata": {},
   "source": [
    "**Cross-validation**"
   ]
  },
  {
   "cell_type": "code",
   "execution_count": 66,
   "id": "a582ec04",
   "metadata": {},
   "outputs": [
    {
     "data": {
      "text/plain": [
       "array([0.82882883, 0.86144578, 0.79216867, 0.88855422, 0.80722892,\n",
       "       0.8253012 , 0.81024096])"
      ]
     },
     "execution_count": 66,
     "metadata": {},
     "output_type": "execute_result"
    }
   ],
   "source": [
    "from sklearn.model_selection import cross_val_score\n",
    "score = cross_val_score(multi_target_decision,X = x_train, y = y_train,cv=7)\n",
    "score"
   ]
  },
  {
   "cell_type": "code",
   "execution_count": 67,
   "id": "94f91858",
   "metadata": {},
   "outputs": [
    {
     "data": {
      "text/plain": [
       "83.05"
      ]
     },
     "execution_count": 67,
     "metadata": {},
     "output_type": "execute_result"
    }
   ],
   "source": [
    "b3 = \"{:.2f}\".format(score.mean()*100)\n",
    "b3 = float(b3)\n",
    "b3"
   ]
  },
  {
   "cell_type": "code",
   "execution_count": 68,
   "id": "ca02b2f2",
   "metadata": {},
   "outputs": [
    {
     "data": {
      "text/plain": [
       "3.1119598738808025"
      ]
     },
     "execution_count": 68,
     "metadata": {},
     "output_type": "execute_result"
    }
   ],
   "source": [
    "c3 = (score.std()*100)\n",
    "c3"
   ]
  },
  {
   "cell_type": "code",
   "execution_count": 69,
   "id": "2cb3f7ae",
   "metadata": {},
   "outputs": [
    {
     "data": {
      "text/html": [
       "<div>\n",
       "<style scoped>\n",
       "    .dataframe tbody tr th:only-of-type {\n",
       "        vertical-align: middle;\n",
       "    }\n",
       "\n",
       "    .dataframe tbody tr th {\n",
       "        vertical-align: top;\n",
       "    }\n",
       "\n",
       "    .dataframe thead th {\n",
       "        text-align: right;\n",
       "    }\n",
       "</style>\n",
       "<table border=\"1\" class=\"dataframe\">\n",
       "  <thead>\n",
       "    <tr style=\"text-align: right;\">\n",
       "      <th></th>\n",
       "      <th>Algorithms</th>\n",
       "      <th>Accuracy</th>\n",
       "      <th>Standard Deviation</th>\n",
       "    </tr>\n",
       "  </thead>\n",
       "  <tbody>\n",
       "    <tr>\n",
       "      <th>0</th>\n",
       "      <td>Random Forest</td>\n",
       "      <td>85.51</td>\n",
       "      <td>1.691149</td>\n",
       "    </tr>\n",
       "    <tr>\n",
       "      <th>1</th>\n",
       "      <td>Decision-tree</td>\n",
       "      <td>83.05</td>\n",
       "      <td>3.111960</td>\n",
       "    </tr>\n",
       "    <tr>\n",
       "      <th>2</th>\n",
       "      <td>Gradient Boosting</td>\n",
       "      <td>83.05</td>\n",
       "      <td>3.111960</td>\n",
       "    </tr>\n",
       "  </tbody>\n",
       "</table>\n",
       "</div>"
      ],
      "text/plain": [
       "          Algorithms  Accuracy  Standard Deviation\n",
       "0      Random Forest     85.51            1.691149\n",
       "1      Decision-tree     83.05            3.111960\n",
       "2  Gradient Boosting     83.05            3.111960"
      ]
     },
     "execution_count": 69,
     "metadata": {},
     "output_type": "execute_result"
    }
   ],
   "source": [
    "# initialise data of lists.\n",
    "data = {'Algorithms':['Random Forest', 'Decision-tree', 'Gradient Boosting'],\n",
    "        'Accuracy':[b1, b2, b3],\n",
    "        'Standard Deviation':[c1,c2,c3]}\n",
    " \n",
    "# Creates pandas DataFrame.\n",
    "df = pd.DataFrame(data)\n",
    " \n",
    "# print the data\n",
    "df\n"
   ]
  },
  {
   "cell_type": "code",
   "execution_count": 70,
   "id": "50de7908",
   "metadata": {},
   "outputs": [
    {
     "data": {
      "image/png": "[encoded data removed]",
      "text/plain": [
       "<Figure size 432x288 with 1 Axes>"
      ]
     },
     "metadata": {
      "needs_background": "light"
     },
     "output_type": "display_data"
    }
   ],
   "source": [
    "# create a dataset\n",
    "Algorithms = ['Random Forest', 'Decision-tree','Gradient Boosting']\n",
    "Accuracy = [b1, b2, b3]\n",
    "\n",
    "x_pos = np.arange(len(Accuracy))\n",
    "\n",
    "# Create bars with different colors\n",
    "plt.bar(x_pos, Accuracy, color=['#488AC7','#ff8c00','#009150'])\n",
    "\n",
    "# Create names on the x-axis\n",
    "plt.xticks(x_pos, Algorithms)\n",
    "plt.ylabel('Accuracy(in %)')\n",
    "plt.xlabel('Machine Learning Classifying Techniques')\n",
    "\n",
    "# Show graph\n",
    "plt.show()"
   ]
  },
  {
   "cell_type": "code",
   "execution_count": 71,
   "id": "f2d80053",
   "metadata": {},
   "outputs": [
    {
     "data": {
      "image/png": "[encoded data removed]",
      "text/plain": [
       "<Figure size 432x288 with 1 Axes>"
      ]
     },
     "metadata": {
      "needs_background": "light"
     },
     "output_type": "display_data"
    }
   ],
   "source": [
    "# create a dataset\n",
    "Algorithms = ['Random Forest', 'Decision-tree','Gradient  Boosting']\n",
    "Accuracy = [c1, c2, c3]\n",
    "\n",
    "x_pos = np.arange(len(Accuracy))\n",
    "\n",
    "# Create bars with different colors\n",
    "plt.bar(x_pos, Accuracy, color= ['#488AC7','#ff8c00','#009150'])\n",
    "\n",
    "# Create names on the x-axis\n",
    "plt.xticks(x_pos, Algorithms)\n",
    "plt.ylabel('Standard Deviation(in %)')\n",
    "plt.xlabel('Machine Learning Classifying Techniques')\n",
    "\n",
    "# Show graph\n",
    "plt.show()"
   ]
  },
  {
   "cell_type": "code",
   "execution_count": 72,
   "id": "1697393e",
   "metadata": {},
   "outputs": [
    {
     "data": {
      "image/png": "[encoded data removed]",
      "text/plain": [
       "<Figure size 432x288 with 1 Axes>"
      ]
     },
     "metadata": {
      "needs_background": "light"
     },
     "output_type": "display_data"
    }
   ],
   "source": [
    "def addlabels(x,y):\n",
    "    for i in range(len(x)):\n",
    "        plt.text(i,y[i],y[i],ha = 'center')\n",
    "  \n",
    "if __name__ == '__main__':\n",
    "    # creating data on which bar chart will be plot\n",
    "    x = [\"Random Forest\", \"Decision tree\", \"KNN\"]\n",
    "    y = [b1,b2,b3]\n",
    "\n",
    "\n",
    "    x_pos = np.arange(len(y))\n",
    "\n",
    "    # Create bars with different colors\n",
    "    plt.bar(x_pos, y, color= ['#A52A2A','#00008B','#2E8B57'])\n",
    "      \n",
    "    # calling the function to add value labels\n",
    "    addlabels(x, y)\n",
    "      \n",
    "    # giving X and Y labels\n",
    "    plt.xlabel(\"Machine Learning Classifying Algorithms\")\n",
    "    plt.ylabel(\"Accuracy (in %)\")\n",
    "      \n",
    "    # visualizing the plot\n",
    "    plt.show()"
   ]
  },
  {
   "cell_type": "code",
   "execution_count": 73,
   "id": "fc711703",
   "metadata": {},
   "outputs": [
    {
     "data": {
      "image/png": "[encoded data removed]",
      "text/plain": [
       "<Figure size 432x288 with 1 Axes>"
      ]
     },
     "metadata": {
      "needs_background": "light"
     },
     "output_type": "display_data"
    },
    {
     "data": {
      "image/png": "[encoded data removed]",
      "text/plain": [
       "<Figure size 1080x720 with 1 Axes>"
      ]
     },
     "metadata": {
      "needs_background": "light"
     },
     "output_type": "display_data"
    }
   ],
   "source": [
    "plt.bar(df['Algorithms'], df['Accuracy'], color = ['#A52A2A','#00008B','#2E8B57'])\n",
    "fig = plt.figure(figsize =(15, 10))\n",
    "plt.title('Crop Suggestion Model')\n",
    " \n",
    "# Show Plot\n",
    "plt.show()\n"
   ]
  },
  {
   "cell_type": "code",
   "execution_count": 74,
   "id": "e05a74db",
   "metadata": {},
   "outputs": [
    {
     "data": {
      "image/png": "[encoded data removed]",
      "text/plain": [
       "<Figure size 720x432 with 1 Axes>"
      ]
     },
     "metadata": {
      "needs_background": "light"
     },
     "output_type": "display_data"
    }
   ],
   "source": [
    "# set width of bar\n",
    "barWidth = 0.25\n",
    "fig = plt.subplots(figsize =(10, 6))\n",
    " \n",
    "# set height of bar\n",
    "Algorithms = ['Random Forest', 'Decision-tree', 'Gradient Boostiing']\n",
    "Accuracy = [b1, b2, b3]\n",
    "Standard_Deviation = [c1,c2,c3]\n",
    " \n",
    "# Set position of bar on X axis\n",
    "br1 = np.arange(len(Accuracy))\n",
    "br2 = [x + barWidth for x in br1]\n",
    "br3 = [x + barWidth for x in br2]\n",
    " \n",
    "# Make the plot\n",
    "plt.bar(br1, Accuracy, color ='red', width = barWidth,\n",
    "        edgecolor ='grey', label ='Accuracy')\n",
    "plt.bar(br2, Standard_Deviation, color ='green', width = barWidth,\n",
    "        edgecolor ='grey', label ='Standard Devation')\n",
    " \n",
    "# Adding Xticks\n",
    "plt.xlabel('Algorithms', fontweight ='bold', fontsize = 10)\n",
    "plt.ylabel('Accuracy (in %)', fontweight ='bold', fontsize = 10)\n",
    "plt.xticks([r + barWidth for r in range(len(Accuracy))],\n",
    "        Algorithms)\n",
    " \n",
    "plt.legend()\n",
    "plt.show()"
   ]
  },
  {
   "cell_type": "code",
   "execution_count": 75,
   "id": "6511a4e0",
   "metadata": {},
   "outputs": [
    {
     "data": {
      "text/html": [
       "<div>\n",
       "<style scoped>\n",
       "    .dataframe tbody tr th:only-of-type {\n",
       "        vertical-align: middle;\n",
       "    }\n",
       "\n",
       "    .dataframe tbody tr th {\n",
       "        vertical-align: top;\n",
       "    }\n",
       "\n",
       "    .dataframe thead th {\n",
       "        text-align: right;\n",
       "    }\n",
       "</style>\n",
       "<table border=\"1\" class=\"dataframe\">\n",
       "  <thead>\n",
       "    <tr style=\"text-align: right;\">\n",
       "      <th></th>\n",
       "      <th>State_Name</th>\n",
       "      <th>District_Name</th>\n",
       "      <th>Crop_Year</th>\n",
       "      <th>Season</th>\n",
       "      <th>Crop</th>\n",
       "      <th>Area</th>\n",
       "      <th>Production</th>\n",
       "    </tr>\n",
       "  </thead>\n",
       "  <tbody>\n",
       "    <tr>\n",
       "      <th>0</th>\n",
       "      <td>Andaman and Nicobar Islands</td>\n",
       "      <td>NICOBARS</td>\n",
       "      <td>2000</td>\n",
       "      <td>Kharif</td>\n",
       "      <td>Arecanut</td>\n",
       "      <td>1254.0</td>\n",
       "      <td>2000.0</td>\n",
       "    </tr>\n",
       "    <tr>\n",
       "      <th>1</th>\n",
       "      <td>Andaman and Nicobar Islands</td>\n",
       "      <td>NICOBARS</td>\n",
       "      <td>2000</td>\n",
       "      <td>Kharif</td>\n",
       "      <td>Other Kharif pulses</td>\n",
       "      <td>2.0</td>\n",
       "      <td>1.0</td>\n",
       "    </tr>\n",
       "    <tr>\n",
       "      <th>2</th>\n",
       "      <td>Andaman and Nicobar Islands</td>\n",
       "      <td>NICOBARS</td>\n",
       "      <td>2000</td>\n",
       "      <td>Kharif</td>\n",
       "      <td>Rice</td>\n",
       "      <td>102.0</td>\n",
       "      <td>321.0</td>\n",
       "    </tr>\n",
       "    <tr>\n",
       "      <th>3</th>\n",
       "      <td>Andaman and Nicobar Islands</td>\n",
       "      <td>NICOBARS</td>\n",
       "      <td>2000</td>\n",
       "      <td>Whole Year</td>\n",
       "      <td>Banana</td>\n",
       "      <td>176.0</td>\n",
       "      <td>641.0</td>\n",
       "    </tr>\n",
       "    <tr>\n",
       "      <th>4</th>\n",
       "      <td>Andaman and Nicobar Islands</td>\n",
       "      <td>NICOBARS</td>\n",
       "      <td>2000</td>\n",
       "      <td>Whole Year</td>\n",
       "      <td>Cashewnut</td>\n",
       "      <td>720.0</td>\n",
       "      <td>165.0</td>\n",
       "    </tr>\n",
       "    <tr>\n",
       "      <th>...</th>\n",
       "      <td>...</td>\n",
       "      <td>...</td>\n",
       "      <td>...</td>\n",
       "      <td>...</td>\n",
       "      <td>...</td>\n",
       "      <td>...</td>\n",
       "      <td>...</td>\n",
       "    </tr>\n",
       "    <tr>\n",
       "      <th>246086</th>\n",
       "      <td>West Bengal</td>\n",
       "      <td>PURULIA</td>\n",
       "      <td>2014</td>\n",
       "      <td>Summer</td>\n",
       "      <td>Rice</td>\n",
       "      <td>306.0</td>\n",
       "      <td>801.0</td>\n",
       "    </tr>\n",
       "    <tr>\n",
       "      <th>246087</th>\n",
       "      <td>West Bengal</td>\n",
       "      <td>PURULIA</td>\n",
       "      <td>2014</td>\n",
       "      <td>Summer</td>\n",
       "      <td>Sesamum</td>\n",
       "      <td>627.0</td>\n",
       "      <td>463.0</td>\n",
       "    </tr>\n",
       "    <tr>\n",
       "      <th>246088</th>\n",
       "      <td>West Bengal</td>\n",
       "      <td>PURULIA</td>\n",
       "      <td>2014</td>\n",
       "      <td>Whole Year</td>\n",
       "      <td>Sugarcane</td>\n",
       "      <td>324.0</td>\n",
       "      <td>16250.0</td>\n",
       "    </tr>\n",
       "    <tr>\n",
       "      <th>246089</th>\n",
       "      <td>West Bengal</td>\n",
       "      <td>PURULIA</td>\n",
       "      <td>2014</td>\n",
       "      <td>Winter</td>\n",
       "      <td>Rice</td>\n",
       "      <td>279151.0</td>\n",
       "      <td>597899.0</td>\n",
       "    </tr>\n",
       "    <tr>\n",
       "      <th>246090</th>\n",
       "      <td>West Bengal</td>\n",
       "      <td>PURULIA</td>\n",
       "      <td>2014</td>\n",
       "      <td>Winter</td>\n",
       "      <td>Sesamum</td>\n",
       "      <td>175.0</td>\n",
       "      <td>88.0</td>\n",
       "    </tr>\n",
       "  </tbody>\n",
       "</table>\n",
       "<p>246091 rows × 7 columns</p>\n",
       "</div>"
      ],
      "text/plain": [
       "                         State_Name District_Name  Crop_Year       Season  \\\n",
       "0       Andaman and Nicobar Islands      NICOBARS       2000  Kharif        \n",
       "1       Andaman and Nicobar Islands      NICOBARS       2000  Kharif        \n",
       "2       Andaman and Nicobar Islands      NICOBARS       2000  Kharif        \n",
       "3       Andaman and Nicobar Islands      NICOBARS       2000  Whole Year    \n",
       "4       Andaman and Nicobar Islands      NICOBARS       2000  Whole Year    \n",
       "...                             ...           ...        ...          ...   \n",
       "246086                  West Bengal       PURULIA       2014  Summer        \n",
       "246087                  West Bengal       PURULIA       2014  Summer        \n",
       "246088                  West Bengal       PURULIA       2014  Whole Year    \n",
       "246089                  West Bengal       PURULIA       2014  Winter        \n",
       "246090                  West Bengal       PURULIA       2014  Winter        \n",
       "\n",
       "                       Crop      Area  Production  \n",
       "0                  Arecanut    1254.0      2000.0  \n",
       "1       Other Kharif pulses       2.0         1.0  \n",
       "2                      Rice     102.0       321.0  \n",
       "3                    Banana     176.0       641.0  \n",
       "4                 Cashewnut     720.0       165.0  \n",
       "...                     ...       ...         ...  \n",
       "246086                 Rice     306.0       801.0  \n",
       "246087              Sesamum     627.0       463.0  \n",
       "246088            Sugarcane     324.0     16250.0  \n",
       "246089                 Rice  279151.0    597899.0  \n",
       "246090              Sesamum     175.0        88.0  \n",
       "\n",
       "[246091 rows x 7 columns]"
      ]
     },
     "execution_count": 75,
     "metadata": {},
     "output_type": "execute_result"
    }
   ],
   "source": [
    "# loading dataset\n",
    "\n",
    "crop_data=pd.read_csv(\"crop_production.csv\")\n",
    "crop_data"
   ]
  },
  {
   "cell_type": "markdown",
   "id": "cac80888",
   "metadata": {},
   "source": [
    "# EDA & visualisation-Crop_yield_capstone"
   ]
  },
  {
   "cell_type": "code",
   "execution_count": 76,
   "id": "3f2ba739",
   "metadata": {},
   "outputs": [
    {
     "data": {
      "text/html": [
       "<div>\n",
       "<style scoped>\n",
       "    .dataframe tbody tr th:only-of-type {\n",
       "        vertical-align: middle;\n",
       "    }\n",
       "\n",
       "    .dataframe tbody tr th {\n",
       "        vertical-align: top;\n",
       "    }\n",
       "\n",
       "    .dataframe thead th {\n",
       "        text-align: right;\n",
       "    }\n",
       "</style>\n",
       "<table border=\"1\" class=\"dataframe\">\n",
       "  <thead>\n",
       "    <tr style=\"text-align: right;\">\n",
       "      <th></th>\n",
       "      <th>State_Name</th>\n",
       "      <th>District_Name</th>\n",
       "      <th>Crop_Year</th>\n",
       "      <th>Season</th>\n",
       "      <th>Crop</th>\n",
       "      <th>Area</th>\n",
       "      <th>Production</th>\n",
       "    </tr>\n",
       "  </thead>\n",
       "  <tbody>\n",
       "    <tr>\n",
       "      <th>0</th>\n",
       "      <td>Andaman and Nicobar Islands</td>\n",
       "      <td>NICOBARS</td>\n",
       "      <td>2000</td>\n",
       "      <td>Kharif</td>\n",
       "      <td>Arecanut</td>\n",
       "      <td>1254.0</td>\n",
       "      <td>2000.0</td>\n",
       "    </tr>\n",
       "    <tr>\n",
       "      <th>1</th>\n",
       "      <td>Andaman and Nicobar Islands</td>\n",
       "      <td>NICOBARS</td>\n",
       "      <td>2000</td>\n",
       "      <td>Kharif</td>\n",
       "      <td>Other Kharif pulses</td>\n",
       "      <td>2.0</td>\n",
       "      <td>1.0</td>\n",
       "    </tr>\n",
       "    <tr>\n",
       "      <th>2</th>\n",
       "      <td>Andaman and Nicobar Islands</td>\n",
       "      <td>NICOBARS</td>\n",
       "      <td>2000</td>\n",
       "      <td>Kharif</td>\n",
       "      <td>Rice</td>\n",
       "      <td>102.0</td>\n",
       "      <td>321.0</td>\n",
       "    </tr>\n",
       "    <tr>\n",
       "      <th>3</th>\n",
       "      <td>Andaman and Nicobar Islands</td>\n",
       "      <td>NICOBARS</td>\n",
       "      <td>2000</td>\n",
       "      <td>Whole Year</td>\n",
       "      <td>Banana</td>\n",
       "      <td>176.0</td>\n",
       "      <td>641.0</td>\n",
       "    </tr>\n",
       "    <tr>\n",
       "      <th>4</th>\n",
       "      <td>Andaman and Nicobar Islands</td>\n",
       "      <td>NICOBARS</td>\n",
       "      <td>2000</td>\n",
       "      <td>Whole Year</td>\n",
       "      <td>Cashewnut</td>\n",
       "      <td>720.0</td>\n",
       "      <td>165.0</td>\n",
       "    </tr>\n",
       "    <tr>\n",
       "      <th>...</th>\n",
       "      <td>...</td>\n",
       "      <td>...</td>\n",
       "      <td>...</td>\n",
       "      <td>...</td>\n",
       "      <td>...</td>\n",
       "      <td>...</td>\n",
       "      <td>...</td>\n",
       "    </tr>\n",
       "    <tr>\n",
       "      <th>246086</th>\n",
       "      <td>West Bengal</td>\n",
       "      <td>PURULIA</td>\n",
       "      <td>2014</td>\n",
       "      <td>Summer</td>\n",
       "      <td>Rice</td>\n",
       "      <td>306.0</td>\n",
       "      <td>801.0</td>\n",
       "    </tr>\n",
       "    <tr>\n",
       "      <th>246087</th>\n",
       "      <td>West Bengal</td>\n",
       "      <td>PURULIA</td>\n",
       "      <td>2014</td>\n",
       "      <td>Summer</td>\n",
       "      <td>Sesamum</td>\n",
       "      <td>627.0</td>\n",
       "      <td>463.0</td>\n",
       "    </tr>\n",
       "    <tr>\n",
       "      <th>246088</th>\n",
       "      <td>West Bengal</td>\n",
       "      <td>PURULIA</td>\n",
       "      <td>2014</td>\n",
       "      <td>Whole Year</td>\n",
       "      <td>Sugarcane</td>\n",
       "      <td>324.0</td>\n",
       "      <td>16250.0</td>\n",
       "    </tr>\n",
       "    <tr>\n",
       "      <th>246089</th>\n",
       "      <td>West Bengal</td>\n",
       "      <td>PURULIA</td>\n",
       "      <td>2014</td>\n",
       "      <td>Winter</td>\n",
       "      <td>Rice</td>\n",
       "      <td>279151.0</td>\n",
       "      <td>597899.0</td>\n",
       "    </tr>\n",
       "    <tr>\n",
       "      <th>246090</th>\n",
       "      <td>West Bengal</td>\n",
       "      <td>PURULIA</td>\n",
       "      <td>2014</td>\n",
       "      <td>Winter</td>\n",
       "      <td>Sesamum</td>\n",
       "      <td>175.0</td>\n",
       "      <td>88.0</td>\n",
       "    </tr>\n",
       "  </tbody>\n",
       "</table>\n",
       "<p>246091 rows × 7 columns</p>\n",
       "</div>"
      ],
      "text/plain": [
       "                         State_Name District_Name  Crop_Year       Season  \\\n",
       "0       Andaman and Nicobar Islands      NICOBARS       2000  Kharif        \n",
       "1       Andaman and Nicobar Islands      NICOBARS       2000  Kharif        \n",
       "2       Andaman and Nicobar Islands      NICOBARS       2000  Kharif        \n",
       "3       Andaman and Nicobar Islands      NICOBARS       2000  Whole Year    \n",
       "4       Andaman and Nicobar Islands      NICOBARS       2000  Whole Year    \n",
       "...                             ...           ...        ...          ...   \n",
       "246086                  West Bengal       PURULIA       2014  Summer        \n",
       "246087                  West Bengal       PURULIA       2014  Summer        \n",
       "246088                  West Bengal       PURULIA       2014  Whole Year    \n",
       "246089                  West Bengal       PURULIA       2014  Winter        \n",
       "246090                  West Bengal       PURULIA       2014  Winter        \n",
       "\n",
       "                       Crop      Area  Production  \n",
       "0                  Arecanut    1254.0      2000.0  \n",
       "1       Other Kharif pulses       2.0         1.0  \n",
       "2                      Rice     102.0       321.0  \n",
       "3                    Banana     176.0       641.0  \n",
       "4                 Cashewnut     720.0       165.0  \n",
       "...                     ...       ...         ...  \n",
       "246086                 Rice     306.0       801.0  \n",
       "246087              Sesamum     627.0       463.0  \n",
       "246088            Sugarcane     324.0     16250.0  \n",
       "246089                 Rice  279151.0    597899.0  \n",
       "246090              Sesamum     175.0        88.0  \n",
       "\n",
       "[246091 rows x 7 columns]"
      ]
     },
     "execution_count": 76,
     "metadata": {},
     "output_type": "execute_result"
    }
   ],
   "source": [
    "# loading dataset\n",
    "\n",
    "crop_data=pd.read_csv(\"crop_production.csv\")\n",
    "crop_data"
   ]
  },
  {
   "cell_type": "code",
   "execution_count": 77,
   "id": "cdbde5e2",
   "metadata": {},
   "outputs": [
    {
     "data": {
      "text/plain": [
       "(246091, 7)"
      ]
     },
     "execution_count": 77,
     "metadata": {},
     "output_type": "execute_result"
    }
   ],
   "source": [
    "# shape of dataset(rows x columns)\n",
    "\n",
    "crop_data.shape"
   ]
  },
  {
   "cell_type": "code",
   "execution_count": 78,
   "id": "1f208987",
   "metadata": {},
   "outputs": [
    {
     "data": {
      "text/plain": [
       "Index(['State_Name', 'District_Name', 'Crop_Year', 'Season', 'Crop', 'Area',\n",
       "       'Production'],\n",
       "      dtype='object')"
      ]
     },
     "execution_count": 78,
     "metadata": {},
     "output_type": "execute_result"
    }
   ],
   "source": [
    "# names of columns in dataset\n",
    "\n",
    "crop_data.columns"
   ]
  },
  {
   "cell_type": "code",
   "execution_count": 79,
   "id": "82fe3d66",
   "metadata": {},
   "outputs": [
    {
     "data": {
      "text/html": [
       "<div>\n",
       "<style scoped>\n",
       "    .dataframe tbody tr th:only-of-type {\n",
       "        vertical-align: middle;\n",
       "    }\n",
       "\n",
       "    .dataframe tbody tr th {\n",
       "        vertical-align: top;\n",
       "    }\n",
       "\n",
       "    .dataframe thead th {\n",
       "        text-align: right;\n",
       "    }\n",
       "</style>\n",
       "<table border=\"1\" class=\"dataframe\">\n",
       "  <thead>\n",
       "    <tr style=\"text-align: right;\">\n",
       "      <th></th>\n",
       "      <th>Crop_Year</th>\n",
       "      <th>Area</th>\n",
       "      <th>Production</th>\n",
       "    </tr>\n",
       "  </thead>\n",
       "  <tbody>\n",
       "    <tr>\n",
       "      <th>count</th>\n",
       "      <td>246091.000000</td>\n",
       "      <td>2.460910e+05</td>\n",
       "      <td>2.423610e+05</td>\n",
       "    </tr>\n",
       "    <tr>\n",
       "      <th>mean</th>\n",
       "      <td>2005.643018</td>\n",
       "      <td>1.200282e+04</td>\n",
       "      <td>5.825034e+05</td>\n",
       "    </tr>\n",
       "    <tr>\n",
       "      <th>std</th>\n",
       "      <td>4.952164</td>\n",
       "      <td>5.052340e+04</td>\n",
       "      <td>1.706581e+07</td>\n",
       "    </tr>\n",
       "    <tr>\n",
       "      <th>min</th>\n",
       "      <td>1997.000000</td>\n",
       "      <td>4.000000e-02</td>\n",
       "      <td>0.000000e+00</td>\n",
       "    </tr>\n",
       "    <tr>\n",
       "      <th>25%</th>\n",
       "      <td>2002.000000</td>\n",
       "      <td>8.000000e+01</td>\n",
       "      <td>8.800000e+01</td>\n",
       "    </tr>\n",
       "    <tr>\n",
       "      <th>50%</th>\n",
       "      <td>2006.000000</td>\n",
       "      <td>5.820000e+02</td>\n",
       "      <td>7.290000e+02</td>\n",
       "    </tr>\n",
       "    <tr>\n",
       "      <th>75%</th>\n",
       "      <td>2010.000000</td>\n",
       "      <td>4.392000e+03</td>\n",
       "      <td>7.023000e+03</td>\n",
       "    </tr>\n",
       "    <tr>\n",
       "      <th>max</th>\n",
       "      <td>2015.000000</td>\n",
       "      <td>8.580100e+06</td>\n",
       "      <td>1.250800e+09</td>\n",
       "    </tr>\n",
       "  </tbody>\n",
       "</table>\n",
       "</div>"
      ],
      "text/plain": [
       "           Crop_Year          Area    Production\n",
       "count  246091.000000  2.460910e+05  2.423610e+05\n",
       "mean     2005.643018  1.200282e+04  5.825034e+05\n",
       "std         4.952164  5.052340e+04  1.706581e+07\n",
       "min      1997.000000  4.000000e-02  0.000000e+00\n",
       "25%      2002.000000  8.000000e+01  8.800000e+01\n",
       "50%      2006.000000  5.820000e+02  7.290000e+02\n",
       "75%      2010.000000  4.392000e+03  7.023000e+03\n",
       "max      2015.000000  8.580100e+06  1.250800e+09"
      ]
     },
     "execution_count": 79,
     "metadata": {},
     "output_type": "execute_result"
    }
   ],
   "source": [
    "# statistical inference of the dataset\n",
    "\n",
    "crop_data.describe()"
   ]
  },
  {
   "cell_type": "code",
   "execution_count": 80,
   "id": "23e56da6",
   "metadata": {},
   "outputs": [
    {
     "name": "stdout",
     "output_type": "stream",
     "text": [
      "['Arecanut' 'Other Kharif pulses' 'Rice' 'Banana' 'Cashewnut' 'Coconut '\n",
      " 'Dry ginger' 'Sugarcane' 'Sweet potato' 'Tapioca' 'Black pepper'\n",
      " 'Dry chillies' 'other oilseeds' 'Turmeric' 'Maize' 'Moong(Green Gram)'\n",
      " 'Urad' 'Arhar/Tur' 'Groundnut' 'Sunflower' 'Bajra' 'Castor seed'\n",
      " 'Cotton(lint)' 'Horse-gram' 'Jowar' 'Korra' 'Ragi' 'Tobacco' 'Gram'\n",
      " 'Wheat' 'Masoor' 'Sesamum' 'Linseed' 'Safflower' 'Onion'\n",
      " 'other misc. pulses' 'Samai' 'Small millets' 'Coriander' 'Potato'\n",
      " 'Other  Rabi pulses' 'Soyabean' 'Beans & Mutter(Vegetable)' 'Bhindi'\n",
      " 'Brinjal' 'Citrus Fruit' 'Cucumber' 'Grapes' 'Mango' 'Orange'\n",
      " 'other fibres' 'Other Fresh Fruits' 'Other Vegetables' 'Papaya'\n",
      " 'Pome Fruit' 'Tomato' 'Rapeseed &Mustard' 'Mesta' 'Cowpea(Lobia)' 'Lemon'\n",
      " 'Pome Granet' 'Sapota' 'Cabbage' 'Peas  (vegetable)' 'Niger seed'\n",
      " 'Bottle Gourd' 'Sannhamp' 'Varagu' 'Garlic' 'Ginger' 'Oilseeds total'\n",
      " 'Pulses total' 'Jute' 'Peas & beans (Pulses)' 'Blackgram' 'Paddy'\n",
      " 'Pineapple' 'Barley' 'Khesari' 'Guar seed' 'Moth'\n",
      " 'Other Cereals & Millets' 'Cond-spcs other' 'Turnip' 'Carrot' 'Redish'\n",
      " 'Arcanut (Processed)' 'Atcanut (Raw)' 'Cashewnut Processed'\n",
      " 'Cashewnut Raw' 'Cardamom' 'Rubber' 'Bitter Gourd' 'Drum Stick'\n",
      " 'Jack Fruit' 'Snak Guard' 'Pump Kin' 'Tea' 'Coffee' 'Cauliflower'\n",
      " 'Other Citrus Fruit' 'Water Melon' 'Total foodgrain' 'Kapas' 'Colocosia'\n",
      " 'Lentil' 'Bean' 'Jobster' 'Perilla' 'Rajmash Kholar' 'Ricebean (nagadal)'\n",
      " 'Ash Gourd' 'Beet Root' 'Lab-Lab' 'Ribed Guard' 'Yam' 'Apple' 'Peach'\n",
      " 'Pear' 'Plums' 'Litchi' 'Ber' 'Other Dry Fruit' 'Jute & mesta']\n"
     ]
    }
   ],
   "source": [
    "# viewing unique crops available in the dataset\n",
    "\n",
    "print (crop_data['Crop'].unique())"
   ]
  },
  {
   "cell_type": "code",
   "execution_count": 81,
   "id": "28c3a894",
   "metadata": {},
   "outputs": [
    {
     "name": "stdout",
     "output_type": "stream",
     "text": [
      "<class 'pandas.core.frame.DataFrame'>\n",
      "RangeIndex: 246091 entries, 0 to 246090\n",
      "Data columns (total 7 columns):\n",
      " #   Column         Non-Null Count   Dtype  \n",
      "---  ------         --------------   -----  \n",
      " 0   State_Name     246091 non-null  object \n",
      " 1   District_Name  246091 non-null  object \n",
      " 2   Crop_Year      246091 non-null  int64  \n",
      " 3   Season         246091 non-null  object \n",
      " 4   Crop           246091 non-null  object \n",
      " 5   Area           246091 non-null  float64\n",
      " 6   Production     242361 non-null  float64\n",
      "dtypes: float64(2), int64(1), object(4)\n",
      "memory usage: 13.1+ MB\n"
     ]
    }
   ],
   "source": [
    "crop_data.info()"
   ]
  },
  {
   "cell_type": "code",
   "execution_count": 82,
   "id": "7f4974ef",
   "metadata": {},
   "outputs": [
    {
     "data": {
      "text/plain": [
       "State_Name          0\n",
       "District_Name       0\n",
       "Crop_Year           0\n",
       "Season              0\n",
       "Crop                0\n",
       "Area                0\n",
       "Production       3730\n",
       "dtype: int64"
      ]
     },
     "execution_count": 82,
     "metadata": {},
     "output_type": "execute_result"
    }
   ],
   "source": [
    "# checking missing values of the dataset in each column\n",
    "\n",
    "crop_data.isna().sum()"
   ]
  },
  {
   "cell_type": "code",
   "execution_count": 83,
   "id": "170a60db",
   "metadata": {},
   "outputs": [
    {
     "data": {
      "text/html": [
       "<div>\n",
       "<style scoped>\n",
       "    .dataframe tbody tr th:only-of-type {\n",
       "        vertical-align: middle;\n",
       "    }\n",
       "\n",
       "    .dataframe tbody tr th {\n",
       "        vertical-align: top;\n",
       "    }\n",
       "\n",
       "    .dataframe thead th {\n",
       "        text-align: right;\n",
       "    }\n",
       "</style>\n",
       "<table border=\"1\" class=\"dataframe\">\n",
       "  <thead>\n",
       "    <tr style=\"text-align: right;\">\n",
       "      <th></th>\n",
       "      <th>State_Name</th>\n",
       "      <th>District_Name</th>\n",
       "      <th>Crop_Year</th>\n",
       "      <th>Season</th>\n",
       "      <th>Crop</th>\n",
       "      <th>Area</th>\n",
       "      <th>Production</th>\n",
       "    </tr>\n",
       "  </thead>\n",
       "  <tbody>\n",
       "    <tr>\n",
       "      <th>0</th>\n",
       "      <td>Andaman and Nicobar Islands</td>\n",
       "      <td>NICOBARS</td>\n",
       "      <td>2000</td>\n",
       "      <td>Kharif</td>\n",
       "      <td>Arecanut</td>\n",
       "      <td>1254.0</td>\n",
       "      <td>2000.0</td>\n",
       "    </tr>\n",
       "    <tr>\n",
       "      <th>1</th>\n",
       "      <td>Andaman and Nicobar Islands</td>\n",
       "      <td>NICOBARS</td>\n",
       "      <td>2000</td>\n",
       "      <td>Kharif</td>\n",
       "      <td>Other Kharif pulses</td>\n",
       "      <td>2.0</td>\n",
       "      <td>1.0</td>\n",
       "    </tr>\n",
       "    <tr>\n",
       "      <th>2</th>\n",
       "      <td>Andaman and Nicobar Islands</td>\n",
       "      <td>NICOBARS</td>\n",
       "      <td>2000</td>\n",
       "      <td>Kharif</td>\n",
       "      <td>Rice</td>\n",
       "      <td>102.0</td>\n",
       "      <td>321.0</td>\n",
       "    </tr>\n",
       "    <tr>\n",
       "      <th>3</th>\n",
       "      <td>Andaman and Nicobar Islands</td>\n",
       "      <td>NICOBARS</td>\n",
       "      <td>2000</td>\n",
       "      <td>Whole Year</td>\n",
       "      <td>Banana</td>\n",
       "      <td>176.0</td>\n",
       "      <td>641.0</td>\n",
       "    </tr>\n",
       "    <tr>\n",
       "      <th>4</th>\n",
       "      <td>Andaman and Nicobar Islands</td>\n",
       "      <td>NICOBARS</td>\n",
       "      <td>2000</td>\n",
       "      <td>Whole Year</td>\n",
       "      <td>Cashewnut</td>\n",
       "      <td>720.0</td>\n",
       "      <td>165.0</td>\n",
       "    </tr>\n",
       "    <tr>\n",
       "      <th>...</th>\n",
       "      <td>...</td>\n",
       "      <td>...</td>\n",
       "      <td>...</td>\n",
       "      <td>...</td>\n",
       "      <td>...</td>\n",
       "      <td>...</td>\n",
       "      <td>...</td>\n",
       "    </tr>\n",
       "    <tr>\n",
       "      <th>246086</th>\n",
       "      <td>West Bengal</td>\n",
       "      <td>PURULIA</td>\n",
       "      <td>2014</td>\n",
       "      <td>Summer</td>\n",
       "      <td>Rice</td>\n",
       "      <td>306.0</td>\n",
       "      <td>801.0</td>\n",
       "    </tr>\n",
       "    <tr>\n",
       "      <th>246087</th>\n",
       "      <td>West Bengal</td>\n",
       "      <td>PURULIA</td>\n",
       "      <td>2014</td>\n",
       "      <td>Summer</td>\n",
       "      <td>Sesamum</td>\n",
       "      <td>627.0</td>\n",
       "      <td>463.0</td>\n",
       "    </tr>\n",
       "    <tr>\n",
       "      <th>246088</th>\n",
       "      <td>West Bengal</td>\n",
       "      <td>PURULIA</td>\n",
       "      <td>2014</td>\n",
       "      <td>Whole Year</td>\n",
       "      <td>Sugarcane</td>\n",
       "      <td>324.0</td>\n",
       "      <td>16250.0</td>\n",
       "    </tr>\n",
       "    <tr>\n",
       "      <th>246089</th>\n",
       "      <td>West Bengal</td>\n",
       "      <td>PURULIA</td>\n",
       "      <td>2014</td>\n",
       "      <td>Winter</td>\n",
       "      <td>Rice</td>\n",
       "      <td>279151.0</td>\n",
       "      <td>597899.0</td>\n",
       "    </tr>\n",
       "    <tr>\n",
       "      <th>246090</th>\n",
       "      <td>West Bengal</td>\n",
       "      <td>PURULIA</td>\n",
       "      <td>2014</td>\n",
       "      <td>Winter</td>\n",
       "      <td>Sesamum</td>\n",
       "      <td>175.0</td>\n",
       "      <td>88.0</td>\n",
       "    </tr>\n",
       "  </tbody>\n",
       "</table>\n",
       "<p>242361 rows × 7 columns</p>\n",
       "</div>"
      ],
      "text/plain": [
       "                         State_Name District_Name  Crop_Year       Season  \\\n",
       "0       Andaman and Nicobar Islands      NICOBARS       2000  Kharif        \n",
       "1       Andaman and Nicobar Islands      NICOBARS       2000  Kharif        \n",
       "2       Andaman and Nicobar Islands      NICOBARS       2000  Kharif        \n",
       "3       Andaman and Nicobar Islands      NICOBARS       2000  Whole Year    \n",
       "4       Andaman and Nicobar Islands      NICOBARS       2000  Whole Year    \n",
       "...                             ...           ...        ...          ...   \n",
       "246086                  West Bengal       PURULIA       2014  Summer        \n",
       "246087                  West Bengal       PURULIA       2014  Summer        \n",
       "246088                  West Bengal       PURULIA       2014  Whole Year    \n",
       "246089                  West Bengal       PURULIA       2014  Winter        \n",
       "246090                  West Bengal       PURULIA       2014  Winter        \n",
       "\n",
       "                       Crop      Area  Production  \n",
       "0                  Arecanut    1254.0      2000.0  \n",
       "1       Other Kharif pulses       2.0         1.0  \n",
       "2                      Rice     102.0       321.0  \n",
       "3                    Banana     176.0       641.0  \n",
       "4                 Cashewnut     720.0       165.0  \n",
       "...                     ...       ...         ...  \n",
       "246086                 Rice     306.0       801.0  \n",
       "246087              Sesamum     627.0       463.0  \n",
       "246088            Sugarcane     324.0     16250.0  \n",
       "246089                 Rice  279151.0    597899.0  \n",
       "246090              Sesamum     175.0        88.0  \n",
       "\n",
       "[242361 rows x 7 columns]"
      ]
     },
     "execution_count": 83,
     "metadata": {},
     "output_type": "execute_result"
    }
   ],
   "source": [
    "# dropping missing values from dataset\n",
    "\n",
    "crop_data=crop_data.dropna()\n",
    "crop_data"
   ]
  },
  {
   "cell_type": "code",
   "execution_count": 84,
   "id": "36d3ee99",
   "metadata": {},
   "outputs": [
    {
     "data": {
      "text/plain": [
       "State_Name       0\n",
       "District_Name    0\n",
       "Crop_Year        0\n",
       "Season           0\n",
       "Crop             0\n",
       "Area             0\n",
       "Production       0\n",
       "dtype: int64"
      ]
     },
     "execution_count": 84,
     "metadata": {},
     "output_type": "execute_result"
    }
   ],
   "source": [
    "# again checking any missing value\n",
    "\n",
    "crop_data.isna().sum()"
   ]
  },
  {
   "cell_type": "code",
   "execution_count": 85,
   "id": "ca6766f8",
   "metadata": {},
   "outputs": [
    {
     "data": {
      "text/plain": [
       "array(['Andaman and Nicobar Islands', 'Andhra Pradesh',\n",
       "       'Arunachal Pradesh', 'Assam', 'Bihar', 'Chandigarh',\n",
       "       'Chhattisgarh', 'Dadra and Nagar Haveli', 'Goa', 'Gujarat',\n",
       "       'Haryana', 'Himachal Pradesh', 'Jammu and Kashmir ', 'Jharkhand',\n",
       "       'Karnataka', 'Kerala', 'Madhya Pradesh', 'Maharashtra', 'Manipur',\n",
       "       'Meghalaya', 'Mizoram', 'Nagaland', 'Odisha', 'Puducherry',\n",
       "       'Punjab', 'Rajasthan', 'Sikkim', 'Tamil Nadu', 'Telangana ',\n",
       "       'Tripura', 'Uttar Pradesh', 'Uttarakhand', 'West Bengal'],\n",
       "      dtype=object)"
      ]
     },
     "execution_count": 85,
     "metadata": {},
     "output_type": "execute_result"
    }
   ],
   "source": [
    " # displaying States names present in the dataset\n",
    "    \n",
    "crop_data.State_Name.unique()"
   ]
  },
  {
   "cell_type": "code",
   "execution_count": 86,
   "id": "76793f8f",
   "metadata": {},
   "outputs": [
    {
     "name": "stderr",
     "output_type": "stream",
     "text": [
      "C:\\Users\\ASUS\\AppData\\Local\\Temp/ipykernel_15352/927335300.py:3: SettingWithCopyWarning: \n",
      "A value is trying to be set on a copy of a slice from a DataFrame.\n",
      "Try using .loc[row_indexer,col_indexer] = value instead\n",
      "\n",
      "See the caveats in the documentation: https://pandas.pydata.org/pandas-docs/stable/user_guide/indexing.html#returning-a-view-versus-a-copy\n",
      "  crop_data['Yield'] = (crop_data['Production'] / crop_data['Area'])\n"
     ]
    },
    {
     "data": {
      "text/html": [
       "<div>\n",
       "<style scoped>\n",
       "    .dataframe tbody tr th:only-of-type {\n",
       "        vertical-align: middle;\n",
       "    }\n",
       "\n",
       "    .dataframe tbody tr th {\n",
       "        vertical-align: top;\n",
       "    }\n",
       "\n",
       "    .dataframe thead th {\n",
       "        text-align: right;\n",
       "    }\n",
       "</style>\n",
       "<table border=\"1\" class=\"dataframe\">\n",
       "  <thead>\n",
       "    <tr style=\"text-align: right;\">\n",
       "      <th></th>\n",
       "      <th>State_Name</th>\n",
       "      <th>District_Name</th>\n",
       "      <th>Crop_Year</th>\n",
       "      <th>Season</th>\n",
       "      <th>Crop</th>\n",
       "      <th>Area</th>\n",
       "      <th>Production</th>\n",
       "      <th>Yield</th>\n",
       "    </tr>\n",
       "  </thead>\n",
       "  <tbody>\n",
       "    <tr>\n",
       "      <th>0</th>\n",
       "      <td>Andaman and Nicobar Islands</td>\n",
       "      <td>NICOBARS</td>\n",
       "      <td>2000</td>\n",
       "      <td>Kharif</td>\n",
       "      <td>Arecanut</td>\n",
       "      <td>1254.0</td>\n",
       "      <td>2000.0</td>\n",
       "      <td>1.594896</td>\n",
       "    </tr>\n",
       "    <tr>\n",
       "      <th>1</th>\n",
       "      <td>Andaman and Nicobar Islands</td>\n",
       "      <td>NICOBARS</td>\n",
       "      <td>2000</td>\n",
       "      <td>Kharif</td>\n",
       "      <td>Other Kharif pulses</td>\n",
       "      <td>2.0</td>\n",
       "      <td>1.0</td>\n",
       "      <td>0.500000</td>\n",
       "    </tr>\n",
       "    <tr>\n",
       "      <th>2</th>\n",
       "      <td>Andaman and Nicobar Islands</td>\n",
       "      <td>NICOBARS</td>\n",
       "      <td>2000</td>\n",
       "      <td>Kharif</td>\n",
       "      <td>Rice</td>\n",
       "      <td>102.0</td>\n",
       "      <td>321.0</td>\n",
       "      <td>3.147059</td>\n",
       "    </tr>\n",
       "    <tr>\n",
       "      <th>3</th>\n",
       "      <td>Andaman and Nicobar Islands</td>\n",
       "      <td>NICOBARS</td>\n",
       "      <td>2000</td>\n",
       "      <td>Whole Year</td>\n",
       "      <td>Banana</td>\n",
       "      <td>176.0</td>\n",
       "      <td>641.0</td>\n",
       "      <td>3.642045</td>\n",
       "    </tr>\n",
       "    <tr>\n",
       "      <th>4</th>\n",
       "      <td>Andaman and Nicobar Islands</td>\n",
       "      <td>NICOBARS</td>\n",
       "      <td>2000</td>\n",
       "      <td>Whole Year</td>\n",
       "      <td>Cashewnut</td>\n",
       "      <td>720.0</td>\n",
       "      <td>165.0</td>\n",
       "      <td>0.229167</td>\n",
       "    </tr>\n",
       "    <tr>\n",
       "      <th>5</th>\n",
       "      <td>Andaman and Nicobar Islands</td>\n",
       "      <td>NICOBARS</td>\n",
       "      <td>2000</td>\n",
       "      <td>Whole Year</td>\n",
       "      <td>Coconut</td>\n",
       "      <td>18168.0</td>\n",
       "      <td>65100000.0</td>\n",
       "      <td>3583.223250</td>\n",
       "    </tr>\n",
       "    <tr>\n",
       "      <th>6</th>\n",
       "      <td>Andaman and Nicobar Islands</td>\n",
       "      <td>NICOBARS</td>\n",
       "      <td>2000</td>\n",
       "      <td>Whole Year</td>\n",
       "      <td>Dry ginger</td>\n",
       "      <td>36.0</td>\n",
       "      <td>100.0</td>\n",
       "      <td>2.777778</td>\n",
       "    </tr>\n",
       "    <tr>\n",
       "      <th>7</th>\n",
       "      <td>Andaman and Nicobar Islands</td>\n",
       "      <td>NICOBARS</td>\n",
       "      <td>2000</td>\n",
       "      <td>Whole Year</td>\n",
       "      <td>Sugarcane</td>\n",
       "      <td>1.0</td>\n",
       "      <td>2.0</td>\n",
       "      <td>2.000000</td>\n",
       "    </tr>\n",
       "    <tr>\n",
       "      <th>8</th>\n",
       "      <td>Andaman and Nicobar Islands</td>\n",
       "      <td>NICOBARS</td>\n",
       "      <td>2000</td>\n",
       "      <td>Whole Year</td>\n",
       "      <td>Sweet potato</td>\n",
       "      <td>5.0</td>\n",
       "      <td>15.0</td>\n",
       "      <td>3.000000</td>\n",
       "    </tr>\n",
       "    <tr>\n",
       "      <th>9</th>\n",
       "      <td>Andaman and Nicobar Islands</td>\n",
       "      <td>NICOBARS</td>\n",
       "      <td>2000</td>\n",
       "      <td>Whole Year</td>\n",
       "      <td>Tapioca</td>\n",
       "      <td>40.0</td>\n",
       "      <td>169.0</td>\n",
       "      <td>4.225000</td>\n",
       "    </tr>\n",
       "  </tbody>\n",
       "</table>\n",
       "</div>"
      ],
      "text/plain": [
       "                    State_Name District_Name  Crop_Year       Season  \\\n",
       "0  Andaman and Nicobar Islands      NICOBARS       2000  Kharif        \n",
       "1  Andaman and Nicobar Islands      NICOBARS       2000  Kharif        \n",
       "2  Andaman and Nicobar Islands      NICOBARS       2000  Kharif        \n",
       "3  Andaman and Nicobar Islands      NICOBARS       2000  Whole Year    \n",
       "4  Andaman and Nicobar Islands      NICOBARS       2000  Whole Year    \n",
       "5  Andaman and Nicobar Islands      NICOBARS       2000  Whole Year    \n",
       "6  Andaman and Nicobar Islands      NICOBARS       2000  Whole Year    \n",
       "7  Andaman and Nicobar Islands      NICOBARS       2000  Whole Year    \n",
       "8  Andaman and Nicobar Islands      NICOBARS       2000  Whole Year    \n",
       "9  Andaman and Nicobar Islands      NICOBARS       2000  Whole Year    \n",
       "\n",
       "                  Crop     Area  Production        Yield  \n",
       "0             Arecanut   1254.0      2000.0     1.594896  \n",
       "1  Other Kharif pulses      2.0         1.0     0.500000  \n",
       "2                 Rice    102.0       321.0     3.147059  \n",
       "3               Banana    176.0       641.0     3.642045  \n",
       "4            Cashewnut    720.0       165.0     0.229167  \n",
       "5             Coconut   18168.0  65100000.0  3583.223250  \n",
       "6           Dry ginger     36.0       100.0     2.777778  \n",
       "7            Sugarcane      1.0         2.0     2.000000  \n",
       "8         Sweet potato      5.0        15.0     3.000000  \n",
       "9              Tapioca     40.0       169.0     4.225000  "
      ]
     },
     "execution_count": 86,
     "metadata": {},
     "output_type": "execute_result"
    }
   ],
   "source": [
    "# Adding a new column Yield which indicate production per unit Area\n",
    "\n",
    "crop_data['Yield'] = (crop_data['Production'] / crop_data['Area'])\n",
    "crop_data.head(10)"
   ]
  },
  {
   "cell_type": "markdown",
   "id": "5b0de9b0",
   "metadata": {},
   "source": [
    "**Visualising the dataset**"
   ]
  },
  {
   "cell_type": "code",
   "execution_count": 87,
   "id": "ea53edf3",
   "metadata": {},
   "outputs": [
    {
     "name": "stderr",
     "output_type": "stream",
     "text": [
      "C:\\Users\\ASUS\\anaconda\\lib\\site-packages\\seaborn\\_decorators.py:36: FutureWarning: Pass the following variables as keyword args: x, y. From version 0.12, the only valid positional argument will be `data`, and passing other arguments without an explicit keyword will result in an error or misinterpretation.\n",
      "  warnings.warn(\n"
     ]
    },
    {
     "data": {
      "text/plain": [
       "(array([ 0,  1,  2,  3,  4,  5,  6,  7,  8,  9, 10, 11, 12, 13, 14, 15, 16,\n",
       "        17, 18, 19, 20, 21, 22, 23, 24, 25, 26, 27, 28, 29, 30, 31, 32]),\n",
       " [Text(0, 0, 'Andaman and Nicobar Islands'),\n",
       "  Text(1, 0, 'Andhra Pradesh'),\n",
       "  Text(2, 0, 'Arunachal Pradesh'),\n",
       "  Text(3, 0, 'Assam'),\n",
       "  Text(4, 0, 'Bihar'),\n",
       "  Text(5, 0, 'Chandigarh'),\n",
       "  Text(6, 0, 'Chhattisgarh'),\n",
       "  Text(7, 0, 'Dadra and Nagar Haveli'),\n",
       "  Text(8, 0, 'Goa'),\n",
       "  Text(9, 0, 'Gujarat'),\n",
       "  Text(10, 0, 'Haryana'),\n",
       "  Text(11, 0, 'Himachal Pradesh'),\n",
       "  Text(12, 0, 'Jammu and Kashmir '),\n",
       "  Text(13, 0, 'Jharkhand'),\n",
       "  Text(14, 0, 'Karnataka'),\n",
       "  Text(15, 0, 'Kerala'),\n",
       "  Text(16, 0, 'Madhya Pradesh'),\n",
       "  Text(17, 0, 'Maharashtra'),\n",
       "  Text(18, 0, 'Manipur'),\n",
       "  Text(19, 0, 'Meghalaya'),\n",
       "  Text(20, 0, 'Mizoram'),\n",
       "  Text(21, 0, 'Nagaland'),\n",
       "  Text(22, 0, 'Odisha'),\n",
       "  Text(23, 0, 'Puducherry'),\n",
       "  Text(24, 0, 'Punjab'),\n",
       "  Text(25, 0, 'Rajasthan'),\n",
       "  Text(26, 0, 'Sikkim'),\n",
       "  Text(27, 0, 'Tamil Nadu'),\n",
       "  Text(28, 0, 'Telangana '),\n",
       "  Text(29, 0, 'Tripura'),\n",
       "  Text(30, 0, 'Uttar Pradesh'),\n",
       "  Text(31, 0, 'Uttarakhand'),\n",
       "  Text(32, 0, 'West Bengal')])"
      ]
     },
     "execution_count": 87,
     "metadata": {},
     "output_type": "execute_result"
    },
    {
     "data": {
      "image/png": "[encoded data removed]",
      "text/plain": [
       "<Figure size 432x288 with 1 Axes>"
      ]
     },
     "metadata": {
      "needs_background": "light"
     },
     "output_type": "display_data"
    }
   ],
   "source": [
    "sns.barplot(crop_data[\"State_Name\"], crop_data[\"Production\"])\n",
    "plt.xticks(rotation = 90)"
   ]
  },
  {
   "cell_type": "code",
   "execution_count": 88,
   "id": "5b795ea9",
   "metadata": {},
   "outputs": [
    {
     "name": "stderr",
     "output_type": "stream",
     "text": [
      "C:\\Users\\ASUS\\anaconda\\lib\\site-packages\\seaborn\\_decorators.py:36: FutureWarning: Pass the following variables as keyword args: x, y. From version 0.12, the only valid positional argument will be `data`, and passing other arguments without an explicit keyword will result in an error or misinterpretation.\n",
      "  warnings.warn(\n"
     ]
    },
    {
     "data": {
      "text/plain": [
       "(array([ 0,  1,  2,  3,  4,  5,  6,  7,  8,  9, 10, 11, 12, 13, 14, 15, 16,\n",
       "        17, 18, 19, 20, 21, 22, 23, 24, 25, 26, 27, 28, 29, 30, 31, 32]),\n",
       " [Text(0, 0, 'Andaman and Nicobar Islands'),\n",
       "  Text(1, 0, 'Andhra Pradesh'),\n",
       "  Text(2, 0, 'Arunachal Pradesh'),\n",
       "  Text(3, 0, 'Assam'),\n",
       "  Text(4, 0, 'Bihar'),\n",
       "  Text(5, 0, 'Chandigarh'),\n",
       "  Text(6, 0, 'Chhattisgarh'),\n",
       "  Text(7, 0, 'Dadra and Nagar Haveli'),\n",
       "  Text(8, 0, 'Goa'),\n",
       "  Text(9, 0, 'Gujarat'),\n",
       "  Text(10, 0, 'Haryana'),\n",
       "  Text(11, 0, 'Himachal Pradesh'),\n",
       "  Text(12, 0, 'Jammu and Kashmir '),\n",
       "  Text(13, 0, 'Jharkhand'),\n",
       "  Text(14, 0, 'Karnataka'),\n",
       "  Text(15, 0, 'Kerala'),\n",
       "  Text(16, 0, 'Madhya Pradesh'),\n",
       "  Text(17, 0, 'Maharashtra'),\n",
       "  Text(18, 0, 'Manipur'),\n",
       "  Text(19, 0, 'Meghalaya'),\n",
       "  Text(20, 0, 'Mizoram'),\n",
       "  Text(21, 0, 'Nagaland'),\n",
       "  Text(22, 0, 'Odisha'),\n",
       "  Text(23, 0, 'Puducherry'),\n",
       "  Text(24, 0, 'Punjab'),\n",
       "  Text(25, 0, 'Rajasthan'),\n",
       "  Text(26, 0, 'Sikkim'),\n",
       "  Text(27, 0, 'Tamil Nadu'),\n",
       "  Text(28, 0, 'Telangana '),\n",
       "  Text(29, 0, 'Tripura'),\n",
       "  Text(30, 0, 'Uttar Pradesh'),\n",
       "  Text(31, 0, 'Uttarakhand'),\n",
       "  Text(32, 0, 'West Bengal')])"
      ]
     },
     "execution_count": 88,
     "metadata": {},
     "output_type": "execute_result"
    },
    {
     "data": {
      "image/png": "[encoded data removed]",
      "text/plain": [
       "<Figure size 432x288 with 1 Axes>"
      ]
     },
     "metadata": {
      "needs_background": "light"
     },
     "output_type": "display_data"
    }
   ],
   "source": [
    "sns.barplot(crop_data[\"State_Name\"], crop_data[\"Yield\"])\n",
    "plt.xticks(rotation = 90)"
   ]
  },
  {
   "cell_type": "code",
   "execution_count": 89,
   "id": "149bbb5e",
   "metadata": {},
   "outputs": [
    {
     "name": "stderr",
     "output_type": "stream",
     "text": [
      "C:\\Users\\ASUS\\anaconda\\lib\\site-packages\\seaborn\\_decorators.py:36: FutureWarning: Pass the following variables as keyword args: x, y. From version 0.12, the only valid positional argument will be `data`, and passing other arguments without an explicit keyword will result in an error or misinterpretation.\n",
      "  warnings.warn(\n"
     ]
    },
    {
     "data": {
      "text/plain": [
       "(array([ 0,  1,  2,  3,  4,  5,  6,  7,  8,  9, 10, 11, 12, 13, 14, 15, 16,\n",
       "        17, 18]),\n",
       " [Text(0, 0, '1997'),\n",
       "  Text(1, 0, '1998'),\n",
       "  Text(2, 0, '1999'),\n",
       "  Text(3, 0, '2000'),\n",
       "  Text(4, 0, '2001'),\n",
       "  Text(5, 0, '2002'),\n",
       "  Text(6, 0, '2003'),\n",
       "  Text(7, 0, '2004'),\n",
       "  Text(8, 0, '2005'),\n",
       "  Text(9, 0, '2006'),\n",
       "  Text(10, 0, '2007'),\n",
       "  Text(11, 0, '2008'),\n",
       "  Text(12, 0, '2009'),\n",
       "  Text(13, 0, '2010'),\n",
       "  Text(14, 0, '2011'),\n",
       "  Text(15, 0, '2012'),\n",
       "  Text(16, 0, '2013'),\n",
       "  Text(17, 0, '2014'),\n",
       "  Text(18, 0, '2015')])"
      ]
     },
     "execution_count": 89,
     "metadata": {},
     "output_type": "execute_result"
    },
    {
     "data": {
      "image/png": "[encoded data removed]",
      "text/plain": [
       "<Figure size 432x288 with 1 Axes>"
      ]
     },
     "metadata": {
      "needs_background": "light"
     },
     "output_type": "display_data"
    }
   ],
   "source": [
    "sns.barplot(crop_data[\"Crop_Year\"], crop_data[\"Production\"])\n",
    "plt.xticks(rotation = 90)"
   ]
  },
  {
   "cell_type": "code",
   "execution_count": 90,
   "id": "c44dd57e",
   "metadata": {},
   "outputs": [
    {
     "name": "stderr",
     "output_type": "stream",
     "text": [
      "C:\\Users\\ASUS\\anaconda\\lib\\site-packages\\seaborn\\_decorators.py:36: FutureWarning: Pass the following variables as keyword args: x, y. From version 0.12, the only valid positional argument will be `data`, and passing other arguments without an explicit keyword will result in an error or misinterpretation.\n",
      "  warnings.warn(\n"
     ]
    },
    {
     "data": {
      "text/plain": [
       "(array([ 0,  1,  2,  3,  4,  5,  6,  7,  8,  9, 10, 11, 12, 13, 14, 15, 16,\n",
       "        17, 18]),\n",
       " [Text(0, 0, '1997'),\n",
       "  Text(1, 0, '1998'),\n",
       "  Text(2, 0, '1999'),\n",
       "  Text(3, 0, '2000'),\n",
       "  Text(4, 0, '2001'),\n",
       "  Text(5, 0, '2002'),\n",
       "  Text(6, 0, '2003'),\n",
       "  Text(7, 0, '2004'),\n",
       "  Text(8, 0, '2005'),\n",
       "  Text(9, 0, '2006'),\n",
       "  Text(10, 0, '2007'),\n",
       "  Text(11, 0, '2008'),\n",
       "  Text(12, 0, '2009'),\n",
       "  Text(13, 0, '2010'),\n",
       "  Text(14, 0, '2011'),\n",
       "  Text(15, 0, '2012'),\n",
       "  Text(16, 0, '2013'),\n",
       "  Text(17, 0, '2014'),\n",
       "  Text(18, 0, '2015')])"
      ]
     },
     "execution_count": 90,
     "metadata": {},
     "output_type": "execute_result"
    },
    {
     "data": {
      "image/png": "[encoded data removed]",
      "text/plain": [
       "<Figure size 432x288 with 1 Axes>"
      ]
     },
     "metadata": {
      "needs_background": "light"
     },
     "output_type": "display_data"
    }
   ],
   "source": [
    "sns.barplot(crop_data[\"Crop_Year\"], crop_data[\"Yield\"])\n",
    "plt.xticks(rotation = 90)"
   ]
  },
  {
   "cell_type": "code",
   "execution_count": 91,
   "id": "be445375",
   "metadata": {},
   "outputs": [
    {
     "name": "stderr",
     "output_type": "stream",
     "text": [
      "C:\\Users\\ASUS\\anaconda\\lib\\site-packages\\seaborn\\_decorators.py:36: FutureWarning: Pass the following variables as keyword args: x, y. From version 0.12, the only valid positional argument will be `data`, and passing other arguments without an explicit keyword will result in an error or misinterpretation.\n",
      "  warnings.warn(\n"
     ]
    },
    {
     "data": {
      "text/plain": [
       "([0, 1, 2, 3, 4, 5],\n",
       " [Text(0, 0, ''),\n",
       "  Text(0, 0, ''),\n",
       "  Text(0, 0, ''),\n",
       "  Text(0, 0, ''),\n",
       "  Text(0, 0, ''),\n",
       "  Text(0, 0, '')])"
      ]
     },
     "execution_count": 91,
     "metadata": {},
     "output_type": "execute_result"
    },
    {
     "data": {
      "image/png": "[encoded data removed]",
      "text/plain": [
       "<Figure size 432x288 with 1 Axes>"
      ]
     },
     "metadata": {
      "needs_background": "light"
     },
     "output_type": "display_data"
    }
   ],
   "source": [
    "sns.lineplot(crop_data[\"Season\"], crop_data[\"Production\"])\n",
    "plt.xticks(rotation = 90)"
   ]
  },
  {
   "cell_type": "code",
   "execution_count": 92,
   "id": "8e4e40b4",
   "metadata": {},
   "outputs": [
    {
     "name": "stderr",
     "output_type": "stream",
     "text": [
      "C:\\Users\\ASUS\\anaconda\\lib\\site-packages\\seaborn\\_decorators.py:36: FutureWarning: Pass the following variables as keyword args: x, y. From version 0.12, the only valid positional argument will be `data`, and passing other arguments without an explicit keyword will result in an error or misinterpretation.\n",
      "  warnings.warn(\n"
     ]
    },
    {
     "data": {
      "text/plain": [
       "([0, 1, 2, 3, 4, 5],\n",
       " [Text(0, 0, ''),\n",
       "  Text(0, 0, ''),\n",
       "  Text(0, 0, ''),\n",
       "  Text(0, 0, ''),\n",
       "  Text(0, 0, ''),\n",
       "  Text(0, 0, '')])"
      ]
     },
     "execution_count": 92,
     "metadata": {},
     "output_type": "execute_result"
    },
    {
     "data": {
      "image/png": "[encoded data removed]",
      "text/plain": [
       "<Figure size 432x288 with 1 Axes>"
      ]
     },
     "metadata": {
      "needs_background": "light"
     },
     "output_type": "display_data"
    }
   ],
   "source": [
    "sns.lineplot(crop_data[\"Season\"], crop_data[\"Yield\"])\n",
    "plt.xticks(rotation = 90)"
   ]
  },
  {
   "cell_type": "code",
   "execution_count": 93,
   "id": "0167fcac",
   "metadata": {},
   "outputs": [
    {
     "name": "stderr",
     "output_type": "stream",
     "text": [
      "C:\\Users\\ASUS\\anaconda\\lib\\site-packages\\seaborn\\_decorators.py:36: FutureWarning: Pass the following variables as keyword args: x, y. From version 0.12, the only valid positional argument will be `data`, and passing other arguments without an explicit keyword will result in an error or misinterpretation.\n",
      "  warnings.warn(\n"
     ]
    },
    {
     "data": {
      "text/plain": [
       "(array([  0,   1,   2,   3,   4,   5,   6,   7,   8,   9,  10,  11,  12,\n",
       "         13,  14,  15,  16,  17,  18,  19,  20,  21,  22,  23,  24,  25,\n",
       "         26,  27,  28,  29,  30,  31,  32,  33,  34,  35,  36,  37,  38,\n",
       "         39,  40,  41,  42,  43,  44,  45,  46,  47,  48,  49,  50,  51,\n",
       "         52,  53,  54,  55,  56,  57,  58,  59,  60,  61,  62,  63,  64,\n",
       "         65,  66,  67,  68,  69,  70,  71,  72,  73,  74,  75,  76,  77,\n",
       "         78,  79,  80,  81,  82,  83,  84,  85,  86,  87,  88,  89,  90,\n",
       "         91,  92,  93,  94,  95,  96,  97,  98,  99, 100, 101, 102, 103,\n",
       "        104, 105, 106, 107, 108, 109, 110, 111, 112, 113, 114, 115, 116,\n",
       "        117, 118, 119, 120, 121, 122, 123]),\n",
       " [Text(0, 0, 'Arecanut'),\n",
       "  Text(1, 0, 'Other Kharif pulses'),\n",
       "  Text(2, 0, 'Rice'),\n",
       "  Text(3, 0, 'Banana'),\n",
       "  Text(4, 0, 'Cashewnut'),\n",
       "  Text(5, 0, 'Coconut '),\n",
       "  Text(6, 0, 'Dry ginger'),\n",
       "  Text(7, 0, 'Sugarcane'),\n",
       "  Text(8, 0, 'Sweet potato'),\n",
       "  Text(9, 0, 'Tapioca'),\n",
       "  Text(10, 0, 'Black pepper'),\n",
       "  Text(11, 0, 'Dry chillies'),\n",
       "  Text(12, 0, 'other oilseeds'),\n",
       "  Text(13, 0, 'Turmeric'),\n",
       "  Text(14, 0, 'Maize'),\n",
       "  Text(15, 0, 'Moong(Green Gram)'),\n",
       "  Text(16, 0, 'Urad'),\n",
       "  Text(17, 0, 'Arhar/Tur'),\n",
       "  Text(18, 0, 'Groundnut'),\n",
       "  Text(19, 0, 'Sunflower'),\n",
       "  Text(20, 0, 'Bajra'),\n",
       "  Text(21, 0, 'Castor seed'),\n",
       "  Text(22, 0, 'Cotton(lint)'),\n",
       "  Text(23, 0, 'Horse-gram'),\n",
       "  Text(24, 0, 'Jowar'),\n",
       "  Text(25, 0, 'Korra'),\n",
       "  Text(26, 0, 'Ragi'),\n",
       "  Text(27, 0, 'Tobacco'),\n",
       "  Text(28, 0, 'Gram'),\n",
       "  Text(29, 0, 'Wheat'),\n",
       "  Text(30, 0, 'Masoor'),\n",
       "  Text(31, 0, 'Sesamum'),\n",
       "  Text(32, 0, 'Linseed'),\n",
       "  Text(33, 0, 'Safflower'),\n",
       "  Text(34, 0, 'Onion'),\n",
       "  Text(35, 0, 'other misc. pulses'),\n",
       "  Text(36, 0, 'Samai'),\n",
       "  Text(37, 0, 'Small millets'),\n",
       "  Text(38, 0, 'Coriander'),\n",
       "  Text(39, 0, 'Potato'),\n",
       "  Text(40, 0, 'Other  Rabi pulses'),\n",
       "  Text(41, 0, 'Soyabean'),\n",
       "  Text(42, 0, 'Beans & Mutter(Vegetable)'),\n",
       "  Text(43, 0, 'Bhindi'),\n",
       "  Text(44, 0, 'Brinjal'),\n",
       "  Text(45, 0, 'Citrus Fruit'),\n",
       "  Text(46, 0, 'Cucumber'),\n",
       "  Text(47, 0, 'Grapes'),\n",
       "  Text(48, 0, 'Mango'),\n",
       "  Text(49, 0, 'Orange'),\n",
       "  Text(50, 0, 'other fibres'),\n",
       "  Text(51, 0, 'Other Fresh Fruits'),\n",
       "  Text(52, 0, 'Other Vegetables'),\n",
       "  Text(53, 0, 'Papaya'),\n",
       "  Text(54, 0, 'Pome Fruit'),\n",
       "  Text(55, 0, 'Tomato'),\n",
       "  Text(56, 0, 'Mesta'),\n",
       "  Text(57, 0, 'Cowpea(Lobia)'),\n",
       "  Text(58, 0, 'Lemon'),\n",
       "  Text(59, 0, 'Pome Granet'),\n",
       "  Text(60, 0, 'Sapota'),\n",
       "  Text(61, 0, 'Cabbage'),\n",
       "  Text(62, 0, 'Rapeseed &Mustard'),\n",
       "  Text(63, 0, 'Peas  (vegetable)'),\n",
       "  Text(64, 0, 'Niger seed'),\n",
       "  Text(65, 0, 'Bottle Gourd'),\n",
       "  Text(66, 0, 'Varagu'),\n",
       "  Text(67, 0, 'Garlic'),\n",
       "  Text(68, 0, 'Ginger'),\n",
       "  Text(69, 0, 'Oilseeds total'),\n",
       "  Text(70, 0, 'Pulses total'),\n",
       "  Text(71, 0, 'Jute'),\n",
       "  Text(72, 0, 'Peas & beans (Pulses)'),\n",
       "  Text(73, 0, 'Blackgram'),\n",
       "  Text(74, 0, 'Paddy'),\n",
       "  Text(75, 0, 'Pineapple'),\n",
       "  Text(76, 0, 'Barley'),\n",
       "  Text(77, 0, 'Sannhamp'),\n",
       "  Text(78, 0, 'Khesari'),\n",
       "  Text(79, 0, 'Guar seed'),\n",
       "  Text(80, 0, 'Moth'),\n",
       "  Text(81, 0, 'Other Cereals & Millets'),\n",
       "  Text(82, 0, 'Cond-spcs other'),\n",
       "  Text(83, 0, 'Turnip'),\n",
       "  Text(84, 0, 'Carrot'),\n",
       "  Text(85, 0, 'Redish'),\n",
       "  Text(86, 0, 'Arcanut (Processed)'),\n",
       "  Text(87, 0, 'Atcanut (Raw)'),\n",
       "  Text(88, 0, 'Cashewnut Processed'),\n",
       "  Text(89, 0, 'Cashewnut Raw'),\n",
       "  Text(90, 0, 'Cardamom'),\n",
       "  Text(91, 0, 'Rubber'),\n",
       "  Text(92, 0, 'Bitter Gourd'),\n",
       "  Text(93, 0, 'Drum Stick'),\n",
       "  Text(94, 0, 'Jack Fruit'),\n",
       "  Text(95, 0, 'Snak Guard'),\n",
       "  Text(96, 0, 'Tea'),\n",
       "  Text(97, 0, 'Coffee'),\n",
       "  Text(98, 0, 'Cauliflower'),\n",
       "  Text(99, 0, 'Other Citrus Fruit'),\n",
       "  Text(100, 0, 'Water Melon'),\n",
       "  Text(101, 0, 'Total foodgrain'),\n",
       "  Text(102, 0, 'Kapas'),\n",
       "  Text(103, 0, 'Colocosia'),\n",
       "  Text(104, 0, 'Lentil'),\n",
       "  Text(105, 0, 'Bean'),\n",
       "  Text(106, 0, 'Jobster'),\n",
       "  Text(107, 0, 'Perilla'),\n",
       "  Text(108, 0, 'Rajmash Kholar'),\n",
       "  Text(109, 0, 'Ricebean (nagadal)'),\n",
       "  Text(110, 0, 'Ash Gourd'),\n",
       "  Text(111, 0, 'Beet Root'),\n",
       "  Text(112, 0, 'Lab-Lab'),\n",
       "  Text(113, 0, 'Ribed Guard'),\n",
       "  Text(114, 0, 'Yam'),\n",
       "  Text(115, 0, 'Pump Kin'),\n",
       "  Text(116, 0, 'Apple'),\n",
       "  Text(117, 0, 'Peach'),\n",
       "  Text(118, 0, 'Pear'),\n",
       "  Text(119, 0, 'Plums'),\n",
       "  Text(120, 0, 'Litchi'),\n",
       "  Text(121, 0, 'Ber'),\n",
       "  Text(122, 0, 'Other Dry Fruit'),\n",
       "  Text(123, 0, 'Jute & mesta')])"
      ]
     },
     "execution_count": 93,
     "metadata": {},
     "output_type": "execute_result"
    },
    {
     "data": {
      "image/png": "[encoded data removed]",
      "text/plain": [
       "<Figure size 432x288 with 1 Axes>"
      ]
     },
     "metadata": {
      "needs_background": "light"
     },
     "output_type": "display_data"
    }
   ],
   "source": [
    "sns.barplot(crop_data[\"Crop\"], crop_data[\"Yield\"])\n",
    "plt.xticks(rotation = 50)"
   ]
  },
  {
   "cell_type": "code",
   "execution_count": null,
   "id": "689a1f81",
   "metadata": {},
   "outputs": [
    {
     "name": "stderr",
     "output_type": "stream",
     "text": [
      "C:\\Users\\ASUS\\anaconda\\lib\\site-packages\\seaborn\\_decorators.py:36: FutureWarning: Pass the following variables as keyword args: x, y. From version 0.12, the only valid positional argument will be `data`, and passing other arguments without an explicit keyword will result in an error or misinterpretation.\n",
      "  warnings.warn(\n"
     ]
    }
   ],
   "source": [
    "sns.jointplot(\"Area\",\"Production\",data=crop_data,kind=\"reg\")\n",
    "plt.xticks(rotation=90)"
   ]
  },
  {
   "cell_type": "markdown",
   "id": "edf6ceee",
   "metadata": {},
   "source": [
    "**Conclusions obtained from the dataset:**\n",
    "\n",
    "**1.Kerala is largest producer of crop in India.**\n",
    "\n",
    "**2.Production per unit area(Yield) of Puducherry is maximum.**\n",
    "\n",
    "**3.In the year 2011, crop yield was maximum.**\n",
    "\n",
    "**Analyzing each type of Crop**\n",
    "\n",
    "**1.RICE**"
   ]
  },
  {
   "cell_type": "code",
   "execution_count": null,
   "id": "35473bca",
   "metadata": {},
   "outputs": [],
   "source": [
    "rice_data=crop_data[crop_data[\"Crop\"]==\"Rice\"]\n",
    "rice_data"
   ]
  },
  {
   "cell_type": "code",
   "execution_count": null,
   "id": "d5418358",
   "metadata": {},
   "outputs": [],
   "source": [
    "rice_data.shape"
   ]
  },
  {
   "cell_type": "code",
   "execution_count": null,
   "id": "789f87d8",
   "metadata": {},
   "outputs": [],
   "source": [
    "sns.barplot(\"Season\",\"Yield\",data=rice_data)\n",
    "plt.xticks(rotation=90)"
   ]
  },
  {
   "cell_type": "code",
   "execution_count": null,
   "id": "dadb1f1b",
   "metadata": {},
   "outputs": [],
   "source": [
    "sns.barplot(\"State_Name\",\"Yield\",data=rice_data)\n",
    "plt.xticks(rotation=90)"
   ]
  },
  {
   "cell_type": "code",
   "execution_count": null,
   "id": "8f2cea7f",
   "metadata": {},
   "outputs": [],
   "source": [
    "sns.barplot(\"Crop_Year\",\"Production\",data=rice_data)\n",
    "plt.xticks(rotation=90)"
   ]
  },
  {
   "cell_type": "code",
   "execution_count": null,
   "id": "3fd3e6f0",
   "metadata": {},
   "outputs": [],
   "source": [
    "sns.barplot(\"Crop_Year\",\"Yield\",data=rice_data)\n",
    "plt.xticks(rotation=90)"
   ]
  },
  {
   "cell_type": "code",
   "execution_count": null,
   "id": "fbf1cc6f",
   "metadata": {},
   "outputs": [],
   "source": [
    "sns.jointplot(\"Area\",\"Production\",data=rice_data,kind=\"reg\")\n",
    "plt.xticks(rotation=90)"
   ]
  },
  {
   "cell_type": "markdown",
   "id": "054c4bb4",
   "metadata": {},
   "source": [
    "**Observations:**\n",
    "\n",
    "**1.Rice yield is maximum in Rabi season.**\n",
    "\n",
    "**2.Rice yield is maximum in Chandigarh.**\n",
    "\n",
    "**3.Rice yield has been growing a little from the year 2009 to 2014.**\n",
    "\n",
    "**WHEAT**"
   ]
  },
  {
   "cell_type": "code",
   "execution_count": null,
   "id": "c868bc57",
   "metadata": {},
   "outputs": [],
   "source": [
    "wheat_data=crop_data[crop_data[\"Crop\"]==\"Wheat\"]\n",
    "wheat_data"
   ]
  },
  {
   "cell_type": "code",
   "execution_count": null,
   "id": "f73bb726",
   "metadata": {},
   "outputs": [],
   "source": [
    "sns.barplot(\"Season\",\"Yield\",data=wheat_data)"
   ]
  },
  {
   "cell_type": "code",
   "execution_count": null,
   "id": "618eb01d",
   "metadata": {},
   "outputs": [],
   "source": [
    "sns.barplot(\"State_Name\",\"Production\",data=wheat_data)\n",
    "plt.xticks(rotation=90)"
   ]
  },
  {
   "cell_type": "code",
   "execution_count": null,
   "id": "e84a8817",
   "metadata": {},
   "outputs": [],
   "source": [
    "sns.barplot(\"Crop_Year\",\"Yield\",data=wheat_data)\n",
    "plt.xticks(rotation=90)\n"
   ]
  },
  {
   "cell_type": "code",
   "execution_count": null,
   "id": "340b788a",
   "metadata": {},
   "outputs": [],
   "source": [
    "sns.jointplot(\"Area\",\"Production\",data=wheat_data,kind=\"reg\")\n",
    "plt.xticks(rotation=90)"
   ]
  },
  {
   "cell_type": "markdown",
   "id": "4412be2e",
   "metadata": {},
   "source": [
    "**Observations:**\n",
    "\n",
    "**1.Wheat yield is maximum in Rabi season.**\n",
    "\n",
    "**2.Wheat yield is maximum in Punjab.**\n",
    "\n",
    "**3.Wheat yield has been growing a little from the year 2005 to 2012 and after that it is decreasing continuosly.**\n",
    "\n",
    "**URAD**"
   ]
  },
  {
   "cell_type": "code",
   "execution_count": null,
   "id": "28471dd2",
   "metadata": {},
   "outputs": [],
   "source": [
    "urad_data=crop_data[crop_data[\"Crop\"]==\"Urad\"]\n",
    "urad_data"
   ]
  },
  {
   "cell_type": "code",
   "execution_count": null,
   "id": "7cb672b7",
   "metadata": {},
   "outputs": [],
   "source": [
    "sns.barplot(\"Season\",\"Yield\",data=urad_data)"
   ]
  },
  {
   "cell_type": "code",
   "execution_count": null,
   "id": "8862e77c",
   "metadata": {},
   "outputs": [],
   "source": [
    "sns.barplot(\"State_Name\",\"Production\",data=urad_data)\n",
    "plt.xticks(rotation=90)"
   ]
  },
  {
   "cell_type": "code",
   "execution_count": null,
   "id": "c312af6a",
   "metadata": {},
   "outputs": [],
   "source": [
    "sns.barplot(\"Crop_Year\",\"Yield\",data=urad_data)\n",
    "plt.xticks(rotation=90)"
   ]
  },
  {
   "cell_type": "code",
   "execution_count": null,
   "id": "20d49a65",
   "metadata": {},
   "outputs": [],
   "source": [
    "sns.jointplot(\"Area\",\"Production\",data=urad_data,kind=\"reg\")\n",
    "plt.xticks(rotation=90)"
   ]
  },
  {
   "cell_type": "markdown",
   "id": "b26b4435",
   "metadata": {},
   "source": [
    "**Observations:**\n",
    "\n",
    "**1.Urad yield is produced whole year.**\n",
    "\n",
    "**2.Urad is highly produecd in Andhra Pradesh.**\n",
    "\n",
    "**3.Urad has its minimum production in the year 2015.**"
   ]
  }
 ],
 "metadata": {
  "kernelspec": {
   "display_name": "Python 3 (ipykernel)",
   "language": "python",
   "name": "python3"
  },
  "language_info": {
   "codemirror_mode": {
    "name": "ipython",
    "version": 3
   },
   "file_extension": ".py",
   "mimetype": "text/x-python",
   "name": "python",
   "nbconvert_exporter": "python",
   "pygments_lexer": "ipython3",
   "version": "3.9.7"
  }
 },
 "nbformat": 4,
 "nbformat_minor": 5
}
